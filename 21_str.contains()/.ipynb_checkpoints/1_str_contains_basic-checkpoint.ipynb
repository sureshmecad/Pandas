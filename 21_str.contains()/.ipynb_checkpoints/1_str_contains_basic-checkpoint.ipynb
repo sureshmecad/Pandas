{
 "cells": [
  {
   "cell_type": "markdown",
   "metadata": {
    "id": "sdNc9nrbXdFv"
   },
   "source": [
    "- https://datatofish.com/substring-pandas-dataframe/"
   ]
  },
  {
   "cell_type": "markdown",
   "metadata": {
    "id": "ONiiej4b5eXj"
   },
   "source": [
    "#### **Pandas Series.str.contains()**"
   ]
  },
  {
   "cell_type": "markdown",
   "metadata": {
    "id": "UMMk0sK95m7o"
   },
   "source": [
    "#### **Syntax: Series.str.contains(pat, case=True, flags=0, na=nan, regex=True)**\n",
    "\n",
    "#### **Parameter :**\n",
    "\n",
    " - **pat :** Character sequence or regular expression.\n",
    "\n",
    " - **case :** If **True**, **case sensitive.**\n",
    "\n",
    " - **flags :** Flags to pass through to the re module, e.g. re.IGNORECASE. \n",
    "\n",
    " - **na :** Fill value for **missing values.**\n",
    "\n",
    " - **regex :** If True, assumes the pat is a regular expression.\n",
    "\n",
    " - **Returns :** Series or Index of boolean values "
   ]
  },
  {
   "cell_type": "code",
   "execution_count": null,
   "metadata": {
    "id": "PDR2p-IgFYCM"
   },
   "outputs": [],
   "source": [
    "import pandas as pd\n",
    "import numpy as np"
   ]
  },
  {
   "cell_type": "code",
   "execution_count": null,
   "metadata": {
    "colab": {
     "base_uri": "https://localhost:8080/"
    },
    "id": "isarkFU74_4z",
    "outputId": "9bee296f-ae1a-4fe1-af0d-97f925abe44c"
   },
   "outputs": [
    {
     "name": "stdout",
     "output_type": "stream",
     "text": [
      "City 1    New_York\n",
      "City 2      Lisbon\n",
      "City 3       Tokyo\n",
      "City 4       Paris\n",
      "City 5      Munich\n",
      "dtype: object\n"
     ]
    }
   ],
   "source": [
    "# importing re for regular expressions\n",
    "import re\n",
    " \n",
    "# Creating the Series\n",
    "sr = pd.Series(['New_York', 'Lisbon', 'Tokyo', 'Paris', 'Munich'])\n",
    " \n",
    "# Creating the index\n",
    "idx = ['City 1', 'City 2', 'City 3', 'City 4', 'City 5']\n",
    " \n",
    "# set the index\n",
    "sr.index = idx\n",
    " \n",
    "# Print the series\n",
    "print(sr)"
   ]
  },
  {
   "cell_type": "markdown",
   "metadata": {
    "id": "XVtw9_E7JJL6"
   },
   "source": [
    "### **1) Letter followed by alphabet**"
   ]
  },
  {
   "cell_type": "code",
   "execution_count": null,
   "metadata": {
    "colab": {
     "base_uri": "https://localhost:8080/"
    },
    "id": "Bc_17txODa7K",
    "outputId": "351d9fa0-1dd8-4cc6-ff9e-00e4f1b6ccdf"
   },
   "outputs": [
    {
     "name": "stdout",
     "output_type": "stream",
     "text": [
      "City 1    False\n",
      "City 2     True\n",
      "City 3    False\n",
      "City 4     True\n",
      "City 5     True\n",
      "dtype: bool\n"
     ]
    }
   ],
   "source": [
    "# find if there is a substring such that it has the letter 'i' follwed by any small alphabet.\n",
    "result = sr.str.contains(pat = 'i[a-z]', regex = True)\n",
    " \n",
    "# print the result\n",
    "print(result)"
   ]
  },
  {
   "cell_type": "markdown",
   "metadata": {
    "id": "zTWbOZwGFQFI"
   },
   "source": [
    "### **2) Search pandas column with string contains and does not contain**"
   ]
  },
  {
   "cell_type": "code",
   "execution_count": null,
   "metadata": {
    "colab": {
     "base_uri": "https://localhost:8080/",
     "height": 110
    },
    "id": "iNrp18U_FO4P",
    "outputId": "6990f0ef-aeaf-407a-aea0-7231f32cff45"
   },
   "outputs": [
    {
     "data": {
      "text/html": [
       "<div>\n",
       "<style scoped>\n",
       "    .dataframe tbody tr th:only-of-type {\n",
       "        vertical-align: middle;\n",
       "    }\n",
       "\n",
       "    .dataframe tbody tr th {\n",
       "        vertical-align: top;\n",
       "    }\n",
       "\n",
       "    .dataframe thead th {\n",
       "        text-align: right;\n",
       "    }\n",
       "</style>\n",
       "<table border=\"1\" class=\"dataframe\">\n",
       "  <thead>\n",
       "    <tr style=\"text-align: right;\">\n",
       "      <th></th>\n",
       "      <th>name</th>\n",
       "      <th>age</th>\n",
       "      <th>favorite_color</th>\n",
       "      <th>grade</th>\n",
       "    </tr>\n",
       "  </thead>\n",
       "  <tbody>\n",
       "    <tr>\n",
       "      <th>Willard Morris</th>\n",
       "      <td>Willard Morris</td>\n",
       "      <td>20</td>\n",
       "      <td>blue</td>\n",
       "      <td>88</td>\n",
       "    </tr>\n",
       "    <tr>\n",
       "      <th>Al Jennings</th>\n",
       "      <td>Al Jennings</td>\n",
       "      <td>19</td>\n",
       "      <td>red</td>\n",
       "      <td>92</td>\n",
       "    </tr>\n",
       "  </tbody>\n",
       "</table>\n",
       "</div>"
      ],
      "text/plain": [
       "                          name  age favorite_color  grade\n",
       "Willard Morris  Willard Morris   20           blue     88\n",
       "Al Jennings        Al Jennings   19            red     92"
      ]
     },
     "execution_count": 4,
     "metadata": {
      "tags": []
     },
     "output_type": "execute_result"
    }
   ],
   "source": [
    "# create a dataframe\n",
    "raw_data = {'name': ['Willard Morris', 'Al Jennings'],\n",
    "            'age': [20, 19],\n",
    "            'favorite_color': ['blue', 'red'],\n",
    "            'grade': [88, 92],\n",
    "            'grade': [88, 92]}\n",
    "\n",
    "df = pd.DataFrame(raw_data, index = ['Willard Morris', 'Al Jennings'])\n",
    "df"
   ]
  },
  {
   "cell_type": "markdown",
   "metadata": {
    "id": "HNzYqT4_F9tY"
   },
   "source": [
    "#### **2.1) Search pandas column with string contains**"
   ]
  },
  {
   "cell_type": "code",
   "execution_count": null,
   "metadata": {
    "colab": {
     "base_uri": "https://localhost:8080/",
     "height": 78
    },
    "id": "VPkWAjY9F36q",
    "outputId": "68238ac9-c782-4ff9-9856-084030483e74"
   },
   "outputs": [
    {
     "data": {
      "text/html": [
       "<div>\n",
       "<style scoped>\n",
       "    .dataframe tbody tr th:only-of-type {\n",
       "        vertical-align: middle;\n",
       "    }\n",
       "\n",
       "    .dataframe tbody tr th {\n",
       "        vertical-align: top;\n",
       "    }\n",
       "\n",
       "    .dataframe thead th {\n",
       "        text-align: right;\n",
       "    }\n",
       "</style>\n",
       "<table border=\"1\" class=\"dataframe\">\n",
       "  <thead>\n",
       "    <tr style=\"text-align: right;\">\n",
       "      <th></th>\n",
       "      <th>name</th>\n",
       "      <th>age</th>\n",
       "      <th>favorite_color</th>\n",
       "      <th>grade</th>\n",
       "    </tr>\n",
       "  </thead>\n",
       "  <tbody>\n",
       "    <tr>\n",
       "      <th>Willard Morris</th>\n",
       "      <td>Willard Morris</td>\n",
       "      <td>20</td>\n",
       "      <td>blue</td>\n",
       "      <td>88</td>\n",
       "    </tr>\n",
       "  </tbody>\n",
       "</table>\n",
       "</div>"
      ],
      "text/plain": [
       "                          name  age favorite_color  grade\n",
       "Willard Morris  Willard Morris   20           blue     88"
      ]
     },
     "execution_count": 5,
     "metadata": {
      "tags": []
     },
     "output_type": "execute_result"
    }
   ],
   "source": [
    "# here we can count the number of distinct users viewing on a given day\n",
    "new_df = df[df['name'].str.contains('Morris', na=False)]\n",
    "new_df.head()"
   ]
  },
  {
   "cell_type": "markdown",
   "metadata": {
    "id": "n8txNNl1GUFk"
   },
   "source": [
    "#### **2.2) Search pandas column with string does not contain**"
   ]
  },
  {
   "cell_type": "code",
   "execution_count": null,
   "metadata": {
    "colab": {
     "base_uri": "https://localhost:8080/",
     "height": 78
    },
    "id": "ypFWArS7GXCL",
    "outputId": "cafe00ef-fac5-45d3-d4a8-56ccdf926628"
   },
   "outputs": [
    {
     "data": {
      "text/html": [
       "<div>\n",
       "<style scoped>\n",
       "    .dataframe tbody tr th:only-of-type {\n",
       "        vertical-align: middle;\n",
       "    }\n",
       "\n",
       "    .dataframe tbody tr th {\n",
       "        vertical-align: top;\n",
       "    }\n",
       "\n",
       "    .dataframe thead th {\n",
       "        text-align: right;\n",
       "    }\n",
       "</style>\n",
       "<table border=\"1\" class=\"dataframe\">\n",
       "  <thead>\n",
       "    <tr style=\"text-align: right;\">\n",
       "      <th></th>\n",
       "      <th>name</th>\n",
       "      <th>age</th>\n",
       "      <th>favorite_color</th>\n",
       "      <th>grade</th>\n",
       "    </tr>\n",
       "  </thead>\n",
       "  <tbody>\n",
       "    <tr>\n",
       "      <th>Al Jennings</th>\n",
       "      <td>Al Jennings</td>\n",
       "      <td>19</td>\n",
       "      <td>red</td>\n",
       "      <td>92</td>\n",
       "    </tr>\n",
       "  </tbody>\n",
       "</table>\n",
       "</div>"
      ],
      "text/plain": [
       "                    name  age favorite_color  grade\n",
       "Al Jennings  Al Jennings   19            red     92"
      ]
     },
     "execution_count": 6,
     "metadata": {
      "tags": []
     },
     "output_type": "execute_result"
    }
   ],
   "source": [
    "# here we can count the number of distinct users viewing on a given day\n",
    "new_df2 = df[~df['name'].str.contains('Morris', na=False)]\n",
    "new_df2.head()"
   ]
  },
  {
   "cell_type": "markdown",
   "metadata": {
    "id": "-yxCT8hdI7B7"
   },
   "source": [
    "### **3) case = True / False**"
   ]
  },
  {
   "cell_type": "code",
   "execution_count": null,
   "metadata": {
    "colab": {
     "base_uri": "https://localhost:8080/"
    },
    "id": "Se2D0j3gHwLG",
    "outputId": "0e40b9b8-5346-4d87-92c8-53f33216e017"
   },
   "outputs": [
    {
     "name": "stdout",
     "output_type": "stream",
     "text": [
      "   id     name   class  mark\n",
      "0   1    $John    Four    75\n",
      "1   2     Ma51   Three    85\n",
      "2   3  Arnold1  #Three    55\n",
      "3   4   Krish0    Four    60\n",
      "4   5     Roni   7Four    60\n",
      "5   6    Krish   Four,    60\n",
      "6   7      Max  %Three    85\n"
     ]
    }
   ],
   "source": [
    "my_dict = {'id':[1,2,3,4,5,6,7],\n",
    "           'name':['$John','Ma51','Arnold1','Krish0','Roni','Krish','Max'],\n",
    "           'class':['Four','Three','#Three','Four','7Four','Four,','%Three'],\n",
    "           'mark':[75,85,55,60,60,60,85]\n",
    "           }\n",
    "\n",
    "df1 = pd.DataFrame(data = my_dict)\n",
    "print(df1)"
   ]
  },
  {
   "cell_type": "code",
   "execution_count": null,
   "metadata": {
    "id": "OB44SY-FQeyI"
   },
   "outputs": [],
   "source": [
    "df2 = df1.copy()\n",
    "df3 = df1.copy()"
   ]
  },
  {
   "cell_type": "markdown",
   "metadata": {
    "id": "7wHL4ofRIJGk"
   },
   "source": [
    "- We will use **contains()** to get only rows having **ar** in **name column**.\n",
    "\n",
    "- We used the option **case=False** so this is a **case insensitive** matching.\n",
    "\n",
    "- You can make it **case sensitive** by changing case option to **case=True**"
   ]
  },
  {
   "cell_type": "code",
   "execution_count": null,
   "metadata": {
    "colab": {
     "base_uri": "https://localhost:8080/",
     "height": 78
    },
    "id": "XTBuagsgHwHN",
    "outputId": "66762d2c-7a75-4579-c7f6-d7fffa5e4586"
   },
   "outputs": [
    {
     "data": {
      "text/html": [
       "<div>\n",
       "<style scoped>\n",
       "    .dataframe tbody tr th:only-of-type {\n",
       "        vertical-align: middle;\n",
       "    }\n",
       "\n",
       "    .dataframe tbody tr th {\n",
       "        vertical-align: top;\n",
       "    }\n",
       "\n",
       "    .dataframe thead th {\n",
       "        text-align: right;\n",
       "    }\n",
       "</style>\n",
       "<table border=\"1\" class=\"dataframe\">\n",
       "  <thead>\n",
       "    <tr style=\"text-align: right;\">\n",
       "      <th></th>\n",
       "      <th>id</th>\n",
       "      <th>name</th>\n",
       "      <th>class</th>\n",
       "      <th>mark</th>\n",
       "    </tr>\n",
       "  </thead>\n",
       "  <tbody>\n",
       "    <tr>\n",
       "      <th>2</th>\n",
       "      <td>3</td>\n",
       "      <td>Arnold1</td>\n",
       "      <td>#Three</td>\n",
       "      <td>55</td>\n",
       "    </tr>\n",
       "  </tbody>\n",
       "</table>\n",
       "</div>"
      ],
      "text/plain": [
       "   id     name   class  mark\n",
       "2   3  Arnold1  #Three    55"
      ]
     },
     "execution_count": 9,
     "metadata": {
      "tags": []
     },
     "output_type": "execute_result"
    }
   ],
   "source": [
    "ar = df1[df1['name'].str.contains('ar', case=False)]\n",
    "ar"
   ]
  },
  {
   "cell_type": "markdown",
   "metadata": {
    "id": "FlgOrbkvKhxI"
   },
   "source": [
    "### **4) regex=True | False**"
   ]
  },
  {
   "cell_type": "markdown",
   "metadata": {
    "id": "xhxLrdbNKmEH"
   },
   "source": [
    "- We can use regular expression pattern matching by setting the option **regex=True**.\n",
    "\n",
    "- We will collect rows where **name** column is **starting with A or K**"
   ]
  },
  {
   "cell_type": "code",
   "execution_count": null,
   "metadata": {
    "colab": {
     "base_uri": "https://localhost:8080/",
     "height": 141
    },
    "id": "hXTVVTMBK4TD",
    "outputId": "dda6edf8-361d-48b6-9c2f-e884ab2881c4"
   },
   "outputs": [
    {
     "data": {
      "text/html": [
       "<div>\n",
       "<style scoped>\n",
       "    .dataframe tbody tr th:only-of-type {\n",
       "        vertical-align: middle;\n",
       "    }\n",
       "\n",
       "    .dataframe tbody tr th {\n",
       "        vertical-align: top;\n",
       "    }\n",
       "\n",
       "    .dataframe thead th {\n",
       "        text-align: right;\n",
       "    }\n",
       "</style>\n",
       "<table border=\"1\" class=\"dataframe\">\n",
       "  <thead>\n",
       "    <tr style=\"text-align: right;\">\n",
       "      <th></th>\n",
       "      <th>id</th>\n",
       "      <th>name</th>\n",
       "      <th>class</th>\n",
       "      <th>mark</th>\n",
       "    </tr>\n",
       "  </thead>\n",
       "  <tbody>\n",
       "    <tr>\n",
       "      <th>2</th>\n",
       "      <td>3</td>\n",
       "      <td>Arnold1</td>\n",
       "      <td>#Three</td>\n",
       "      <td>55</td>\n",
       "    </tr>\n",
       "    <tr>\n",
       "      <th>3</th>\n",
       "      <td>4</td>\n",
       "      <td>Krish0</td>\n",
       "      <td>Four</td>\n",
       "      <td>60</td>\n",
       "    </tr>\n",
       "    <tr>\n",
       "      <th>5</th>\n",
       "      <td>6</td>\n",
       "      <td>Krish</td>\n",
       "      <td>Four,</td>\n",
       "      <td>60</td>\n",
       "    </tr>\n",
       "  </tbody>\n",
       "</table>\n",
       "</div>"
      ],
      "text/plain": [
       "   id     name   class  mark\n",
       "2   3  Arnold1  #Three    55\n",
       "3   4   Krish0    Four    60\n",
       "5   6    Krish   Four,    60"
      ]
     },
     "execution_count": 10,
     "metadata": {
      "tags": []
     },
     "output_type": "execute_result"
    }
   ],
   "source": [
    "AK = df1[df1['name'].str.contains('^[AK]', case=True, regex=True)]\n",
    "AK"
   ]
  },
  {
   "cell_type": "markdown",
   "metadata": {
    "id": "Z6nQGjJrL66t"
   },
   "source": [
    "#### **a) Name column ending with h**"
   ]
  },
  {
   "cell_type": "code",
   "execution_count": null,
   "metadata": {
    "colab": {
     "base_uri": "https://localhost:8080/",
     "height": 78
    },
    "id": "SKodSKA9L9yb",
    "outputId": "90aa1c42-53c1-41e1-d4b3-4a1c5d376e2e"
   },
   "outputs": [
    {
     "data": {
      "text/html": [
       "<div>\n",
       "<style scoped>\n",
       "    .dataframe tbody tr th:only-of-type {\n",
       "        vertical-align: middle;\n",
       "    }\n",
       "\n",
       "    .dataframe tbody tr th {\n",
       "        vertical-align: top;\n",
       "    }\n",
       "\n",
       "    .dataframe thead th {\n",
       "        text-align: right;\n",
       "    }\n",
       "</style>\n",
       "<table border=\"1\" class=\"dataframe\">\n",
       "  <thead>\n",
       "    <tr style=\"text-align: right;\">\n",
       "      <th></th>\n",
       "      <th>id</th>\n",
       "      <th>name</th>\n",
       "      <th>class</th>\n",
       "      <th>mark</th>\n",
       "    </tr>\n",
       "  </thead>\n",
       "  <tbody>\n",
       "    <tr>\n",
       "      <th>5</th>\n",
       "      <td>6</td>\n",
       "      <td>Krish</td>\n",
       "      <td>Four,</td>\n",
       "      <td>60</td>\n",
       "    </tr>\n",
       "  </tbody>\n",
       "</table>\n",
       "</div>"
      ],
      "text/plain": [
       "   id   name  class  mark\n",
       "5   6  Krish  Four,    60"
      ]
     },
     "execution_count": 11,
     "metadata": {
      "tags": []
     },
     "output_type": "execute_result"
    }
   ],
   "source": [
    "h = df1[df1['name'].str.contains('h$', case=True, regex=True)]\n",
    "h"
   ]
  },
  {
   "cell_type": "markdown",
   "metadata": {
    "id": "cZ1hjKutMXHC"
   },
   "source": [
    "#### **b) Name column ending with h or n**"
   ]
  },
  {
   "cell_type": "code",
   "execution_count": null,
   "metadata": {
    "colab": {
     "base_uri": "https://localhost:8080/",
     "height": 110
    },
    "id": "wKjB6L7GMaTK",
    "outputId": "9ceb5e19-7b90-4d2a-9403-440c6b60b451"
   },
   "outputs": [
    {
     "data": {
      "text/html": [
       "<div>\n",
       "<style scoped>\n",
       "    .dataframe tbody tr th:only-of-type {\n",
       "        vertical-align: middle;\n",
       "    }\n",
       "\n",
       "    .dataframe tbody tr th {\n",
       "        vertical-align: top;\n",
       "    }\n",
       "\n",
       "    .dataframe thead th {\n",
       "        text-align: right;\n",
       "    }\n",
       "</style>\n",
       "<table border=\"1\" class=\"dataframe\">\n",
       "  <thead>\n",
       "    <tr style=\"text-align: right;\">\n",
       "      <th></th>\n",
       "      <th>id</th>\n",
       "      <th>name</th>\n",
       "      <th>class</th>\n",
       "      <th>mark</th>\n",
       "    </tr>\n",
       "  </thead>\n",
       "  <tbody>\n",
       "    <tr>\n",
       "      <th>0</th>\n",
       "      <td>1</td>\n",
       "      <td>$John</td>\n",
       "      <td>Four</td>\n",
       "      <td>75</td>\n",
       "    </tr>\n",
       "    <tr>\n",
       "      <th>5</th>\n",
       "      <td>6</td>\n",
       "      <td>Krish</td>\n",
       "      <td>Four,</td>\n",
       "      <td>60</td>\n",
       "    </tr>\n",
       "  </tbody>\n",
       "</table>\n",
       "</div>"
      ],
      "text/plain": [
       "   id   name  class  mark\n",
       "0   1  $John   Four    75\n",
       "5   6  Krish  Four,    60"
      ]
     },
     "execution_count": 12,
     "metadata": {
      "tags": []
     },
     "output_type": "execute_result"
    }
   ],
   "source": [
    "HN = df1[df1['name'].str.contains('[hn]$', case=True, regex=True)]\n",
    "HN"
   ]
  },
  {
   "cell_type": "markdown",
   "metadata": {
    "id": "F7CMqOFGM87Y"
   },
   "source": [
    "#### **c) Name column not having ar**"
   ]
  },
  {
   "cell_type": "code",
   "execution_count": null,
   "metadata": {
    "colab": {
     "base_uri": "https://localhost:8080/",
     "height": 232
    },
    "id": "KVRv0fpNM_eu",
    "outputId": "ce9910ad-9a1a-4be8-c39e-5b4a060d2c54"
   },
   "outputs": [
    {
     "data": {
      "text/html": [
       "<div>\n",
       "<style scoped>\n",
       "    .dataframe tbody tr th:only-of-type {\n",
       "        vertical-align: middle;\n",
       "    }\n",
       "\n",
       "    .dataframe tbody tr th {\n",
       "        vertical-align: top;\n",
       "    }\n",
       "\n",
       "    .dataframe thead th {\n",
       "        text-align: right;\n",
       "    }\n",
       "</style>\n",
       "<table border=\"1\" class=\"dataframe\">\n",
       "  <thead>\n",
       "    <tr style=\"text-align: right;\">\n",
       "      <th></th>\n",
       "      <th>id</th>\n",
       "      <th>name</th>\n",
       "      <th>class</th>\n",
       "      <th>mark</th>\n",
       "    </tr>\n",
       "  </thead>\n",
       "  <tbody>\n",
       "    <tr>\n",
       "      <th>0</th>\n",
       "      <td>1</td>\n",
       "      <td>$John</td>\n",
       "      <td>Four</td>\n",
       "      <td>75</td>\n",
       "    </tr>\n",
       "    <tr>\n",
       "      <th>1</th>\n",
       "      <td>2</td>\n",
       "      <td>Ma51</td>\n",
       "      <td>Three</td>\n",
       "      <td>85</td>\n",
       "    </tr>\n",
       "    <tr>\n",
       "      <th>3</th>\n",
       "      <td>4</td>\n",
       "      <td>Krish0</td>\n",
       "      <td>Four</td>\n",
       "      <td>60</td>\n",
       "    </tr>\n",
       "    <tr>\n",
       "      <th>4</th>\n",
       "      <td>5</td>\n",
       "      <td>Roni</td>\n",
       "      <td>7Four</td>\n",
       "      <td>60</td>\n",
       "    </tr>\n",
       "    <tr>\n",
       "      <th>5</th>\n",
       "      <td>6</td>\n",
       "      <td>Krish</td>\n",
       "      <td>Four,</td>\n",
       "      <td>60</td>\n",
       "    </tr>\n",
       "    <tr>\n",
       "      <th>6</th>\n",
       "      <td>7</td>\n",
       "      <td>Max</td>\n",
       "      <td>%Three</td>\n",
       "      <td>85</td>\n",
       "    </tr>\n",
       "  </tbody>\n",
       "</table>\n",
       "</div>"
      ],
      "text/plain": [
       "   id    name   class  mark\n",
       "0   1   $John    Four    75\n",
       "1   2    Ma51   Three    85\n",
       "3   4  Krish0    Four    60\n",
       "4   5    Roni   7Four    60\n",
       "5   6   Krish   Four,    60\n",
       "6   7     Max  %Three    85"
      ]
     },
     "execution_count": 13,
     "metadata": {
      "tags": []
     },
     "output_type": "execute_result"
    }
   ],
   "source": [
    "AR = df1[~df1['name'].str.contains('ar', case=False)]\n",
    "AR"
   ]
  },
  {
   "cell_type": "code",
   "execution_count": null,
   "metadata": {
    "colab": {
     "base_uri": "https://localhost:8080/",
     "height": 298
    },
    "id": "R6seyUHTNZLv",
    "outputId": "d0fb7cca-0546-4f1e-8114-e2e35feab23b"
   },
   "outputs": [
    {
     "name": "stderr",
     "output_type": "stream",
     "text": [
      "/usr/local/lib/python3.7/dist-packages/pandas/core/strings.py:2001: UserWarning: This pattern has match groups. To actually get the groups, use str.extract.\n",
      "  return func(self, *args, **kwargs)\n"
     ]
    },
    {
     "data": {
      "text/html": [
       "<div>\n",
       "<style scoped>\n",
       "    .dataframe tbody tr th:only-of-type {\n",
       "        vertical-align: middle;\n",
       "    }\n",
       "\n",
       "    .dataframe tbody tr th {\n",
       "        vertical-align: top;\n",
       "    }\n",
       "\n",
       "    .dataframe thead th {\n",
       "        text-align: right;\n",
       "    }\n",
       "</style>\n",
       "<table border=\"1\" class=\"dataframe\">\n",
       "  <thead>\n",
       "    <tr style=\"text-align: right;\">\n",
       "      <th></th>\n",
       "      <th>id</th>\n",
       "      <th>name</th>\n",
       "      <th>class</th>\n",
       "      <th>mark</th>\n",
       "    </tr>\n",
       "  </thead>\n",
       "  <tbody>\n",
       "    <tr>\n",
       "      <th>0</th>\n",
       "      <td>1</td>\n",
       "      <td>$John</td>\n",
       "      <td>Four</td>\n",
       "      <td>75</td>\n",
       "    </tr>\n",
       "    <tr>\n",
       "      <th>1</th>\n",
       "      <td>2</td>\n",
       "      <td>Ma51</td>\n",
       "      <td>Three</td>\n",
       "      <td>85</td>\n",
       "    </tr>\n",
       "    <tr>\n",
       "      <th>2</th>\n",
       "      <td>3</td>\n",
       "      <td>Arnold1</td>\n",
       "      <td>#Three</td>\n",
       "      <td>55</td>\n",
       "    </tr>\n",
       "    <tr>\n",
       "      <th>3</th>\n",
       "      <td>4</td>\n",
       "      <td>Krish0</td>\n",
       "      <td>Four</td>\n",
       "      <td>60</td>\n",
       "    </tr>\n",
       "    <tr>\n",
       "      <th>4</th>\n",
       "      <td>5</td>\n",
       "      <td>Roni</td>\n",
       "      <td>7Four</td>\n",
       "      <td>60</td>\n",
       "    </tr>\n",
       "    <tr>\n",
       "      <th>5</th>\n",
       "      <td>6</td>\n",
       "      <td>Krish</td>\n",
       "      <td>Four,</td>\n",
       "      <td>60</td>\n",
       "    </tr>\n",
       "    <tr>\n",
       "      <th>6</th>\n",
       "      <td>7</td>\n",
       "      <td>Max</td>\n",
       "      <td>%Three</td>\n",
       "      <td>85</td>\n",
       "    </tr>\n",
       "  </tbody>\n",
       "</table>\n",
       "</div>"
      ],
      "text/plain": [
       "   id     name   class  mark\n",
       "0   1    $John    Four    75\n",
       "1   2     Ma51   Three    85\n",
       "2   3  Arnold1  #Three    55\n",
       "3   4   Krish0    Four    60\n",
       "4   5     Roni   7Four    60\n",
       "5   6    Krish   Four,    60\n",
       "6   7      Max  %Three    85"
      ]
     },
     "execution_count": 14,
     "metadata": {
      "tags": []
     },
     "output_type": "execute_result"
    }
   ],
   "source": [
    "AR1 = df1[df1['name'].str.contains('^((?!ar).)*$', case=True, regex=True)]\n",
    "AR1"
   ]
  },
  {
   "cell_type": "markdown",
   "metadata": {
    "id": "Y_SLMqY-NsIB"
   },
   "source": [
    "#### **d) Display all rows where class column is having special chars**"
   ]
  },
  {
   "cell_type": "code",
   "execution_count": null,
   "metadata": {
    "colab": {
     "base_uri": "https://localhost:8080/"
    },
    "id": "OUrKCpbmNwE4",
    "outputId": "cb307421-2778-4158-ea6f-cc2d6556d649"
   },
   "outputs": [
    {
     "name": "stdout",
     "output_type": "stream",
     "text": [
      "   id     name   class  mark\n",
      "2   3  Arnold1  #Three    55\n",
      "5   6    Krish   Four,    60\n",
      "6   7      Max  %Three    85\n"
     ]
    }
   ],
   "source": [
    "print(df1[df1['class'].str.contains(r'[@#&$%+-/*]')])"
   ]
  },
  {
   "cell_type": "markdown",
   "metadata": {
    "id": "vbYWDUILOEBB"
   },
   "source": [
    "#### **e) Display all rows here name column is having number**"
   ]
  },
  {
   "cell_type": "code",
   "execution_count": null,
   "metadata": {
    "colab": {
     "base_uri": "https://localhost:8080/"
    },
    "id": "xZ7PFdGEOG1w",
    "outputId": "824088b4-ca6c-4789-fc01-fb856e32a9d2"
   },
   "outputs": [
    {
     "name": "stdout",
     "output_type": "stream",
     "text": [
      "   id     name   class  mark\n",
      "1   2     Ma51   Three    85\n",
      "2   3  Arnold1  #Three    55\n",
      "3   4   Krish0    Four    60\n"
     ]
    }
   ],
   "source": [
    "print(df1[df1['name'].str.contains('\\\\d', regex=True)])"
   ]
  },
  {
   "cell_type": "markdown",
   "metadata": {
    "id": "QFDyEuRtOZbJ"
   },
   "source": [
    "#### **g) Display all rows where name contains 0**"
   ]
  },
  {
   "cell_type": "code",
   "execution_count": null,
   "metadata": {
    "colab": {
     "base_uri": "https://localhost:8080/"
    },
    "id": "d4B95hHEOb7p",
    "outputId": "a11bbf75-71cb-4374-aaa9-e186b01c27d7"
   },
   "outputs": [
    {
     "name": "stdout",
     "output_type": "stream",
     "text": [
      "   id    name class  mark\n",
      "3   4  Krish0  Four    60\n"
     ]
    }
   ],
   "source": [
    "print(df1[df1['name'].str.contains('0')] )"
   ]
  },
  {
   "cell_type": "markdown",
   "metadata": {
    "id": "gzu80PGOOlrS"
   },
   "source": [
    "#### **h) Display all rows where name contain 0 or class column is having special chars. ( OR combination )**"
   ]
  },
  {
   "cell_type": "code",
   "execution_count": null,
   "metadata": {
    "colab": {
     "base_uri": "https://localhost:8080/"
    },
    "id": "0-akmTizOob7",
    "outputId": "6af55c16-cbe0-4a68-97a4-cdd72843eb09"
   },
   "outputs": [
    {
     "name": "stdout",
     "output_type": "stream",
     "text": [
      "   id     name   class  mark\n",
      "2   3  Arnold1  #Three    55\n",
      "3   4   Krish0    Four    60\n",
      "5   6    Krish   Four,    60\n",
      "6   7      Max  %Three    85\n"
     ]
    }
   ],
   "source": [
    "print(df1[df1['class'].str.contains(r'[@#&$%+-/*]') | df1['name'].str.contains('0')])"
   ]
  },
  {
   "cell_type": "markdown",
   "metadata": {
    "id": "ofBXdy2xPFLx"
   },
   "source": [
    "#### **i) Deleting the rows matching the condition**"
   ]
  },
  {
   "cell_type": "markdown",
   "metadata": {
    "id": "iT2u6_JZPIkp"
   },
   "source": [
    "- In all above cases we have displayed matching rows. We can use **drop()** to **delete the matching rows and return the balance**.\n",
    "\n",
    "- Note that **drop() will not change the main DataFrame.**\n",
    "\n",
    "- **Deleting the rows having 0 in name column.**"
   ]
  },
  {
   "cell_type": "code",
   "execution_count": null,
   "metadata": {
    "colab": {
     "base_uri": "https://localhost:8080/"
    },
    "id": "PTlcsQngPfRZ",
    "outputId": "3c4e93ae-f9f4-47e6-a59b-71335263211b"
   },
   "outputs": [
    {
     "name": "stdout",
     "output_type": "stream",
     "text": [
      "   id     name   class  mark\n",
      "0   1    $John    Four    75\n",
      "1   2     Ma51   Three    85\n",
      "2   3  Arnold1  #Three    55\n",
      "4   5     Roni   7Four    60\n",
      "5   6    Krish   Four,    60\n",
      "6   7      Max  %Three    85\n"
     ]
    }
   ],
   "source": [
    "# Output ( id 4 is deleted )\n",
    "drop = df1.drop(df1[df1['name'].str.contains('0')].index)\n",
    "print(drop)"
   ]
  },
  {
   "cell_type": "markdown",
   "metadata": {
    "id": "Qnm5WdpYP5JF"
   },
   "source": [
    "#### **j) Delete the rows having special chars in class column**"
   ]
  },
  {
   "cell_type": "code",
   "execution_count": null,
   "metadata": {
    "colab": {
     "base_uri": "https://localhost:8080/"
    },
    "id": "BeRAnVWbP8Pk",
    "outputId": "5a48a2a9-a912-4507-da2f-4ec23ffc8888"
   },
   "outputs": [
    {
     "name": "stdout",
     "output_type": "stream",
     "text": [
      "   id    name  class  mark\n",
      "0   1   $John   Four    75\n",
      "1   2    Ma51  Three    85\n",
      "3   4  Krish0   Four    60\n",
      "4   5    Roni  7Four    60\n"
     ]
    }
   ],
   "source": [
    "# Output ( id 3, 6 and 7 are deleted )\n",
    "SC = df2.drop(df2[df2['class'].str.contains(r'[@#&$%+-/*]')].index)\n",
    "print(SC)"
   ]
  },
  {
   "cell_type": "markdown",
   "metadata": {
    "id": "uLjF4My1RGHa"
   },
   "source": [
    "#### **k) Delete the rows having special characters in class or name columns**"
   ]
  },
  {
   "cell_type": "code",
   "execution_count": null,
   "metadata": {
    "colab": {
     "base_uri": "https://localhost:8080/"
    },
    "id": "mIgyO7SiRJPC",
    "outputId": "c3b62bc3-1959-4e22-c945-c9b763f688ff"
   },
   "outputs": [
    {
     "name": "stdout",
     "output_type": "stream",
     "text": [
      "   id    name  class  mark\n",
      "1   2    Ma51  Three    85\n",
      "3   4  Krish0   Four    60\n",
      "4   5    Roni  7Four    60\n"
     ]
    }
   ],
   "source": [
    "SCCN = df3.drop(df3[df3['class'].str.contains(r'[@#&$%+-/*]') | df3['name'].str.contains(r'[@#&$%+-/*]')].index)\n",
    "print(SCCN)"
   ]
  }
 ],
 "metadata": {
  "colab": {
   "collapsed_sections": [],
   "name": "1_str.contains_basic.ipynb",
   "provenance": []
  },
  "kernelspec": {
   "display_name": "Python 3",
   "language": "python",
   "name": "python3"
  },
  "language_info": {
   "codemirror_mode": {
    "name": "ipython",
    "version": 3
   },
   "file_extension": ".py",
   "mimetype": "text/x-python",
   "name": "python",
   "nbconvert_exporter": "python",
   "pygments_lexer": "ipython3",
   "version": "3.7.3"
  }
 },
 "nbformat": 4,
 "nbformat_minor": 1
}
