{
 "cells": [
  {
   "cell_type": "raw",
   "metadata": {},
   "source": [
    "#  All rows; Columns 1 & 6\n",
    "\n",
    "     df.iloc[:,[1,6]])"
   ]
  },
  {
   "cell_type": "raw",
   "metadata": {},
   "source": [
    "#  Dataset have total 19 columns among this only 1,2 & 3 columns have missed values\n",
    "\n",
    "#  All rows; Columns 1,2 & 3\n",
    "\n",
    "     df.iloc[:,[1,2,3]])"
   ]
  },
  {
   "cell_type": "code",
   "execution_count": null,
   "metadata": {},
   "outputs": [],
   "source": []
  }
 ],
 "metadata": {
  "kernelspec": {
   "display_name": "Python 3",
   "language": "python",
   "name": "python3"
  },
  "language_info": {
   "codemirror_mode": {
    "name": "ipython",
    "version": 3
   },
   "file_extension": ".py",
   "mimetype": "text/x-python",
   "name": "python",
   "nbconvert_exporter": "python",
   "pygments_lexer": "ipython3",
   "version": "3.7.3"
  }
 },
 "nbformat": 4,
 "nbformat_minor": 2
}
