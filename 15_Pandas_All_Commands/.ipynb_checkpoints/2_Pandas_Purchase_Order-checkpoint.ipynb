{
 "cells": [
  {
   "cell_type": "raw",
   "metadata": {},
   "source": [
    "https://medium.com/bhavaniravi/python-pandas-tutorial-92018da85a33"
   ]
  },
  {
   "cell_type": "markdown",
   "metadata": {},
   "source": [
    "-------------------------------------------------------------------------------------------------------------------------------"
   ]
  },
  {
   "cell_type": "markdown",
   "metadata": {},
   "source": [
    "<h2 style=\"color:green\" align=\"left\"> Reading CSV </h2>"
   ]
  },
  {
   "cell_type": "code",
   "execution_count": 1,
   "metadata": {},
   "outputs": [],
   "source": [
    "import pandas as pd"
   ]
  },
  {
   "cell_type": "code",
   "execution_count": 2,
   "metadata": {},
   "outputs": [
    {
     "data": {
      "text/html": [
       "<div>\n",
       "<style scoped>\n",
       "    .dataframe tbody tr th:only-of-type {\n",
       "        vertical-align: middle;\n",
       "    }\n",
       "\n",
       "    .dataframe tbody tr th {\n",
       "        vertical-align: top;\n",
       "    }\n",
       "\n",
       "    .dataframe thead th {\n",
       "        text-align: right;\n",
       "    }\n",
       "</style>\n",
       "<table border=\"1\" class=\"dataframe\">\n",
       "  <thead>\n",
       "    <tr style=\"text-align: right;\">\n",
       "      <th></th>\n",
       "      <th>Country</th>\n",
       "      <th>Region</th>\n",
       "      <th>Sales Person</th>\n",
       "      <th>Date of Purchase</th>\n",
       "      <th>Total</th>\n",
       "      <th>Quantity</th>\n",
       "    </tr>\n",
       "  </thead>\n",
       "  <tbody>\n",
       "    <tr>\n",
       "      <th>0</th>\n",
       "      <td>India</td>\n",
       "      <td>North</td>\n",
       "      <td>John</td>\n",
       "      <td>2012-05-02</td>\n",
       "      <td>100000</td>\n",
       "      <td>567</td>\n",
       "    </tr>\n",
       "    <tr>\n",
       "      <th>1</th>\n",
       "      <td>US</td>\n",
       "      <td>North</td>\n",
       "      <td>Bill</td>\n",
       "      <td>2010-10-31</td>\n",
       "      <td>120000</td>\n",
       "      <td>3000</td>\n",
       "    </tr>\n",
       "    <tr>\n",
       "      <th>2</th>\n",
       "      <td>UK</td>\n",
       "      <td>North</td>\n",
       "      <td>Thomas</td>\n",
       "      <td>2018-10-30</td>\n",
       "      <td>140000</td>\n",
       "      <td>345</td>\n",
       "    </tr>\n",
       "    <tr>\n",
       "      <th>3</th>\n",
       "      <td>Australia</td>\n",
       "      <td>East</td>\n",
       "      <td>John</td>\n",
       "      <td>2010-04-20</td>\n",
       "      <td>160000</td>\n",
       "      <td>1000</td>\n",
       "    </tr>\n",
       "    <tr>\n",
       "      <th>4</th>\n",
       "      <td>Africa</td>\n",
       "      <td>East</td>\n",
       "      <td>Bill</td>\n",
       "      <td>2017-10-24</td>\n",
       "      <td>180000</td>\n",
       "      <td>123</td>\n",
       "    </tr>\n",
       "  </tbody>\n",
       "</table>\n",
       "</div>"
      ],
      "text/plain": [
       "     Country Region Sales Person Date of Purchase   Total  Quantity\n",
       "0      India  North         John       2012-05-02  100000       567\n",
       "1         US  North         Bill       2010-10-31  120000      3000\n",
       "2         UK  North       Thomas       2018-10-30  140000       345\n",
       "3  Australia   East         John       2010-04-20  160000      1000\n",
       "4     Africa   East         Bill       2017-10-24  180000       123"
      ]
     },
     "execution_count": 2,
     "metadata": {},
     "output_type": "execute_result"
    }
   ],
   "source": [
    "url = 'C:/Users/deepusuresh/Documents/Data Science/01. Python/1. Practice/2. PANDAS/15. Pandas_All Commands'\n",
    "\n",
    "df = pd.read_excel(\"Pandas.xlsx\")\n",
    "df.head(5)"
   ]
  },
  {
   "cell_type": "code",
   "execution_count": 3,
   "metadata": {},
   "outputs": [
    {
     "data": {
      "text/html": [
       "<div>\n",
       "<style scoped>\n",
       "    .dataframe tbody tr th:only-of-type {\n",
       "        vertical-align: middle;\n",
       "    }\n",
       "\n",
       "    .dataframe tbody tr th {\n",
       "        vertical-align: top;\n",
       "    }\n",
       "\n",
       "    .dataframe thead th {\n",
       "        text-align: right;\n",
       "    }\n",
       "</style>\n",
       "<table border=\"1\" class=\"dataframe\">\n",
       "  <thead>\n",
       "    <tr style=\"text-align: right;\">\n",
       "      <th></th>\n",
       "      <th>Country</th>\n",
       "      <th>Region</th>\n",
       "      <th>Sales Person</th>\n",
       "      <th>Date of Purchase</th>\n",
       "      <th>Total</th>\n",
       "      <th>Quantity</th>\n",
       "    </tr>\n",
       "  </thead>\n",
       "  <tbody>\n",
       "    <tr>\n",
       "      <th>0</th>\n",
       "      <td>India</td>\n",
       "      <td>North</td>\n",
       "      <td>John</td>\n",
       "      <td>2012-05-02</td>\n",
       "      <td>100000</td>\n",
       "      <td>567</td>\n",
       "    </tr>\n",
       "    <tr>\n",
       "      <th>1</th>\n",
       "      <td>US</td>\n",
       "      <td>North</td>\n",
       "      <td>Bill</td>\n",
       "      <td>2010-10-31</td>\n",
       "      <td>120000</td>\n",
       "      <td>3000</td>\n",
       "    </tr>\n",
       "    <tr>\n",
       "      <th>2</th>\n",
       "      <td>UK</td>\n",
       "      <td>North</td>\n",
       "      <td>Thomas</td>\n",
       "      <td>2018-10-30</td>\n",
       "      <td>140000</td>\n",
       "      <td>345</td>\n",
       "    </tr>\n",
       "    <tr>\n",
       "      <th>3</th>\n",
       "      <td>Australia</td>\n",
       "      <td>East</td>\n",
       "      <td>John</td>\n",
       "      <td>2010-04-20</td>\n",
       "      <td>160000</td>\n",
       "      <td>1000</td>\n",
       "    </tr>\n",
       "    <tr>\n",
       "      <th>4</th>\n",
       "      <td>Africa</td>\n",
       "      <td>East</td>\n",
       "      <td>Bill</td>\n",
       "      <td>2017-10-24</td>\n",
       "      <td>180000</td>\n",
       "      <td>123</td>\n",
       "    </tr>\n",
       "  </tbody>\n",
       "</table>\n",
       "</div>"
      ],
      "text/plain": [
       "     Country Region Sales Person Date of Purchase   Total  Quantity\n",
       "0      India  North         John       2012-05-02  100000       567\n",
       "1         US  North         Bill       2010-10-31  120000      3000\n",
       "2         UK  North       Thomas       2018-10-30  140000       345\n",
       "3  Australia   East         John       2010-04-20  160000      1000\n",
       "4     Africa   East         Bill       2017-10-24  180000       123"
      ]
     },
     "execution_count": 3,
     "metadata": {},
     "output_type": "execute_result"
    }
   ],
   "source": [
    "df1 = pd.read_excel(\"Pandas.xlsx\",\"Q1 Sales\")\n",
    "df1.head(5)"
   ]
  },
  {
   "cell_type": "code",
   "execution_count": 4,
   "metadata": {},
   "outputs": [
    {
     "data": {
      "text/html": [
       "<div>\n",
       "<style scoped>\n",
       "    .dataframe tbody tr th:only-of-type {\n",
       "        vertical-align: middle;\n",
       "    }\n",
       "\n",
       "    .dataframe tbody tr th {\n",
       "        vertical-align: top;\n",
       "    }\n",
       "\n",
       "    .dataframe thead th {\n",
       "        text-align: right;\n",
       "    }\n",
       "</style>\n",
       "<table border=\"1\" class=\"dataframe\">\n",
       "  <thead>\n",
       "    <tr style=\"text-align: right;\">\n",
       "      <th></th>\n",
       "      <th>Country</th>\n",
       "      <th>Region</th>\n",
       "      <th>Sales Person</th>\n",
       "      <th>Date of Purchase</th>\n",
       "      <th>Total</th>\n",
       "      <th>Quantity</th>\n",
       "    </tr>\n",
       "  </thead>\n",
       "  <tbody>\n",
       "    <tr>\n",
       "      <th>0</th>\n",
       "      <td>India</td>\n",
       "      <td>East</td>\n",
       "      <td>John</td>\n",
       "      <td>2011-09-20</td>\n",
       "      <td>26000000</td>\n",
       "      <td>567</td>\n",
       "    </tr>\n",
       "    <tr>\n",
       "      <th>1</th>\n",
       "      <td>China</td>\n",
       "      <td>North</td>\n",
       "      <td>Bill</td>\n",
       "      <td>2015-02-04</td>\n",
       "      <td>100000</td>\n",
       "      <td>3000</td>\n",
       "    </tr>\n",
       "    <tr>\n",
       "      <th>2</th>\n",
       "      <td>UK</td>\n",
       "      <td>East</td>\n",
       "      <td>Thomas</td>\n",
       "      <td>2018-02-20</td>\n",
       "      <td>120000</td>\n",
       "      <td>345</td>\n",
       "    </tr>\n",
       "    <tr>\n",
       "      <th>3</th>\n",
       "      <td>Nepal</td>\n",
       "      <td>East</td>\n",
       "      <td>John</td>\n",
       "      <td>2014-07-25</td>\n",
       "      <td>200000</td>\n",
       "      <td>1000</td>\n",
       "    </tr>\n",
       "    <tr>\n",
       "      <th>4</th>\n",
       "      <td>Africa</td>\n",
       "      <td>East</td>\n",
       "      <td>Bill</td>\n",
       "      <td>2017-05-05</td>\n",
       "      <td>220000</td>\n",
       "      <td>123</td>\n",
       "    </tr>\n",
       "  </tbody>\n",
       "</table>\n",
       "</div>"
      ],
      "text/plain": [
       "  Country Region Sales Person Date of Purchase     Total  Quantity\n",
       "0   India   East         John       2011-09-20  26000000       567\n",
       "1   China  North         Bill       2015-02-04    100000      3000\n",
       "2      UK   East       Thomas       2018-02-20    120000       345\n",
       "3   Nepal   East         John       2014-07-25    200000      1000\n",
       "4  Africa   East         Bill       2017-05-05    220000       123"
      ]
     },
     "execution_count": 4,
     "metadata": {},
     "output_type": "execute_result"
    }
   ],
   "source": [
    "df2 = pd.read_excel(\"Pandas.xlsx\",\"Q4 Sales\")\n",
    "df2.head(5)"
   ]
  },
  {
   "cell_type": "markdown",
   "metadata": {},
   "source": [
    "<h2 style=\"color:green\" align=\"left\"> 1. Understanding Data </h2>"
   ]
  },
  {
   "cell_type": "raw",
   "metadata": {},
   "source": [
    "# 1. shows you a gist of the data\n",
    "\n",
    "        df1.head()\n",
    "\n",
    "# 2. Some statistical information about your data\n",
    "\n",
    "        df1.describe()\n",
    "\n",
    "# 3. List of columns headers\n",
    "\n",
    "        df1.columns.values"
   ]
  },
  {
   "cell_type": "code",
   "execution_count": 5,
   "metadata": {},
   "outputs": [
    {
     "data": {
      "text/html": [
       "<div>\n",
       "<style scoped>\n",
       "    .dataframe tbody tr th:only-of-type {\n",
       "        vertical-align: middle;\n",
       "    }\n",
       "\n",
       "    .dataframe tbody tr th {\n",
       "        vertical-align: top;\n",
       "    }\n",
       "\n",
       "    .dataframe thead th {\n",
       "        text-align: right;\n",
       "    }\n",
       "</style>\n",
       "<table border=\"1\" class=\"dataframe\">\n",
       "  <thead>\n",
       "    <tr style=\"text-align: right;\">\n",
       "      <th></th>\n",
       "      <th>Country</th>\n",
       "      <th>Region</th>\n",
       "      <th>Sales Person</th>\n",
       "      <th>Date of Purchase</th>\n",
       "      <th>Total</th>\n",
       "      <th>Quantity</th>\n",
       "    </tr>\n",
       "  </thead>\n",
       "  <tbody>\n",
       "    <tr>\n",
       "      <th>0</th>\n",
       "      <td>India</td>\n",
       "      <td>North</td>\n",
       "      <td>John</td>\n",
       "      <td>2012-05-02</td>\n",
       "      <td>100000</td>\n",
       "      <td>567</td>\n",
       "    </tr>\n",
       "    <tr>\n",
       "      <th>1</th>\n",
       "      <td>US</td>\n",
       "      <td>North</td>\n",
       "      <td>Bill</td>\n",
       "      <td>2010-10-31</td>\n",
       "      <td>120000</td>\n",
       "      <td>3000</td>\n",
       "    </tr>\n",
       "    <tr>\n",
       "      <th>2</th>\n",
       "      <td>UK</td>\n",
       "      <td>North</td>\n",
       "      <td>Thomas</td>\n",
       "      <td>2018-10-30</td>\n",
       "      <td>140000</td>\n",
       "      <td>345</td>\n",
       "    </tr>\n",
       "    <tr>\n",
       "      <th>3</th>\n",
       "      <td>Australia</td>\n",
       "      <td>East</td>\n",
       "      <td>John</td>\n",
       "      <td>2010-04-20</td>\n",
       "      <td>160000</td>\n",
       "      <td>1000</td>\n",
       "    </tr>\n",
       "    <tr>\n",
       "      <th>4</th>\n",
       "      <td>Africa</td>\n",
       "      <td>East</td>\n",
       "      <td>Bill</td>\n",
       "      <td>2017-10-24</td>\n",
       "      <td>180000</td>\n",
       "      <td>123</td>\n",
       "    </tr>\n",
       "  </tbody>\n",
       "</table>\n",
       "</div>"
      ],
      "text/plain": [
       "     Country Region Sales Person Date of Purchase   Total  Quantity\n",
       "0      India  North         John       2012-05-02  100000       567\n",
       "1         US  North         Bill       2010-10-31  120000      3000\n",
       "2         UK  North       Thomas       2018-10-30  140000       345\n",
       "3  Australia   East         John       2010-04-20  160000      1000\n",
       "4     Africa   East         Bill       2017-10-24  180000       123"
      ]
     },
     "execution_count": 5,
     "metadata": {},
     "output_type": "execute_result"
    }
   ],
   "source": [
    "df1.head()"
   ]
  },
  {
   "cell_type": "code",
   "execution_count": 6,
   "metadata": {},
   "outputs": [
    {
     "data": {
      "text/html": [
       "<div>\n",
       "<style scoped>\n",
       "    .dataframe tbody tr th:only-of-type {\n",
       "        vertical-align: middle;\n",
       "    }\n",
       "\n",
       "    .dataframe tbody tr th {\n",
       "        vertical-align: top;\n",
       "    }\n",
       "\n",
       "    .dataframe thead th {\n",
       "        text-align: right;\n",
       "    }\n",
       "</style>\n",
       "<table border=\"1\" class=\"dataframe\">\n",
       "  <thead>\n",
       "    <tr style=\"text-align: right;\">\n",
       "      <th></th>\n",
       "      <th>Total</th>\n",
       "      <th>Quantity</th>\n",
       "    </tr>\n",
       "  </thead>\n",
       "  <tbody>\n",
       "    <tr>\n",
       "      <th>count</th>\n",
       "      <td>2.000000e+01</td>\n",
       "      <td>20.000000</td>\n",
       "    </tr>\n",
       "    <tr>\n",
       "      <th>mean</th>\n",
       "      <td>1.502500e+06</td>\n",
       "      <td>977.900000</td>\n",
       "    </tr>\n",
       "    <tr>\n",
       "      <th>std</th>\n",
       "      <td>5.769280e+06</td>\n",
       "      <td>1761.923497</td>\n",
       "    </tr>\n",
       "    <tr>\n",
       "      <th>min</th>\n",
       "      <td>1.000000e+05</td>\n",
       "      <td>85.000000</td>\n",
       "    </tr>\n",
       "    <tr>\n",
       "      <th>25%</th>\n",
       "      <td>1.400000e+05</td>\n",
       "      <td>90.000000</td>\n",
       "    </tr>\n",
       "    <tr>\n",
       "      <th>50%</th>\n",
       "      <td>1.700000e+05</td>\n",
       "      <td>505.500000</td>\n",
       "    </tr>\n",
       "    <tr>\n",
       "      <th>75%</th>\n",
       "      <td>2.250000e+05</td>\n",
       "      <td>1000.000000</td>\n",
       "    </tr>\n",
       "    <tr>\n",
       "      <th>max</th>\n",
       "      <td>2.600000e+07</td>\n",
       "      <td>7890.000000</td>\n",
       "    </tr>\n",
       "  </tbody>\n",
       "</table>\n",
       "</div>"
      ],
      "text/plain": [
       "              Total     Quantity\n",
       "count  2.000000e+01    20.000000\n",
       "mean   1.502500e+06   977.900000\n",
       "std    5.769280e+06  1761.923497\n",
       "min    1.000000e+05    85.000000\n",
       "25%    1.400000e+05    90.000000\n",
       "50%    1.700000e+05   505.500000\n",
       "75%    2.250000e+05  1000.000000\n",
       "max    2.600000e+07  7890.000000"
      ]
     },
     "execution_count": 6,
     "metadata": {},
     "output_type": "execute_result"
    }
   ],
   "source": [
    "df1.describe()"
   ]
  },
  {
   "cell_type": "code",
   "execution_count": 7,
   "metadata": {
    "scrolled": true
   },
   "outputs": [
    {
     "data": {
      "text/plain": [
       "array(['Country', 'Region', 'Sales Person', 'Date of Purchase', 'Total',\n",
       "       'Quantity'], dtype=object)"
      ]
     },
     "execution_count": 7,
     "metadata": {},
     "output_type": "execute_result"
    }
   ],
   "source": [
    "df1.columns.values"
   ]
  },
  {
   "cell_type": "markdown",
   "metadata": {},
   "source": [
    "<h2 style=\"color:green\" align=\"left\"> 2. Pick & Choose your Data </h2>"
   ]
  },
  {
   "cell_type": "raw",
   "metadata": {},
   "source": [
    "# Indexes\n",
    "\n",
    "     Indexes are labels used to refer to your data. These labels are usually your column headers.\n",
    "     For eg., Country, Region, Quantity Etc.,"
   ]
  },
  {
   "cell_type": "markdown",
   "metadata": {},
   "source": [
    "<h3 style=\"color:purple\" align=\"left\"> a. Selecting Columns </h3>"
   ]
  },
  {
   "cell_type": "markdown",
   "metadata": {},
   "source": [
    "<h4 style=\"color:red\" align=\"left\"> i) Extract a Single column </h4>"
   ]
  },
  {
   "cell_type": "code",
   "execution_count": 8,
   "metadata": {
    "scrolled": true
   },
   "outputs": [
    {
     "data": {
      "text/html": [
       "<div>\n",
       "<style scoped>\n",
       "    .dataframe tbody tr th:only-of-type {\n",
       "        vertical-align: middle;\n",
       "    }\n",
       "\n",
       "    .dataframe tbody tr th {\n",
       "        vertical-align: top;\n",
       "    }\n",
       "\n",
       "    .dataframe thead th {\n",
       "        text-align: right;\n",
       "    }\n",
       "</style>\n",
       "<table border=\"1\" class=\"dataframe\">\n",
       "  <thead>\n",
       "    <tr style=\"text-align: right;\">\n",
       "      <th></th>\n",
       "      <th>Total</th>\n",
       "    </tr>\n",
       "  </thead>\n",
       "  <tbody>\n",
       "    <tr>\n",
       "      <th>0</th>\n",
       "      <td>100000</td>\n",
       "    </tr>\n",
       "    <tr>\n",
       "      <th>1</th>\n",
       "      <td>120000</td>\n",
       "    </tr>\n",
       "    <tr>\n",
       "      <th>2</th>\n",
       "      <td>140000</td>\n",
       "    </tr>\n",
       "    <tr>\n",
       "      <th>3</th>\n",
       "      <td>160000</td>\n",
       "    </tr>\n",
       "    <tr>\n",
       "      <th>4</th>\n",
       "      <td>180000</td>\n",
       "    </tr>\n",
       "    <tr>\n",
       "      <th>5</th>\n",
       "      <td>200000</td>\n",
       "    </tr>\n",
       "    <tr>\n",
       "      <th>6</th>\n",
       "      <td>1000000</td>\n",
       "    </tr>\n",
       "    <tr>\n",
       "      <th>7</th>\n",
       "      <td>240000</td>\n",
       "    </tr>\n",
       "    <tr>\n",
       "      <th>8</th>\n",
       "      <td>26000000</td>\n",
       "    </tr>\n",
       "    <tr>\n",
       "      <th>9</th>\n",
       "      <td>100000</td>\n",
       "    </tr>\n",
       "    <tr>\n",
       "      <th>10</th>\n",
       "      <td>120000</td>\n",
       "    </tr>\n",
       "    <tr>\n",
       "      <th>11</th>\n",
       "      <td>140000</td>\n",
       "    </tr>\n",
       "    <tr>\n",
       "      <th>12</th>\n",
       "      <td>160000</td>\n",
       "    </tr>\n",
       "    <tr>\n",
       "      <th>13</th>\n",
       "      <td>180000</td>\n",
       "    </tr>\n",
       "    <tr>\n",
       "      <th>14</th>\n",
       "      <td>200000</td>\n",
       "    </tr>\n",
       "    <tr>\n",
       "      <th>15</th>\n",
       "      <td>220000</td>\n",
       "    </tr>\n",
       "    <tr>\n",
       "      <th>16</th>\n",
       "      <td>240000</td>\n",
       "    </tr>\n",
       "    <tr>\n",
       "      <th>17</th>\n",
       "      <td>260000</td>\n",
       "    </tr>\n",
       "    <tr>\n",
       "      <th>18</th>\n",
       "      <td>140000</td>\n",
       "    </tr>\n",
       "    <tr>\n",
       "      <th>19</th>\n",
       "      <td>150000</td>\n",
       "    </tr>\n",
       "  </tbody>\n",
       "</table>\n",
       "</div>"
      ],
      "text/plain": [
       "       Total\n",
       "0     100000\n",
       "1     120000\n",
       "2     140000\n",
       "3     160000\n",
       "4     180000\n",
       "5     200000\n",
       "6    1000000\n",
       "7     240000\n",
       "8   26000000\n",
       "9     100000\n",
       "10    120000\n",
       "11    140000\n",
       "12    160000\n",
       "13    180000\n",
       "14    200000\n",
       "15    220000\n",
       "16    240000\n",
       "17    260000\n",
       "18    140000\n",
       "19    150000"
      ]
     },
     "execution_count": 8,
     "metadata": {},
     "output_type": "execute_result"
    }
   ],
   "source": [
    "df1[[\"Total\"]]"
   ]
  },
  {
   "cell_type": "markdown",
   "metadata": {},
   "source": [
    "<h4 style=\"color:red\" align=\"left\"> ii) Extract Multiple columns </h4>"
   ]
  },
  {
   "cell_type": "raw",
   "metadata": {},
   "source": [
    "# 1. Create a list of columns to be selected\n",
    "\n",
    "        columns_to_be_selected = [\"Total\", \"Quantity\", \"Country\"]\n",
    "\n",
    "# 2. Use it as an index to the DataFrame\n",
    "\n",
    "        df1[columns_to_be_selected]\n",
    "\n",
    "# 3. Using loc method\n",
    "\n",
    "        df1.loc[[0, 1, 4, 5]]"
   ]
  },
  {
   "cell_type": "code",
   "execution_count": 9,
   "metadata": {},
   "outputs": [],
   "source": [
    "columns_to_be_selected = [\"Total\", \"Quantity\", \"Country\"]"
   ]
  },
  {
   "cell_type": "code",
   "execution_count": 10,
   "metadata": {},
   "outputs": [
    {
     "data": {
      "text/html": [
       "<div>\n",
       "<style scoped>\n",
       "    .dataframe tbody tr th:only-of-type {\n",
       "        vertical-align: middle;\n",
       "    }\n",
       "\n",
       "    .dataframe tbody tr th {\n",
       "        vertical-align: top;\n",
       "    }\n",
       "\n",
       "    .dataframe thead th {\n",
       "        text-align: right;\n",
       "    }\n",
       "</style>\n",
       "<table border=\"1\" class=\"dataframe\">\n",
       "  <thead>\n",
       "    <tr style=\"text-align: right;\">\n",
       "      <th></th>\n",
       "      <th>Total</th>\n",
       "      <th>Quantity</th>\n",
       "      <th>Country</th>\n",
       "    </tr>\n",
       "  </thead>\n",
       "  <tbody>\n",
       "    <tr>\n",
       "      <th>0</th>\n",
       "      <td>100000</td>\n",
       "      <td>567</td>\n",
       "      <td>India</td>\n",
       "    </tr>\n",
       "    <tr>\n",
       "      <th>1</th>\n",
       "      <td>120000</td>\n",
       "      <td>3000</td>\n",
       "      <td>US</td>\n",
       "    </tr>\n",
       "    <tr>\n",
       "      <th>2</th>\n",
       "      <td>140000</td>\n",
       "      <td>345</td>\n",
       "      <td>UK</td>\n",
       "    </tr>\n",
       "    <tr>\n",
       "      <th>3</th>\n",
       "      <td>160000</td>\n",
       "      <td>1000</td>\n",
       "      <td>Australia</td>\n",
       "    </tr>\n",
       "    <tr>\n",
       "      <th>4</th>\n",
       "      <td>180000</td>\n",
       "      <td>123</td>\n",
       "      <td>Africa</td>\n",
       "    </tr>\n",
       "    <tr>\n",
       "      <th>5</th>\n",
       "      <td>200000</td>\n",
       "      <td>1000</td>\n",
       "      <td>Singapore</td>\n",
       "    </tr>\n",
       "    <tr>\n",
       "      <th>6</th>\n",
       "      <td>1000000</td>\n",
       "      <td>7890</td>\n",
       "      <td>Mylasia</td>\n",
       "    </tr>\n",
       "    <tr>\n",
       "      <th>7</th>\n",
       "      <td>240000</td>\n",
       "      <td>200</td>\n",
       "      <td>India</td>\n",
       "    </tr>\n",
       "    <tr>\n",
       "      <th>8</th>\n",
       "      <td>26000000</td>\n",
       "      <td>1000</td>\n",
       "      <td>US</td>\n",
       "    </tr>\n",
       "    <tr>\n",
       "      <th>9</th>\n",
       "      <td>100000</td>\n",
       "      <td>1000</td>\n",
       "      <td>UK</td>\n",
       "    </tr>\n",
       "    <tr>\n",
       "      <th>10</th>\n",
       "      <td>120000</td>\n",
       "      <td>567</td>\n",
       "      <td>Australia</td>\n",
       "    </tr>\n",
       "    <tr>\n",
       "      <th>11</th>\n",
       "      <td>140000</td>\n",
       "      <td>1000</td>\n",
       "      <td>Africa</td>\n",
       "    </tr>\n",
       "    <tr>\n",
       "      <th>12</th>\n",
       "      <td>160000</td>\n",
       "      <td>892</td>\n",
       "      <td>Singapore</td>\n",
       "    </tr>\n",
       "    <tr>\n",
       "      <th>13</th>\n",
       "      <td>180000</td>\n",
       "      <td>444</td>\n",
       "      <td>Mylasia</td>\n",
       "    </tr>\n",
       "    <tr>\n",
       "      <th>14</th>\n",
       "      <td>200000</td>\n",
       "      <td>90</td>\n",
       "      <td>India</td>\n",
       "    </tr>\n",
       "    <tr>\n",
       "      <th>15</th>\n",
       "      <td>220000</td>\n",
       "      <td>90</td>\n",
       "      <td>US</td>\n",
       "    </tr>\n",
       "    <tr>\n",
       "      <th>16</th>\n",
       "      <td>240000</td>\n",
       "      <td>90</td>\n",
       "      <td>UK</td>\n",
       "    </tr>\n",
       "    <tr>\n",
       "      <th>17</th>\n",
       "      <td>260000</td>\n",
       "      <td>90</td>\n",
       "      <td>Australia</td>\n",
       "    </tr>\n",
       "    <tr>\n",
       "      <th>18</th>\n",
       "      <td>140000</td>\n",
       "      <td>85</td>\n",
       "      <td>Africa</td>\n",
       "    </tr>\n",
       "    <tr>\n",
       "      <th>19</th>\n",
       "      <td>150000</td>\n",
       "      <td>85</td>\n",
       "      <td>Singapore</td>\n",
       "    </tr>\n",
       "  </tbody>\n",
       "</table>\n",
       "</div>"
      ],
      "text/plain": [
       "       Total  Quantity    Country\n",
       "0     100000       567      India\n",
       "1     120000      3000         US\n",
       "2     140000       345         UK\n",
       "3     160000      1000  Australia\n",
       "4     180000       123     Africa\n",
       "5     200000      1000  Singapore\n",
       "6    1000000      7890    Mylasia\n",
       "7     240000       200      India\n",
       "8   26000000      1000         US\n",
       "9     100000      1000         UK\n",
       "10    120000       567  Australia\n",
       "11    140000      1000     Africa\n",
       "12    160000       892  Singapore\n",
       "13    180000       444    Mylasia\n",
       "14    200000        90      India\n",
       "15    220000        90         US\n",
       "16    240000        90         UK\n",
       "17    260000        90  Australia\n",
       "18    140000        85     Africa\n",
       "19    150000        85  Singapore"
      ]
     },
     "execution_count": 10,
     "metadata": {},
     "output_type": "execute_result"
    }
   ],
   "source": [
    "df1[columns_to_be_selected]"
   ]
  },
  {
   "cell_type": "code",
   "execution_count": 11,
   "metadata": {},
   "outputs": [
    {
     "data": {
      "text/html": [
       "<div>\n",
       "<style scoped>\n",
       "    .dataframe tbody tr th:only-of-type {\n",
       "        vertical-align: middle;\n",
       "    }\n",
       "\n",
       "    .dataframe tbody tr th {\n",
       "        vertical-align: top;\n",
       "    }\n",
       "\n",
       "    .dataframe thead th {\n",
       "        text-align: right;\n",
       "    }\n",
       "</style>\n",
       "<table border=\"1\" class=\"dataframe\">\n",
       "  <thead>\n",
       "    <tr style=\"text-align: right;\">\n",
       "      <th></th>\n",
       "      <th>Country</th>\n",
       "      <th>Region</th>\n",
       "      <th>Sales Person</th>\n",
       "      <th>Date of Purchase</th>\n",
       "      <th>Total</th>\n",
       "      <th>Quantity</th>\n",
       "    </tr>\n",
       "  </thead>\n",
       "  <tbody>\n",
       "    <tr>\n",
       "      <th>0</th>\n",
       "      <td>India</td>\n",
       "      <td>North</td>\n",
       "      <td>John</td>\n",
       "      <td>2012-05-02</td>\n",
       "      <td>100000</td>\n",
       "      <td>567</td>\n",
       "    </tr>\n",
       "    <tr>\n",
       "      <th>1</th>\n",
       "      <td>US</td>\n",
       "      <td>North</td>\n",
       "      <td>Bill</td>\n",
       "      <td>2010-10-31</td>\n",
       "      <td>120000</td>\n",
       "      <td>3000</td>\n",
       "    </tr>\n",
       "    <tr>\n",
       "      <th>4</th>\n",
       "      <td>Africa</td>\n",
       "      <td>East</td>\n",
       "      <td>Bill</td>\n",
       "      <td>2017-10-24</td>\n",
       "      <td>180000</td>\n",
       "      <td>123</td>\n",
       "    </tr>\n",
       "    <tr>\n",
       "      <th>5</th>\n",
       "      <td>Singapore</td>\n",
       "      <td>East</td>\n",
       "      <td>Thomas</td>\n",
       "      <td>2013-05-10</td>\n",
       "      <td>200000</td>\n",
       "      <td>1000</td>\n",
       "    </tr>\n",
       "  </tbody>\n",
       "</table>\n",
       "</div>"
      ],
      "text/plain": [
       "     Country Region Sales Person Date of Purchase   Total  Quantity\n",
       "0      India  North         John       2012-05-02  100000       567\n",
       "1         US  North         Bill       2010-10-31  120000      3000\n",
       "4     Africa   East         Bill       2017-10-24  180000       123\n",
       "5  Singapore   East       Thomas       2013-05-10  200000      1000"
      ]
     },
     "execution_count": 11,
     "metadata": {},
     "output_type": "execute_result"
    }
   ],
   "source": [
    "df1.loc[[0, 1, 4, 5]]"
   ]
  },
  {
   "cell_type": "markdown",
   "metadata": {},
   "source": [
    "<h3 style=\"color:purple\" align=\"left\"> b. Selecting Rows </h3>"
   ]
  },
  {
   "cell_type": "raw",
   "metadata": {},
   "source": [
    "#  Unlike the columns, our current DataFrame does not have a label which we can use to refer the row data.\n",
    "\n",
    "   But like arrays, DataFrame provides numerical indexing(0, 1, 2…) by default."
   ]
  },
  {
   "cell_type": "markdown",
   "metadata": {},
   "source": [
    "<h4 style=\"color:red\" align=\"left\"> i) Extract Single Row </h4>"
   ]
  },
  {
   "cell_type": "code",
   "execution_count": 12,
   "metadata": {
    "scrolled": true
   },
   "outputs": [
    {
     "data": {
      "text/html": [
       "<div>\n",
       "<style scoped>\n",
       "    .dataframe tbody tr th:only-of-type {\n",
       "        vertical-align: middle;\n",
       "    }\n",
       "\n",
       "    .dataframe tbody tr th {\n",
       "        vertical-align: top;\n",
       "    }\n",
       "\n",
       "    .dataframe thead th {\n",
       "        text-align: right;\n",
       "    }\n",
       "</style>\n",
       "<table border=\"1\" class=\"dataframe\">\n",
       "  <thead>\n",
       "    <tr style=\"text-align: right;\">\n",
       "      <th></th>\n",
       "      <th>Country</th>\n",
       "      <th>Region</th>\n",
       "      <th>Sales Person</th>\n",
       "      <th>Date of Purchase</th>\n",
       "      <th>Total</th>\n",
       "      <th>Quantity</th>\n",
       "    </tr>\n",
       "  </thead>\n",
       "  <tbody>\n",
       "    <tr>\n",
       "      <th>0</th>\n",
       "      <td>India</td>\n",
       "      <td>North</td>\n",
       "      <td>John</td>\n",
       "      <td>2012-05-02</td>\n",
       "      <td>100000</td>\n",
       "      <td>567</td>\n",
       "    </tr>\n",
       "  </tbody>\n",
       "</table>\n",
       "</div>"
      ],
      "text/plain": [
       "  Country Region Sales Person Date of Purchase   Total  Quantity\n",
       "0   India  North         John       2012-05-02  100000       567"
      ]
     },
     "execution_count": 12,
     "metadata": {},
     "output_type": "execute_result"
    }
   ],
   "source": [
    "df1.iloc[0:1, :]"
   ]
  },
  {
   "cell_type": "markdown",
   "metadata": {},
   "source": [
    "<h4 style=\"color:red\" align=\"left\"> ii) Extract More than one row </h4>"
   ]
  },
  {
   "cell_type": "raw",
   "metadata": {},
   "source": [
    "# 1. using numerical indexes - iloc\n",
    "\n",
    "       df1.iloc[0:3, :]\n",
    "\n",
    "# 2. using labels as index - loc\n",
    "\n",
    "       row_index_to_select = [0, 1, 4, 5]\n",
    "       df1.loc[row_index_to_select]"
   ]
  },
  {
   "cell_type": "code",
   "execution_count": 13,
   "metadata": {},
   "outputs": [
    {
     "data": {
      "text/html": [
       "<div>\n",
       "<style scoped>\n",
       "    .dataframe tbody tr th:only-of-type {\n",
       "        vertical-align: middle;\n",
       "    }\n",
       "\n",
       "    .dataframe tbody tr th {\n",
       "        vertical-align: top;\n",
       "    }\n",
       "\n",
       "    .dataframe thead th {\n",
       "        text-align: right;\n",
       "    }\n",
       "</style>\n",
       "<table border=\"1\" class=\"dataframe\">\n",
       "  <thead>\n",
       "    <tr style=\"text-align: right;\">\n",
       "      <th></th>\n",
       "      <th>Country</th>\n",
       "      <th>Region</th>\n",
       "      <th>Sales Person</th>\n",
       "      <th>Date of Purchase</th>\n",
       "      <th>Total</th>\n",
       "      <th>Quantity</th>\n",
       "    </tr>\n",
       "  </thead>\n",
       "  <tbody>\n",
       "    <tr>\n",
       "      <th>0</th>\n",
       "      <td>India</td>\n",
       "      <td>North</td>\n",
       "      <td>John</td>\n",
       "      <td>2012-05-02</td>\n",
       "      <td>100000</td>\n",
       "      <td>567</td>\n",
       "    </tr>\n",
       "    <tr>\n",
       "      <th>1</th>\n",
       "      <td>US</td>\n",
       "      <td>North</td>\n",
       "      <td>Bill</td>\n",
       "      <td>2010-10-31</td>\n",
       "      <td>120000</td>\n",
       "      <td>3000</td>\n",
       "    </tr>\n",
       "    <tr>\n",
       "      <th>2</th>\n",
       "      <td>UK</td>\n",
       "      <td>North</td>\n",
       "      <td>Thomas</td>\n",
       "      <td>2018-10-30</td>\n",
       "      <td>140000</td>\n",
       "      <td>345</td>\n",
       "    </tr>\n",
       "  </tbody>\n",
       "</table>\n",
       "</div>"
      ],
      "text/plain": [
       "  Country Region Sales Person Date of Purchase   Total  Quantity\n",
       "0   India  North         John       2012-05-02  100000       567\n",
       "1      US  North         Bill       2010-10-31  120000      3000\n",
       "2      UK  North       Thomas       2018-10-30  140000       345"
      ]
     },
     "execution_count": 13,
     "metadata": {},
     "output_type": "execute_result"
    }
   ],
   "source": [
    "df1.iloc[0:3, :]"
   ]
  },
  {
   "cell_type": "code",
   "execution_count": 14,
   "metadata": {},
   "outputs": [
    {
     "data": {
      "text/html": [
       "<div>\n",
       "<style scoped>\n",
       "    .dataframe tbody tr th:only-of-type {\n",
       "        vertical-align: middle;\n",
       "    }\n",
       "\n",
       "    .dataframe tbody tr th {\n",
       "        vertical-align: top;\n",
       "    }\n",
       "\n",
       "    .dataframe thead th {\n",
       "        text-align: right;\n",
       "    }\n",
       "</style>\n",
       "<table border=\"1\" class=\"dataframe\">\n",
       "  <thead>\n",
       "    <tr style=\"text-align: right;\">\n",
       "      <th></th>\n",
       "      <th>Country</th>\n",
       "      <th>Region</th>\n",
       "      <th>Sales Person</th>\n",
       "      <th>Date of Purchase</th>\n",
       "      <th>Total</th>\n",
       "      <th>Quantity</th>\n",
       "    </tr>\n",
       "  </thead>\n",
       "  <tbody>\n",
       "    <tr>\n",
       "      <th>0</th>\n",
       "      <td>India</td>\n",
       "      <td>North</td>\n",
       "      <td>John</td>\n",
       "      <td>2012-05-02</td>\n",
       "      <td>100000</td>\n",
       "      <td>567</td>\n",
       "    </tr>\n",
       "    <tr>\n",
       "      <th>1</th>\n",
       "      <td>US</td>\n",
       "      <td>North</td>\n",
       "      <td>Bill</td>\n",
       "      <td>2010-10-31</td>\n",
       "      <td>120000</td>\n",
       "      <td>3000</td>\n",
       "    </tr>\n",
       "    <tr>\n",
       "      <th>4</th>\n",
       "      <td>Africa</td>\n",
       "      <td>East</td>\n",
       "      <td>Bill</td>\n",
       "      <td>2017-10-24</td>\n",
       "      <td>180000</td>\n",
       "      <td>123</td>\n",
       "    </tr>\n",
       "    <tr>\n",
       "      <th>5</th>\n",
       "      <td>Singapore</td>\n",
       "      <td>East</td>\n",
       "      <td>Thomas</td>\n",
       "      <td>2013-05-10</td>\n",
       "      <td>200000</td>\n",
       "      <td>1000</td>\n",
       "    </tr>\n",
       "  </tbody>\n",
       "</table>\n",
       "</div>"
      ],
      "text/plain": [
       "     Country Region Sales Person Date of Purchase   Total  Quantity\n",
       "0      India  North         John       2012-05-02  100000       567\n",
       "1         US  North         Bill       2010-10-31  120000      3000\n",
       "4     Africa   East         Bill       2017-10-24  180000       123\n",
       "5  Singapore   East       Thomas       2013-05-10  200000      1000"
      ]
     },
     "execution_count": 14,
     "metadata": {},
     "output_type": "execute_result"
    }
   ],
   "source": [
    "row_index_to_select = [0, 1, 4, 5]\n",
    "df1.loc[row_index_to_select]"
   ]
  },
  {
   "cell_type": "markdown",
   "metadata": {},
   "source": [
    "<h3 style=\"color:purple\" align=\"left\"> c. Filtering Rows </h3>"
   ]
  },
  {
   "cell_type": "raw",
   "metadata": {},
   "source": [
    "1. Total sales > 200000\n",
    "   df1[df1[\"Total\"] > 200000]\n",
    "   \n",
    "2. Total sales > 200000 and in UK\n",
    "   df1[(df1[\"Total\"] > 200000) & (df1[\"Country\"] == \"UK\")]"
   ]
  },
  {
   "cell_type": "code",
   "execution_count": 15,
   "metadata": {},
   "outputs": [
    {
     "data": {
      "text/html": [
       "<div>\n",
       "<style scoped>\n",
       "    .dataframe tbody tr th:only-of-type {\n",
       "        vertical-align: middle;\n",
       "    }\n",
       "\n",
       "    .dataframe tbody tr th {\n",
       "        vertical-align: top;\n",
       "    }\n",
       "\n",
       "    .dataframe thead th {\n",
       "        text-align: right;\n",
       "    }\n",
       "</style>\n",
       "<table border=\"1\" class=\"dataframe\">\n",
       "  <thead>\n",
       "    <tr style=\"text-align: right;\">\n",
       "      <th></th>\n",
       "      <th>Country</th>\n",
       "      <th>Region</th>\n",
       "      <th>Sales Person</th>\n",
       "      <th>Date of Purchase</th>\n",
       "      <th>Total</th>\n",
       "      <th>Quantity</th>\n",
       "    </tr>\n",
       "  </thead>\n",
       "  <tbody>\n",
       "    <tr>\n",
       "      <th>6</th>\n",
       "      <td>Mylasia</td>\n",
       "      <td>West</td>\n",
       "      <td>John</td>\n",
       "      <td>2018-11-03</td>\n",
       "      <td>1000000</td>\n",
       "      <td>7890</td>\n",
       "    </tr>\n",
       "    <tr>\n",
       "      <th>7</th>\n",
       "      <td>India</td>\n",
       "      <td>West</td>\n",
       "      <td>Bill</td>\n",
       "      <td>2018-01-23</td>\n",
       "      <td>240000</td>\n",
       "      <td>200</td>\n",
       "    </tr>\n",
       "    <tr>\n",
       "      <th>8</th>\n",
       "      <td>US</td>\n",
       "      <td>West</td>\n",
       "      <td>Thomas</td>\n",
       "      <td>2012-08-16</td>\n",
       "      <td>26000000</td>\n",
       "      <td>1000</td>\n",
       "    </tr>\n",
       "    <tr>\n",
       "      <th>15</th>\n",
       "      <td>US</td>\n",
       "      <td>West</td>\n",
       "      <td>John</td>\n",
       "      <td>2016-10-11</td>\n",
       "      <td>220000</td>\n",
       "      <td>90</td>\n",
       "    </tr>\n",
       "    <tr>\n",
       "      <th>16</th>\n",
       "      <td>UK</td>\n",
       "      <td>West</td>\n",
       "      <td>Bill</td>\n",
       "      <td>2018-04-18</td>\n",
       "      <td>240000</td>\n",
       "      <td>90</td>\n",
       "    </tr>\n",
       "    <tr>\n",
       "      <th>17</th>\n",
       "      <td>Australia</td>\n",
       "      <td>West</td>\n",
       "      <td>Thomas</td>\n",
       "      <td>2013-04-22</td>\n",
       "      <td>260000</td>\n",
       "      <td>90</td>\n",
       "    </tr>\n",
       "  </tbody>\n",
       "</table>\n",
       "</div>"
      ],
      "text/plain": [
       "      Country Region Sales Person Date of Purchase     Total  Quantity\n",
       "6     Mylasia   West         John       2018-11-03   1000000      7890\n",
       "7       India   West         Bill       2018-01-23    240000       200\n",
       "8          US   West       Thomas       2012-08-16  26000000      1000\n",
       "15         US   West         John       2016-10-11    220000        90\n",
       "16         UK   West         Bill       2018-04-18    240000        90\n",
       "17  Australia   West       Thomas       2013-04-22    260000        90"
      ]
     },
     "execution_count": 15,
     "metadata": {},
     "output_type": "execute_result"
    }
   ],
   "source": [
    "df1[df1[\"Total\"] > 200000]"
   ]
  },
  {
   "cell_type": "code",
   "execution_count": 16,
   "metadata": {},
   "outputs": [
    {
     "data": {
      "text/html": [
       "<div>\n",
       "<style scoped>\n",
       "    .dataframe tbody tr th:only-of-type {\n",
       "        vertical-align: middle;\n",
       "    }\n",
       "\n",
       "    .dataframe tbody tr th {\n",
       "        vertical-align: top;\n",
       "    }\n",
       "\n",
       "    .dataframe thead th {\n",
       "        text-align: right;\n",
       "    }\n",
       "</style>\n",
       "<table border=\"1\" class=\"dataframe\">\n",
       "  <thead>\n",
       "    <tr style=\"text-align: right;\">\n",
       "      <th></th>\n",
       "      <th>Country</th>\n",
       "      <th>Region</th>\n",
       "      <th>Sales Person</th>\n",
       "      <th>Date of Purchase</th>\n",
       "      <th>Total</th>\n",
       "      <th>Quantity</th>\n",
       "    </tr>\n",
       "  </thead>\n",
       "  <tbody>\n",
       "    <tr>\n",
       "      <th>16</th>\n",
       "      <td>UK</td>\n",
       "      <td>West</td>\n",
       "      <td>Bill</td>\n",
       "      <td>2018-04-18</td>\n",
       "      <td>240000</td>\n",
       "      <td>90</td>\n",
       "    </tr>\n",
       "  </tbody>\n",
       "</table>\n",
       "</div>"
      ],
      "text/plain": [
       "   Country Region Sales Person Date of Purchase   Total  Quantity\n",
       "16      UK   West         Bill       2018-04-18  240000        90"
      ]
     },
     "execution_count": 16,
     "metadata": {},
     "output_type": "execute_result"
    }
   ],
   "source": [
    "df1[(df1[\"Total\"] > 200000) & (df1[\"Country\"] == \"UK\")]"
   ]
  },
  {
   "cell_type": "markdown",
   "metadata": {},
   "source": [
    "<h3 style=\"color:green\" align=\"left\"> 3. Playing With Dates </h3>"
   ]
  },
  {
   "cell_type": "raw",
   "metadata": {},
   "source": [
    "#  Most of the times when dealing with date fields we don’t use them as it is. Pandas make it really easy for you to project \n",
    "\n",
    "   Date/Month/Year from it and perform operations on top of it. In our sample dataset, the Date_of_purchase is of type string, \n",
    "   \n",
    "   hence the first step would be to convert them to the DateTime type."
   ]
  },
  {
   "cell_type": "code",
   "execution_count": 17,
   "metadata": {},
   "outputs": [
    {
     "data": {
      "text/plain": [
       "pandas._libs.tslibs.timestamps.Timestamp"
      ]
     },
     "execution_count": 17,
     "metadata": {},
     "output_type": "execute_result"
    }
   ],
   "source": [
    "type(df1['Date of Purchase'].iloc[0])"
   ]
  },
  {
   "cell_type": "markdown",
   "metadata": {},
   "source": [
    "### a. Converting Column to DateTime Object"
   ]
  },
  {
   "cell_type": "code",
   "execution_count": 18,
   "metadata": {},
   "outputs": [
    {
     "data": {
      "text/plain": [
       "pandas._libs.tslibs.timestamps.Timestamp"
      ]
     },
     "execution_count": 18,
     "metadata": {},
     "output_type": "execute_result"
    }
   ],
   "source": [
    "df1['Date of Purchase'] = pd.to_datetime(df1['Date of Purchase'])\n",
    "type(df1['Date of Purchase'].iloc[0])"
   ]
  },
  {
   "cell_type": "markdown",
   "metadata": {},
   "source": [
    "### b. Extracting Date, Month & Year"
   ]
  },
  {
   "cell_type": "code",
   "execution_count": 19,
   "metadata": {},
   "outputs": [
    {
     "data": {
      "text/plain": [
       "0     2012-05-02\n",
       "1     2010-10-31\n",
       "2     2018-10-30\n",
       "3     2010-04-20\n",
       "4     2017-10-24\n",
       "5     2013-05-10\n",
       "6     2018-11-03\n",
       "7     2018-01-23\n",
       "8     2012-08-16\n",
       "9     2016-12-22\n",
       "10    2017-07-27\n",
       "11    2010-03-21\n",
       "12    2013-02-13\n",
       "13    2010-04-11\n",
       "14    2011-01-26\n",
       "15    2016-10-11\n",
       "16    2018-04-18\n",
       "17    2013-04-22\n",
       "18    2011-10-03\n",
       "19    2018-08-17\n",
       "Name: Date of Purchase, dtype: object"
      ]
     },
     "execution_count": 19,
     "metadata": {},
     "output_type": "execute_result"
    }
   ],
   "source": [
    "df1['Date of Purchase'].dt.date"
   ]
  },
  {
   "cell_type": "code",
   "execution_count": 20,
   "metadata": {},
   "outputs": [
    {
     "data": {
      "text/plain": [
       "0      2\n",
       "1     31\n",
       "2     30\n",
       "3     20\n",
       "4     24\n",
       "5     10\n",
       "6      3\n",
       "7     23\n",
       "8     16\n",
       "9     22\n",
       "10    27\n",
       "11    21\n",
       "12    13\n",
       "13    11\n",
       "14    26\n",
       "15    11\n",
       "16    18\n",
       "17    22\n",
       "18     3\n",
       "19    17\n",
       "Name: Date of Purchase, dtype: int64"
      ]
     },
     "execution_count": 20,
     "metadata": {},
     "output_type": "execute_result"
    }
   ],
   "source": [
    "df1['Date of Purchase'].dt.day"
   ]
  },
  {
   "cell_type": "code",
   "execution_count": 21,
   "metadata": {},
   "outputs": [
    {
     "data": {
      "text/plain": [
       "0      5\n",
       "1     10\n",
       "2     10\n",
       "3      4\n",
       "4     10\n",
       "5      5\n",
       "6     11\n",
       "7      1\n",
       "8      8\n",
       "9     12\n",
       "10     7\n",
       "11     3\n",
       "12     2\n",
       "13     4\n",
       "14     1\n",
       "15    10\n",
       "16     4\n",
       "17     4\n",
       "18    10\n",
       "19     8\n",
       "Name: Date of Purchase, dtype: int64"
      ]
     },
     "execution_count": 21,
     "metadata": {},
     "output_type": "execute_result"
    }
   ],
   "source": [
    "df1['Date of Purchase'].dt.month"
   ]
  },
  {
   "cell_type": "code",
   "execution_count": 22,
   "metadata": {},
   "outputs": [
    {
     "data": {
      "text/plain": [
       "0     2012\n",
       "1     2010\n",
       "2     2018\n",
       "3     2010\n",
       "4     2017\n",
       "5     2013\n",
       "6     2018\n",
       "7     2018\n",
       "8     2012\n",
       "9     2016\n",
       "10    2017\n",
       "11    2010\n",
       "12    2013\n",
       "13    2010\n",
       "14    2011\n",
       "15    2016\n",
       "16    2018\n",
       "17    2013\n",
       "18    2011\n",
       "19    2018\n",
       "Name: Date of Purchase, dtype: int64"
      ]
     },
     "execution_count": 22,
     "metadata": {},
     "output_type": "execute_result"
    }
   ],
   "source": [
    "df1['Date of Purchase'].dt.year"
   ]
  },
  {
   "cell_type": "markdown",
   "metadata": {},
   "source": [
    "## 4. Grouping"
   ]
  },
  {
   "cell_type": "markdown",
   "metadata": {},
   "source": [
    "### Statistical operations"
   ]
  },
  {
   "cell_type": "raw",
   "metadata": {},
   "source": [
    "#  You can perform statistical operations such as min, max, mean etc., over one or more columns of a Dataframe."
   ]
  },
  {
   "cell_type": "raw",
   "metadata": {},
   "source": [
    "df1[\"Total\"].sum()\n",
    "df1[[\"Total\", \"Quantity\"]].mean()\n",
    "df1[[\"Total\", \"Quantity\"]].min()\n",
    "df1[[\"Total\", \"Quantity\"]].max()\n",
    "df1[[\"Total\", \"Quantity\"]].median()\n",
    "df1[[\"Total\", \"Quantity\"]].mode()"
   ]
  },
  {
   "cell_type": "code",
   "execution_count": 23,
   "metadata": {},
   "outputs": [
    {
     "data": {
      "text/plain": [
       "30050000"
      ]
     },
     "execution_count": 23,
     "metadata": {},
     "output_type": "execute_result"
    }
   ],
   "source": [
    "df1[\"Total\"].sum()"
   ]
  },
  {
   "cell_type": "code",
   "execution_count": 24,
   "metadata": {},
   "outputs": [
    {
     "data": {
      "text/plain": [
       "Total       1502500.0\n",
       "Quantity        977.9\n",
       "dtype: float64"
      ]
     },
     "execution_count": 24,
     "metadata": {},
     "output_type": "execute_result"
    }
   ],
   "source": [
    "df1[[\"Total\", \"Quantity\"]].mean()"
   ]
  },
  {
   "cell_type": "code",
   "execution_count": 25,
   "metadata": {},
   "outputs": [
    {
     "data": {
      "text/plain": [
       "Total       100000\n",
       "Quantity        85\n",
       "dtype: int64"
      ]
     },
     "execution_count": 25,
     "metadata": {},
     "output_type": "execute_result"
    }
   ],
   "source": [
    "df1[[\"Total\", \"Quantity\"]].min()"
   ]
  },
  {
   "cell_type": "code",
   "execution_count": 26,
   "metadata": {},
   "outputs": [
    {
     "data": {
      "text/plain": [
       "Total       26000000\n",
       "Quantity        7890\n",
       "dtype: int64"
      ]
     },
     "execution_count": 26,
     "metadata": {},
     "output_type": "execute_result"
    }
   ],
   "source": [
    "df1[[\"Total\", \"Quantity\"]].max()"
   ]
  },
  {
   "cell_type": "code",
   "execution_count": 27,
   "metadata": {},
   "outputs": [
    {
     "data": {
      "text/plain": [
       "Total       170000.0\n",
       "Quantity       505.5\n",
       "dtype: float64"
      ]
     },
     "execution_count": 27,
     "metadata": {},
     "output_type": "execute_result"
    }
   ],
   "source": [
    "df1[[\"Total\", \"Quantity\"]].median()"
   ]
  },
  {
   "cell_type": "code",
   "execution_count": 28,
   "metadata": {
    "scrolled": true
   },
   "outputs": [
    {
     "data": {
      "text/html": [
       "<div>\n",
       "<style scoped>\n",
       "    .dataframe tbody tr th:only-of-type {\n",
       "        vertical-align: middle;\n",
       "    }\n",
       "\n",
       "    .dataframe tbody tr th {\n",
       "        vertical-align: top;\n",
       "    }\n",
       "\n",
       "    .dataframe thead th {\n",
       "        text-align: right;\n",
       "    }\n",
       "</style>\n",
       "<table border=\"1\" class=\"dataframe\">\n",
       "  <thead>\n",
       "    <tr style=\"text-align: right;\">\n",
       "      <th></th>\n",
       "      <th>Total</th>\n",
       "      <th>Quantity</th>\n",
       "    </tr>\n",
       "  </thead>\n",
       "  <tbody>\n",
       "    <tr>\n",
       "      <th>0</th>\n",
       "      <td>140000</td>\n",
       "      <td>1000</td>\n",
       "    </tr>\n",
       "  </tbody>\n",
       "</table>\n",
       "</div>"
      ],
      "text/plain": [
       "    Total  Quantity\n",
       "0  140000      1000"
      ]
     },
     "execution_count": 28,
     "metadata": {},
     "output_type": "execute_result"
    }
   ],
   "source": [
    "df1[[\"Total\", \"Quantity\"]].mode()"
   ]
  },
  {
   "cell_type": "markdown",
   "metadata": {},
   "source": [
    "####  Now in a real-world application, the raw use of these statistical functions are rare, often you might want to group data based on specific parameters and derive a gist of the data.\n",
    "   \n",
    "\n",
    "####  Let’s look at an example where we look at the country-wise, country & Region-wise sales."
   ]
  },
  {
   "cell_type": "raw",
   "metadata": {},
   "source": [
    "# 1. Country wise sales and Quantity\n",
    "\n",
    "       df.groupby(\"Country\").sum()\n",
    "\n",
    "# 2. Quantity of sales over each country & Region\n",
    "\n",
    "       df.groupby([\"Country\", \"Region\"])[\"Quantity\"].sum()\n",
    "\n",
    "# 3. More than one aggregation\n",
    "\n",
    "       df.groupby([\"Country\", \"Region\"]).agg(\n",
    "                     {'Total':['sum', 'max'], \n",
    "                      'Quantity':'mean'})"
   ]
  },
  {
   "cell_type": "markdown",
   "metadata": {},
   "source": [
    "<h3 style=\"color:blue\" align=\"left\"> Groupby Country </h3>"
   ]
  },
  {
   "cell_type": "code",
   "execution_count": 29,
   "metadata": {},
   "outputs": [
    {
     "data": {
      "text/html": [
       "<div>\n",
       "<style scoped>\n",
       "    .dataframe tbody tr th:only-of-type {\n",
       "        vertical-align: middle;\n",
       "    }\n",
       "\n",
       "    .dataframe tbody tr th {\n",
       "        vertical-align: top;\n",
       "    }\n",
       "\n",
       "    .dataframe thead th {\n",
       "        text-align: right;\n",
       "    }\n",
       "</style>\n",
       "<table border=\"1\" class=\"dataframe\">\n",
       "  <thead>\n",
       "    <tr style=\"text-align: right;\">\n",
       "      <th></th>\n",
       "      <th>Total</th>\n",
       "      <th>Quantity</th>\n",
       "    </tr>\n",
       "    <tr>\n",
       "      <th>Country</th>\n",
       "      <th></th>\n",
       "      <th></th>\n",
       "    </tr>\n",
       "  </thead>\n",
       "  <tbody>\n",
       "    <tr>\n",
       "      <th>Africa</th>\n",
       "      <td>460000</td>\n",
       "      <td>1208</td>\n",
       "    </tr>\n",
       "    <tr>\n",
       "      <th>Australia</th>\n",
       "      <td>540000</td>\n",
       "      <td>1657</td>\n",
       "    </tr>\n",
       "    <tr>\n",
       "      <th>India</th>\n",
       "      <td>540000</td>\n",
       "      <td>857</td>\n",
       "    </tr>\n",
       "    <tr>\n",
       "      <th>Mylasia</th>\n",
       "      <td>1180000</td>\n",
       "      <td>8334</td>\n",
       "    </tr>\n",
       "    <tr>\n",
       "      <th>Singapore</th>\n",
       "      <td>510000</td>\n",
       "      <td>1977</td>\n",
       "    </tr>\n",
       "    <tr>\n",
       "      <th>UK</th>\n",
       "      <td>480000</td>\n",
       "      <td>1435</td>\n",
       "    </tr>\n",
       "    <tr>\n",
       "      <th>US</th>\n",
       "      <td>26340000</td>\n",
       "      <td>4090</td>\n",
       "    </tr>\n",
       "  </tbody>\n",
       "</table>\n",
       "</div>"
      ],
      "text/plain": [
       "              Total  Quantity\n",
       "Country                      \n",
       "Africa       460000      1208\n",
       "Australia    540000      1657\n",
       "India        540000       857\n",
       "Mylasia     1180000      8334\n",
       "Singapore    510000      1977\n",
       "UK           480000      1435\n",
       "US         26340000      4090"
      ]
     },
     "execution_count": 29,
     "metadata": {},
     "output_type": "execute_result"
    }
   ],
   "source": [
    "df1.groupby(\"Country\").sum()"
   ]
  },
  {
   "cell_type": "markdown",
   "metadata": {},
   "source": [
    "<h3 style=\"color:blue\" align=\"left\"> Groupby Country & Region </h3>"
   ]
  },
  {
   "cell_type": "code",
   "execution_count": 30,
   "metadata": {
    "scrolled": true
   },
   "outputs": [
    {
     "data": {
      "text/html": [
       "<div>\n",
       "<style scoped>\n",
       "    .dataframe tbody tr th:only-of-type {\n",
       "        vertical-align: middle;\n",
       "    }\n",
       "\n",
       "    .dataframe tbody tr th {\n",
       "        vertical-align: top;\n",
       "    }\n",
       "\n",
       "    .dataframe thead th {\n",
       "        text-align: right;\n",
       "    }\n",
       "</style>\n",
       "<table border=\"1\" class=\"dataframe\">\n",
       "  <thead>\n",
       "    <tr style=\"text-align: right;\">\n",
       "      <th></th>\n",
       "      <th></th>\n",
       "      <th>Total</th>\n",
       "      <th>Quantity</th>\n",
       "    </tr>\n",
       "    <tr>\n",
       "      <th>Country</th>\n",
       "      <th>Region</th>\n",
       "      <th></th>\n",
       "      <th></th>\n",
       "    </tr>\n",
       "  </thead>\n",
       "  <tbody>\n",
       "    <tr>\n",
       "      <th rowspan=\"2\" valign=\"top\">Africa</th>\n",
       "      <th>East</th>\n",
       "      <td>180000</td>\n",
       "      <td>123</td>\n",
       "    </tr>\n",
       "    <tr>\n",
       "      <th>North</th>\n",
       "      <td>280000</td>\n",
       "      <td>1085</td>\n",
       "    </tr>\n",
       "    <tr>\n",
       "      <th rowspan=\"3\" valign=\"top\">Australia</th>\n",
       "      <th>East</th>\n",
       "      <td>160000</td>\n",
       "      <td>1000</td>\n",
       "    </tr>\n",
       "    <tr>\n",
       "      <th>North</th>\n",
       "      <td>120000</td>\n",
       "      <td>567</td>\n",
       "    </tr>\n",
       "    <tr>\n",
       "      <th>West</th>\n",
       "      <td>260000</td>\n",
       "      <td>90</td>\n",
       "    </tr>\n",
       "    <tr>\n",
       "      <th rowspan=\"3\" valign=\"top\">India</th>\n",
       "      <th>East</th>\n",
       "      <td>200000</td>\n",
       "      <td>90</td>\n",
       "    </tr>\n",
       "    <tr>\n",
       "      <th>North</th>\n",
       "      <td>100000</td>\n",
       "      <td>567</td>\n",
       "    </tr>\n",
       "    <tr>\n",
       "      <th>West</th>\n",
       "      <td>240000</td>\n",
       "      <td>200</td>\n",
       "    </tr>\n",
       "    <tr>\n",
       "      <th rowspan=\"2\" valign=\"top\">Mylasia</th>\n",
       "      <th>East</th>\n",
       "      <td>180000</td>\n",
       "      <td>444</td>\n",
       "    </tr>\n",
       "    <tr>\n",
       "      <th>West</th>\n",
       "      <td>1000000</td>\n",
       "      <td>7890</td>\n",
       "    </tr>\n",
       "    <tr>\n",
       "      <th rowspan=\"2\" valign=\"top\">Singapore</th>\n",
       "      <th>East</th>\n",
       "      <td>360000</td>\n",
       "      <td>1892</td>\n",
       "    </tr>\n",
       "    <tr>\n",
       "      <th>North</th>\n",
       "      <td>150000</td>\n",
       "      <td>85</td>\n",
       "    </tr>\n",
       "    <tr>\n",
       "      <th rowspan=\"2\" valign=\"top\">UK</th>\n",
       "      <th>North</th>\n",
       "      <td>240000</td>\n",
       "      <td>1345</td>\n",
       "    </tr>\n",
       "    <tr>\n",
       "      <th>West</th>\n",
       "      <td>240000</td>\n",
       "      <td>90</td>\n",
       "    </tr>\n",
       "    <tr>\n",
       "      <th rowspan=\"2\" valign=\"top\">US</th>\n",
       "      <th>North</th>\n",
       "      <td>120000</td>\n",
       "      <td>3000</td>\n",
       "    </tr>\n",
       "    <tr>\n",
       "      <th>West</th>\n",
       "      <td>26220000</td>\n",
       "      <td>1090</td>\n",
       "    </tr>\n",
       "  </tbody>\n",
       "</table>\n",
       "</div>"
      ],
      "text/plain": [
       "                     Total  Quantity\n",
       "Country   Region                    \n",
       "Africa    East      180000       123\n",
       "          North     280000      1085\n",
       "Australia East      160000      1000\n",
       "          North     120000       567\n",
       "          West      260000        90\n",
       "India     East      200000        90\n",
       "          North     100000       567\n",
       "          West      240000       200\n",
       "Mylasia   East      180000       444\n",
       "          West     1000000      7890\n",
       "Singapore East      360000      1892\n",
       "          North     150000        85\n",
       "UK        North     240000      1345\n",
       "          West      240000        90\n",
       "US        North     120000      3000\n",
       "          West    26220000      1090"
      ]
     },
     "execution_count": 30,
     "metadata": {},
     "output_type": "execute_result"
    }
   ],
   "source": [
    "df.groupby([\"Country\", \"Region\"]).sum()"
   ]
  },
  {
   "cell_type": "markdown",
   "metadata": {},
   "source": [
    "<h3 style=\"color:blue\" align=\"left\"> Just The Quantity </h3>"
   ]
  },
  {
   "cell_type": "code",
   "execution_count": 31,
   "metadata": {},
   "outputs": [
    {
     "data": {
      "text/plain": [
       "Country    Region\n",
       "Africa     East       123\n",
       "           North     1085\n",
       "Australia  East      1000\n",
       "           North      567\n",
       "           West        90\n",
       "India      East        90\n",
       "           North      567\n",
       "           West       200\n",
       "Mylasia    East       444\n",
       "           West      7890\n",
       "Singapore  East      1892\n",
       "           North       85\n",
       "UK         North     1345\n",
       "           West        90\n",
       "US         North     3000\n",
       "           West      1090\n",
       "Name: Quantity, dtype: int64"
      ]
     },
     "execution_count": 31,
     "metadata": {},
     "output_type": "execute_result"
    }
   ],
   "source": [
    "df1.groupby([\"Country\", \"Region\"])[\"Quantity\"].sum()"
   ]
  },
  {
   "cell_type": "markdown",
   "metadata": {},
   "source": [
    "<h3 style=\"color:blue\" align=\"left\"> More than one aggregation function </h3>"
   ]
  },
  {
   "cell_type": "code",
   "execution_count": 32,
   "metadata": {},
   "outputs": [
    {
     "data": {
      "text/html": [
       "<div>\n",
       "<style scoped>\n",
       "    .dataframe tbody tr th:only-of-type {\n",
       "        vertical-align: middle;\n",
       "    }\n",
       "\n",
       "    .dataframe tbody tr th {\n",
       "        vertical-align: top;\n",
       "    }\n",
       "\n",
       "    .dataframe thead tr th {\n",
       "        text-align: left;\n",
       "    }\n",
       "\n",
       "    .dataframe thead tr:last-of-type th {\n",
       "        text-align: right;\n",
       "    }\n",
       "</style>\n",
       "<table border=\"1\" class=\"dataframe\">\n",
       "  <thead>\n",
       "    <tr>\n",
       "      <th></th>\n",
       "      <th></th>\n",
       "      <th colspan=\"2\" halign=\"left\">Total</th>\n",
       "      <th>Quantity</th>\n",
       "    </tr>\n",
       "    <tr>\n",
       "      <th></th>\n",
       "      <th></th>\n",
       "      <th>sum</th>\n",
       "      <th>max</th>\n",
       "      <th>mean</th>\n",
       "    </tr>\n",
       "    <tr>\n",
       "      <th>Country</th>\n",
       "      <th>Region</th>\n",
       "      <th></th>\n",
       "      <th></th>\n",
       "      <th></th>\n",
       "    </tr>\n",
       "  </thead>\n",
       "  <tbody>\n",
       "    <tr>\n",
       "      <th rowspan=\"2\" valign=\"top\">Africa</th>\n",
       "      <th>East</th>\n",
       "      <td>180000</td>\n",
       "      <td>180000</td>\n",
       "      <td>123.0</td>\n",
       "    </tr>\n",
       "    <tr>\n",
       "      <th>North</th>\n",
       "      <td>280000</td>\n",
       "      <td>140000</td>\n",
       "      <td>542.5</td>\n",
       "    </tr>\n",
       "    <tr>\n",
       "      <th rowspan=\"3\" valign=\"top\">Australia</th>\n",
       "      <th>East</th>\n",
       "      <td>160000</td>\n",
       "      <td>160000</td>\n",
       "      <td>1000.0</td>\n",
       "    </tr>\n",
       "    <tr>\n",
       "      <th>North</th>\n",
       "      <td>120000</td>\n",
       "      <td>120000</td>\n",
       "      <td>567.0</td>\n",
       "    </tr>\n",
       "    <tr>\n",
       "      <th>West</th>\n",
       "      <td>260000</td>\n",
       "      <td>260000</td>\n",
       "      <td>90.0</td>\n",
       "    </tr>\n",
       "    <tr>\n",
       "      <th rowspan=\"3\" valign=\"top\">India</th>\n",
       "      <th>East</th>\n",
       "      <td>200000</td>\n",
       "      <td>200000</td>\n",
       "      <td>90.0</td>\n",
       "    </tr>\n",
       "    <tr>\n",
       "      <th>North</th>\n",
       "      <td>100000</td>\n",
       "      <td>100000</td>\n",
       "      <td>567.0</td>\n",
       "    </tr>\n",
       "    <tr>\n",
       "      <th>West</th>\n",
       "      <td>240000</td>\n",
       "      <td>240000</td>\n",
       "      <td>200.0</td>\n",
       "    </tr>\n",
       "    <tr>\n",
       "      <th rowspan=\"2\" valign=\"top\">Mylasia</th>\n",
       "      <th>East</th>\n",
       "      <td>180000</td>\n",
       "      <td>180000</td>\n",
       "      <td>444.0</td>\n",
       "    </tr>\n",
       "    <tr>\n",
       "      <th>West</th>\n",
       "      <td>1000000</td>\n",
       "      <td>1000000</td>\n",
       "      <td>7890.0</td>\n",
       "    </tr>\n",
       "    <tr>\n",
       "      <th rowspan=\"2\" valign=\"top\">Singapore</th>\n",
       "      <th>East</th>\n",
       "      <td>360000</td>\n",
       "      <td>200000</td>\n",
       "      <td>946.0</td>\n",
       "    </tr>\n",
       "    <tr>\n",
       "      <th>North</th>\n",
       "      <td>150000</td>\n",
       "      <td>150000</td>\n",
       "      <td>85.0</td>\n",
       "    </tr>\n",
       "    <tr>\n",
       "      <th rowspan=\"2\" valign=\"top\">UK</th>\n",
       "      <th>North</th>\n",
       "      <td>240000</td>\n",
       "      <td>140000</td>\n",
       "      <td>672.5</td>\n",
       "    </tr>\n",
       "    <tr>\n",
       "      <th>West</th>\n",
       "      <td>240000</td>\n",
       "      <td>240000</td>\n",
       "      <td>90.0</td>\n",
       "    </tr>\n",
       "    <tr>\n",
       "      <th rowspan=\"2\" valign=\"top\">US</th>\n",
       "      <th>North</th>\n",
       "      <td>120000</td>\n",
       "      <td>120000</td>\n",
       "      <td>3000.0</td>\n",
       "    </tr>\n",
       "    <tr>\n",
       "      <th>West</th>\n",
       "      <td>26220000</td>\n",
       "      <td>26000000</td>\n",
       "      <td>545.0</td>\n",
       "    </tr>\n",
       "  </tbody>\n",
       "</table>\n",
       "</div>"
      ],
      "text/plain": [
       "                     Total           Quantity\n",
       "                       sum       max     mean\n",
       "Country   Region                             \n",
       "Africa    East      180000    180000    123.0\n",
       "          North     280000    140000    542.5\n",
       "Australia East      160000    160000   1000.0\n",
       "          North     120000    120000    567.0\n",
       "          West      260000    260000     90.0\n",
       "India     East      200000    200000     90.0\n",
       "          North     100000    100000    567.0\n",
       "          West      240000    240000    200.0\n",
       "Mylasia   East      180000    180000    444.0\n",
       "          West     1000000   1000000   7890.0\n",
       "Singapore East      360000    200000    946.0\n",
       "          North     150000    150000     85.0\n",
       "UK        North     240000    140000    672.5\n",
       "          West      240000    240000     90.0\n",
       "US        North     120000    120000   3000.0\n",
       "          West    26220000  26000000    545.0"
      ]
     },
     "execution_count": 32,
     "metadata": {},
     "output_type": "execute_result"
    }
   ],
   "source": [
    "df1.groupby([\"Country\", \"Region\"]).agg({'Total':['sum', 'max'],'Quantity':'mean'})"
   ]
  },
  {
   "cell_type": "markdown",
   "metadata": {},
   "source": [
    "## 5. Pivot Table"
   ]
  },
  {
   "cell_type": "raw",
   "metadata": {},
   "source": [
    "#  Pivot Table is an advanced version of groupby, where you can stack dimensions over both rows and columns.\n",
    "\n",
    "   i.e., as the data grows the groupby above is going to grow in length and will become hard to derive insights,\n",
    "   \n",
    "   hence a well-defined way to look at it would be Pivot tables"
   ]
  },
  {
   "cell_type": "code",
   "execution_count": 33,
   "metadata": {},
   "outputs": [
    {
     "data": {
      "text/html": [
       "<div>\n",
       "<style scoped>\n",
       "    .dataframe tbody tr th:only-of-type {\n",
       "        vertical-align: middle;\n",
       "    }\n",
       "\n",
       "    .dataframe tbody tr th {\n",
       "        vertical-align: top;\n",
       "    }\n",
       "\n",
       "    .dataframe thead tr th {\n",
       "        text-align: left;\n",
       "    }\n",
       "\n",
       "    .dataframe thead tr:last-of-type th {\n",
       "        text-align: right;\n",
       "    }\n",
       "</style>\n",
       "<table border=\"1\" class=\"dataframe\">\n",
       "  <thead>\n",
       "    <tr>\n",
       "      <th></th>\n",
       "      <th colspan=\"3\" halign=\"left\">sum</th>\n",
       "    </tr>\n",
       "    <tr>\n",
       "      <th></th>\n",
       "      <th colspan=\"3\" halign=\"left\">Quantity</th>\n",
       "    </tr>\n",
       "    <tr>\n",
       "      <th>Region</th>\n",
       "      <th>East</th>\n",
       "      <th>North</th>\n",
       "      <th>West</th>\n",
       "    </tr>\n",
       "    <tr>\n",
       "      <th>Country</th>\n",
       "      <th></th>\n",
       "      <th></th>\n",
       "      <th></th>\n",
       "    </tr>\n",
       "  </thead>\n",
       "  <tbody>\n",
       "    <tr>\n",
       "      <th>Africa</th>\n",
       "      <td>123.0</td>\n",
       "      <td>1085.0</td>\n",
       "      <td>NaN</td>\n",
       "    </tr>\n",
       "    <tr>\n",
       "      <th>Australia</th>\n",
       "      <td>1000.0</td>\n",
       "      <td>567.0</td>\n",
       "      <td>90.0</td>\n",
       "    </tr>\n",
       "    <tr>\n",
       "      <th>India</th>\n",
       "      <td>90.0</td>\n",
       "      <td>567.0</td>\n",
       "      <td>200.0</td>\n",
       "    </tr>\n",
       "    <tr>\n",
       "      <th>Mylasia</th>\n",
       "      <td>444.0</td>\n",
       "      <td>NaN</td>\n",
       "      <td>7890.0</td>\n",
       "    </tr>\n",
       "    <tr>\n",
       "      <th>Singapore</th>\n",
       "      <td>1892.0</td>\n",
       "      <td>85.0</td>\n",
       "      <td>NaN</td>\n",
       "    </tr>\n",
       "    <tr>\n",
       "      <th>UK</th>\n",
       "      <td>NaN</td>\n",
       "      <td>1345.0</td>\n",
       "      <td>90.0</td>\n",
       "    </tr>\n",
       "    <tr>\n",
       "      <th>US</th>\n",
       "      <td>NaN</td>\n",
       "      <td>3000.0</td>\n",
       "      <td>1090.0</td>\n",
       "    </tr>\n",
       "  </tbody>\n",
       "</table>\n",
       "</div>"
      ],
      "text/plain": [
       "               sum                \n",
       "          Quantity                \n",
       "Region        East   North    West\n",
       "Country                           \n",
       "Africa       123.0  1085.0     NaN\n",
       "Australia   1000.0   567.0    90.0\n",
       "India         90.0   567.0   200.0\n",
       "Mylasia      444.0     NaN  7890.0\n",
       "Singapore   1892.0    85.0     NaN\n",
       "UK             NaN  1345.0    90.0\n",
       "US             NaN  3000.0  1090.0"
      ]
     },
     "execution_count": 33,
     "metadata": {},
     "output_type": "execute_result"
    }
   ],
   "source": [
    "import numpy as np\n",
    "df1.pivot_table(index=[\"Country\"], \n",
    "               columns=[\"Region\"], \n",
    "               values=[\"Quantity\"], \n",
    "               aggfunc=[np.sum])"
   ]
  },
  {
   "cell_type": "raw",
   "metadata": {},
   "source": [
    "#  Another advantage of the Pivot Table is that you can add as many dimensions and functions you want.\n",
    "\n",
    "   It also calculates a grand total value for you"
   ]
  },
  {
   "cell_type": "code",
   "execution_count": 34,
   "metadata": {},
   "outputs": [
    {
     "data": {
      "text/html": [
       "<div>\n",
       "<style scoped>\n",
       "    .dataframe tbody tr th:only-of-type {\n",
       "        vertical-align: middle;\n",
       "    }\n",
       "\n",
       "    .dataframe tbody tr th {\n",
       "        vertical-align: top;\n",
       "    }\n",
       "\n",
       "    .dataframe thead tr th {\n",
       "        text-align: left;\n",
       "    }\n",
       "\n",
       "    .dataframe thead tr:last-of-type th {\n",
       "        text-align: right;\n",
       "    }\n",
       "</style>\n",
       "<table border=\"1\" class=\"dataframe\">\n",
       "  <thead>\n",
       "    <tr>\n",
       "      <th></th>\n",
       "      <th colspan=\"10\" halign=\"left\">sum</th>\n",
       "    </tr>\n",
       "    <tr>\n",
       "      <th></th>\n",
       "      <th colspan=\"10\" halign=\"left\">Quantity</th>\n",
       "    </tr>\n",
       "    <tr>\n",
       "      <th>Region</th>\n",
       "      <th colspan=\"3\" halign=\"left\">East</th>\n",
       "      <th colspan=\"3\" halign=\"left\">North</th>\n",
       "      <th colspan=\"3\" halign=\"left\">West</th>\n",
       "      <th>Grand Total</th>\n",
       "    </tr>\n",
       "    <tr>\n",
       "      <th>Sales Person</th>\n",
       "      <th>Bill</th>\n",
       "      <th>John</th>\n",
       "      <th>Thomas</th>\n",
       "      <th>Bill</th>\n",
       "      <th>John</th>\n",
       "      <th>Thomas</th>\n",
       "      <th>Bill</th>\n",
       "      <th>John</th>\n",
       "      <th>Thomas</th>\n",
       "      <th></th>\n",
       "    </tr>\n",
       "    <tr>\n",
       "      <th>Country</th>\n",
       "      <th></th>\n",
       "      <th></th>\n",
       "      <th></th>\n",
       "      <th></th>\n",
       "      <th></th>\n",
       "      <th></th>\n",
       "      <th></th>\n",
       "      <th></th>\n",
       "      <th></th>\n",
       "      <th></th>\n",
       "    </tr>\n",
       "  </thead>\n",
       "  <tbody>\n",
       "    <tr>\n",
       "      <th>Africa</th>\n",
       "      <td>123.0</td>\n",
       "      <td>NaN</td>\n",
       "      <td>NaN</td>\n",
       "      <td>NaN</td>\n",
       "      <td>85.0</td>\n",
       "      <td>1000.0</td>\n",
       "      <td>NaN</td>\n",
       "      <td>NaN</td>\n",
       "      <td>NaN</td>\n",
       "      <td>1208</td>\n",
       "    </tr>\n",
       "    <tr>\n",
       "      <th>Australia</th>\n",
       "      <td>NaN</td>\n",
       "      <td>1000.0</td>\n",
       "      <td>NaN</td>\n",
       "      <td>567.0</td>\n",
       "      <td>NaN</td>\n",
       "      <td>NaN</td>\n",
       "      <td>NaN</td>\n",
       "      <td>NaN</td>\n",
       "      <td>90.0</td>\n",
       "      <td>1657</td>\n",
       "    </tr>\n",
       "    <tr>\n",
       "      <th>India</th>\n",
       "      <td>NaN</td>\n",
       "      <td>NaN</td>\n",
       "      <td>90.0</td>\n",
       "      <td>NaN</td>\n",
       "      <td>567.0</td>\n",
       "      <td>NaN</td>\n",
       "      <td>200.0</td>\n",
       "      <td>NaN</td>\n",
       "      <td>NaN</td>\n",
       "      <td>857</td>\n",
       "    </tr>\n",
       "    <tr>\n",
       "      <th>Mylasia</th>\n",
       "      <td>444.0</td>\n",
       "      <td>NaN</td>\n",
       "      <td>NaN</td>\n",
       "      <td>NaN</td>\n",
       "      <td>NaN</td>\n",
       "      <td>NaN</td>\n",
       "      <td>NaN</td>\n",
       "      <td>7890.0</td>\n",
       "      <td>NaN</td>\n",
       "      <td>8334</td>\n",
       "    </tr>\n",
       "    <tr>\n",
       "      <th>Singapore</th>\n",
       "      <td>NaN</td>\n",
       "      <td>892.0</td>\n",
       "      <td>1000.0</td>\n",
       "      <td>85.0</td>\n",
       "      <td>NaN</td>\n",
       "      <td>NaN</td>\n",
       "      <td>NaN</td>\n",
       "      <td>NaN</td>\n",
       "      <td>NaN</td>\n",
       "      <td>1977</td>\n",
       "    </tr>\n",
       "    <tr>\n",
       "      <th>UK</th>\n",
       "      <td>NaN</td>\n",
       "      <td>NaN</td>\n",
       "      <td>NaN</td>\n",
       "      <td>NaN</td>\n",
       "      <td>1000.0</td>\n",
       "      <td>345.0</td>\n",
       "      <td>90.0</td>\n",
       "      <td>NaN</td>\n",
       "      <td>NaN</td>\n",
       "      <td>1435</td>\n",
       "    </tr>\n",
       "    <tr>\n",
       "      <th>US</th>\n",
       "      <td>NaN</td>\n",
       "      <td>NaN</td>\n",
       "      <td>NaN</td>\n",
       "      <td>3000.0</td>\n",
       "      <td>NaN</td>\n",
       "      <td>NaN</td>\n",
       "      <td>NaN</td>\n",
       "      <td>90.0</td>\n",
       "      <td>1000.0</td>\n",
       "      <td>4090</td>\n",
       "    </tr>\n",
       "    <tr>\n",
       "      <th>Grand Total</th>\n",
       "      <td>567.0</td>\n",
       "      <td>1892.0</td>\n",
       "      <td>1090.0</td>\n",
       "      <td>3652.0</td>\n",
       "      <td>1652.0</td>\n",
       "      <td>1345.0</td>\n",
       "      <td>290.0</td>\n",
       "      <td>7980.0</td>\n",
       "      <td>1090.0</td>\n",
       "      <td>19558</td>\n",
       "    </tr>\n",
       "  </tbody>\n",
       "</table>\n",
       "</div>"
      ],
      "text/plain": [
       "                  sum                                                         \\\n",
       "             Quantity                                                          \n",
       "Region           East                   North                   West           \n",
       "Sales Person     Bill    John  Thomas    Bill    John  Thomas   Bill    John   \n",
       "Country                                                                        \n",
       "Africa          123.0     NaN     NaN     NaN    85.0  1000.0    NaN     NaN   \n",
       "Australia         NaN  1000.0     NaN   567.0     NaN     NaN    NaN     NaN   \n",
       "India             NaN     NaN    90.0     NaN   567.0     NaN  200.0     NaN   \n",
       "Mylasia         444.0     NaN     NaN     NaN     NaN     NaN    NaN  7890.0   \n",
       "Singapore         NaN   892.0  1000.0    85.0     NaN     NaN    NaN     NaN   \n",
       "UK                NaN     NaN     NaN     NaN  1000.0   345.0   90.0     NaN   \n",
       "US                NaN     NaN     NaN  3000.0     NaN     NaN    NaN    90.0   \n",
       "Grand Total     567.0  1892.0  1090.0  3652.0  1652.0  1345.0  290.0  7980.0   \n",
       "\n",
       "                                  \n",
       "                                  \n",
       "Region               Grand Total  \n",
       "Sales Person  Thomas              \n",
       "Country                           \n",
       "Africa           NaN        1208  \n",
       "Australia       90.0        1657  \n",
       "India            NaN         857  \n",
       "Mylasia          NaN        8334  \n",
       "Singapore        NaN        1977  \n",
       "UK               NaN        1435  \n",
       "US            1000.0        4090  \n",
       "Grand Total   1090.0       19558  "
      ]
     },
     "execution_count": 34,
     "metadata": {},
     "output_type": "execute_result"
    }
   ],
   "source": [
    "df1.pivot_table(index=[\"Country\"], \n",
    "               columns=[\"Region\",\"Sales Person\"], \n",
    "               values=[\"Quantity\"], \n",
    "               aggfunc=[np.sum], \n",
    "               margins=True,\n",
    "               margins_name=\"Grand Total\")"
   ]
  }
 ],
 "metadata": {
  "kernelspec": {
   "display_name": "Python 3",
   "language": "python",
   "name": "python3"
  },
  "language_info": {
   "codemirror_mode": {
    "name": "ipython",
    "version": 3
   },
   "file_extension": ".py",
   "mimetype": "text/x-python",
   "name": "python",
   "nbconvert_exporter": "python",
   "pygments_lexer": "ipython3",
   "version": "3.7.3"
  }
 },
 "nbformat": 4,
 "nbformat_minor": 2
}
