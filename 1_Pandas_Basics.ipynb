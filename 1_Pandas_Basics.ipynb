{
 "cells": [
  {
   "cell_type": "markdown",
   "metadata": {},
   "source": [
    "## PANDAS Basics"
   ]
  },
  {
   "cell_type": "raw",
   "metadata": {},
   "source": [
    "https://towardsdatascience.com/a-quick-introduction-to-the-pandas-python-library-f1b678f34673"
   ]
  },
  {
   "cell_type": "raw",
   "metadata": {},
   "source": [
    "pip install pandas\n",
    "\n",
    "pip install jupyter\n",
    "jupyter notebook"
   ]
  },
  {
   "cell_type": "raw",
   "metadata": {},
   "source": [
    "\n",
    "# Pandas : Powerful for data analysis\n",
    "\n",
    "# Pandas stands for “Python Data Analysis Library”\n",
    "\n",
    "# one of the most preferred and widely used tools in Data munging / Wrangling\n"
   ]
  },
  {
   "cell_type": "raw",
   "metadata": {},
   "source": [
    "\n",
    "# In order to import Pandas all you have to do is run the following code:\n",
    "\n",
    "           import pandas as pd \n",
    "           import numpy as np \n",
    "           \n",
    "# you can access Pandas with ‘pd.command’ instead of needing to write ‘pandas.command’ every time you need to use it.\n",
    "\n",
    "  Also, you would import numpy as well, because it is very useful library for scientific computing with Python.\n",
    "  \n",
    "# Remember, you would need to do it every time you start a new Jupyter Notebook, Spyder file etc.\n"
   ]
  },
  {
   "cell_type": "raw",
   "metadata": {},
   "source": [
    "Pandas features for exploring, cleaning, transforming, visualizing, and learning from data."
   ]
  },
  {
   "cell_type": "raw",
   "metadata": {},
   "source": [
    "Pandas ==> Pan (Panel) + Das (Data)"
   ]
  },
  {
   "cell_type": "raw",
   "metadata": {},
   "source": [
    "The major outcomes of panda are:\n",
    "\n",
    "        1) analysis of data\n",
    "\n",
    "        2) preparation of data\n",
    "\n",
    "        3) data manipulation\n",
    "\n",
    "        4) data modeling\n",
    "\n",
    "        5) data analysis"
   ]
  }
 ],
 "metadata": {
  "kernelspec": {
   "display_name": "Python 3",
   "language": "python",
   "name": "python3"
  },
  "language_info": {
   "codemirror_mode": {
    "name": "ipython",
    "version": 3
   },
   "file_extension": ".py",
   "mimetype": "text/x-python",
   "name": "python",
   "nbconvert_exporter": "python",
   "pygments_lexer": "ipython3",
   "version": "3.7.3"
  }
 },
 "nbformat": 4,
 "nbformat_minor": 2
}
