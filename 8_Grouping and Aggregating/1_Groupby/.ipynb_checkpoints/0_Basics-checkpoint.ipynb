{
 "cells": [
  {
   "cell_type": "markdown",
   "metadata": {},
   "source": [
    "https://www.geeksforgeeks.org/pandas-groupby/"
   ]
  },
  {
   "cell_type": "raw",
   "metadata": {},
   "source": [
    "Groupby mainly refers to a process involving one or more of the following steps they are:\n",
    "    \n",
    "    1. Splitting : It is a process in which we split data into group by applying some conditions on datasets.\n",
    "    \n",
    "    2. Applying : It is a process in which we apply a function to each group independently\n",
    "    \n",
    "           a. Aggregation\n",
    "           \n",
    "           b. Transformation\n",
    "           \n",
    "           c. Filtration\n",
    "    \n",
    "    3. Combining : We combine different datasets after applying groupby and results into a data structure"
   ]
  },
  {
   "cell_type": "markdown",
   "metadata": {},
   "source": [
    "### The following image will help in understanding a process involve in Groupby concept."
   ]
  },
  {
   "cell_type": "markdown",
   "metadata": {},
   "source": [
    "### a. Group the unique values from the Team column"
   ]
  },
  {
   "cell_type": "markdown",
   "metadata": {},
   "source": [
    "![1_Groupby](image/Groupby_01.JPG)"
   ]
  },
  {
   "cell_type": "markdown",
   "metadata": {},
   "source": [
    "### b. Now there’s a bucket for each group"
   ]
  },
  {
   "cell_type": "markdown",
   "metadata": {},
   "source": [
    "![1_Groupby](image/Groupby_02.JPG)"
   ]
  },
  {
   "cell_type": "markdown",
   "metadata": {},
   "source": [
    "### c. Toss the other data into the buckets"
   ]
  },
  {
   "cell_type": "markdown",
   "metadata": {},
   "source": [
    "![1_Groupby](image/Groupby_03.JPG)"
   ]
  },
  {
   "cell_type": "markdown",
   "metadata": {},
   "source": [
    "### d. Apply a function on the weight column of each bucket."
   ]
  },
  {
   "cell_type": "markdown",
   "metadata": {},
   "source": [
    "![1_Groupby](image/Groupby_04.JPG)"
   ]
  }
 ],
 "metadata": {
  "kernelspec": {
   "display_name": "Python 3",
   "language": "python",
   "name": "python3"
  },
  "language_info": {
   "codemirror_mode": {
    "name": "ipython",
    "version": 3
   },
   "file_extension": ".py",
   "mimetype": "text/x-python",
   "name": "python",
   "nbconvert_exporter": "python",
   "pygments_lexer": "ipython3",
   "version": "3.7.9"
  }
 },
 "nbformat": 4,
 "nbformat_minor": 2
}
