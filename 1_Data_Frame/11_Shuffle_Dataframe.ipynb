{
 "cells": [
  {
   "cell_type": "markdown",
   "metadata": {},
   "source": [
    "## Pandas : How to shuffle a DataFrame rows\n",
    "- Let us see how to shuffle the rows of a DataFrame.\n",
    "\n",
    "- We will be using the **sample() method** of the pandas module to to **randomly shuffle DataFrame rows** in Pandas.\n",
    "\n",
    "### Algorithm :\n",
    "\n",
    " - Import the pandas and numpy modules.\n",
    " - Create a DataFrame.\n",
    " - Shuffle the **rows of the DataFrame** using the **sample()** method with the parameter **frac as 1,** it determines what fraction of total instances need to be returned.\n",
    " - Print the original and the shuffled DataFrames."
   ]
  },
  {
   "cell_type": "markdown",
   "metadata": {},
   "source": [
    "-------------------"
   ]
  },
  {
   "cell_type": "code",
   "execution_count": 1,
   "metadata": {},
   "outputs": [],
   "source": [
    "# import the modules \n",
    "import pandas as pd \n",
    "import numpy as np"
   ]
  },
  {
   "cell_type": "code",
   "execution_count": 2,
   "metadata": {},
   "outputs": [],
   "source": [
    "# create a DataFrame \n",
    "ODI_runs = {'name': ['Tendulkar', 'Sangakkara', 'Ponting', \n",
    "                      'Jayasurya', 'Jayawardene', 'Kohli', \n",
    "                      'Haq', 'Kallis', 'Ganguly', 'Dravid'], \n",
    "            'runs': [18426, 14234, 13704, 13430, 12650, \n",
    "                     11867, 11739, 11579, 11363, 10889]} \n",
    "df = pd.DataFrame(ODI_runs)"
   ]
  },
  {
   "cell_type": "code",
   "execution_count": 3,
   "metadata": {},
   "outputs": [
    {
     "name": "stdout",
     "output_type": "stream",
     "text": [
      "Original DataFrame :\n",
      "          name   runs\n",
      "0    Tendulkar  18426\n",
      "1   Sangakkara  14234\n",
      "2      Ponting  13704\n",
      "3    Jayasurya  13430\n",
      "4  Jayawardene  12650\n",
      "5        Kohli  11867\n",
      "6          Haq  11739\n",
      "7       Kallis  11579\n",
      "8      Ganguly  11363\n",
      "9       Dravid  10889\n"
     ]
    }
   ],
   "source": [
    "# print the original DataFrame \n",
    "print(\"Original DataFrame :\") \n",
    "print(df)"
   ]
  },
  {
   "cell_type": "code",
   "execution_count": 4,
   "metadata": {},
   "outputs": [],
   "source": [
    "# shuffle the DataFrame rows \n",
    "df = df.sample(frac = 1)"
   ]
  },
  {
   "cell_type": "code",
   "execution_count": 5,
   "metadata": {},
   "outputs": [
    {
     "name": "stdout",
     "output_type": "stream",
     "text": [
      "\n",
      "Shuffled DataFrame:\n",
      "          name   runs\n",
      "0    Tendulkar  18426\n",
      "5        Kohli  11867\n",
      "9       Dravid  10889\n",
      "8      Ganguly  11363\n",
      "4  Jayawardene  12650\n",
      "6          Haq  11739\n",
      "2      Ponting  13704\n",
      "3    Jayasurya  13430\n",
      "1   Sangakkara  14234\n",
      "7       Kallis  11579\n"
     ]
    }
   ],
   "source": [
    "# print the shuffled DataFrame \n",
    "print(\"\\nShuffled DataFrame:\") \n",
    "print(df)"
   ]
  },
  {
   "cell_type": "markdown",
   "metadata": {},
   "source": [
    "-----------------"
   ]
  }
 ],
 "metadata": {
  "kernelspec": {
   "display_name": "Python 3",
   "language": "python",
   "name": "python3"
  },
  "language_info": {
   "codemirror_mode": {
    "name": "ipython",
    "version": 3
   },
   "file_extension": ".py",
   "mimetype": "text/x-python",
   "name": "python",
   "nbconvert_exporter": "python",
   "pygments_lexer": "ipython3",
   "version": "3.7.3"
  }
 },
 "nbformat": 4,
 "nbformat_minor": 2
}
