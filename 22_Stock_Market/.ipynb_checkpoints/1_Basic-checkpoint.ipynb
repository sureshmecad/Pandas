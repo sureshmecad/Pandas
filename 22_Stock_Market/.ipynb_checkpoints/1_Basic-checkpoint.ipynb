{
 "cells": [
  {
   "cell_type": "markdown",
   "metadata": {},
   "source": [
    "### Goals:\n",
    "- Increase cumulative profit after brokerage\n",
    "- \n",
    "\n",
    "### Best time to Buy and Sell Stock\n",
    "- You have an array for which the ith element is the price of a given stock on day i.\n",
    "\n",
    "\n",
    "- Design an **algorithm to find the maximum profit**. You may complete at most two transactions.\n",
    "\n",
    "\n",
    "- **Note** : You may not engage in multiple transactions at the same time **(i.e. you must sell the stock before you buy again)**\n",
    "\n",
    "\n",
    "**Example 1:**\n",
    "\n",
    "**Input**: [3,3,5,0,0,3,1,4]\n",
    "\n",
    "**Output**: 6\n",
    "\n",
    "**Explanation**: Buy on day 4 (price=0) and sell on day 6 (price=3), profit = 3-0=3.\n",
    "       \n",
    "Then buy on day 7 (price=1) and sell on day 8 (price=4), profit = 4-1=3.\n",
    "\n",
    "- Only two transactions allowed atmost"
   ]
  }
 ],
 "metadata": {
  "kernelspec": {
   "display_name": "Python 3",
   "language": "python",
   "name": "python3"
  },
  "language_info": {
   "codemirror_mode": {
    "name": "ipython",
    "version": 3
   },
   "file_extension": ".py",
   "mimetype": "text/x-python",
   "name": "python",
   "nbconvert_exporter": "python",
   "pygments_lexer": "ipython3",
   "version": "3.7.3"
  }
 },
 "nbformat": 4,
 "nbformat_minor": 2
}
