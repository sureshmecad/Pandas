{
 "cells": [
  {
   "cell_type": "markdown",
   "metadata": {},
   "source": [
    "- create a **Simple Moving Average** crossover strategy"
   ]
  },
  {
   "cell_type": "markdown",
   "metadata": {},
   "source": [
    "![22. Moving Average](image/1.JPG)"
   ]
  },
  {
   "cell_type": "markdown",
   "metadata": {},
   "source": [
    "- Here, the **blue line** is the **stock price**, the **red line** is the **20 moving average** and the **yellow line** is the **50 moving average**.\n",
    "\n",
    "\n",
    "- The idea is that when the **20 moving average**, which reacts faster, **moves above the 50 moving average**, it means the price might be **trending up**, and we may want to **invest**.\n",
    "\n",
    "\n",
    "- Conversely, if the **20 moving average** falls **below the 50 moving average**, this signals maybe that the price is **trending down**, and that we might want to either **sell or investment or even short sell the company**."
   ]
  },
  {
   "cell_type": "markdown",
   "metadata": {},
   "source": [
    "---------------------------"
   ]
  },
  {
   "cell_type": "markdown",
   "metadata": {},
   "source": [
    "https://www.youtube.com/watch?v=DzzZGbiZenw&t=259s"
   ]
  },
  {
   "cell_type": "code",
   "execution_count": 6,
   "metadata": {},
   "outputs": [],
   "source": [
    "import quandl\n",
    "import numpy as np\n",
    "import matplotlib.pyplot as plt"
   ]
  },
  {
   "cell_type": "code",
   "execution_count": 5,
   "metadata": {},
   "outputs": [
    {
     "data": {
      "text/html": [
       "<div>\n",
       "<style scoped>\n",
       "    .dataframe tbody tr th:only-of-type {\n",
       "        vertical-align: middle;\n",
       "    }\n",
       "\n",
       "    .dataframe tbody tr th {\n",
       "        vertical-align: top;\n",
       "    }\n",
       "\n",
       "    .dataframe thead th {\n",
       "        text-align: right;\n",
       "    }\n",
       "</style>\n",
       "<table border=\"1\" class=\"dataframe\">\n",
       "  <thead>\n",
       "    <tr style=\"text-align: right;\">\n",
       "      <th></th>\n",
       "      <th>Open</th>\n",
       "      <th>High</th>\n",
       "      <th>Low</th>\n",
       "      <th>Close</th>\n",
       "      <th>Volume</th>\n",
       "      <th>Ex-Dividend</th>\n",
       "      <th>Split Ratio</th>\n",
       "      <th>Adj. Open</th>\n",
       "      <th>Adj. High</th>\n",
       "      <th>Adj. Low</th>\n",
       "      <th>Adj. Close</th>\n",
       "      <th>Adj. Volume</th>\n",
       "    </tr>\n",
       "    <tr>\n",
       "      <th>Date</th>\n",
       "      <th></th>\n",
       "      <th></th>\n",
       "      <th></th>\n",
       "      <th></th>\n",
       "      <th></th>\n",
       "      <th></th>\n",
       "      <th></th>\n",
       "      <th></th>\n",
       "      <th></th>\n",
       "      <th></th>\n",
       "      <th></th>\n",
       "      <th></th>\n",
       "    </tr>\n",
       "  </thead>\n",
       "  <tbody>\n",
       "    <tr>\n",
       "      <th>2017-01-03</th>\n",
       "      <td>757.92</td>\n",
       "      <td>758.7595</td>\n",
       "      <td>747.7000</td>\n",
       "      <td>753.67</td>\n",
       "      <td>3521066.0</td>\n",
       "      <td>0.0</td>\n",
       "      <td>1.0</td>\n",
       "      <td>757.92</td>\n",
       "      <td>758.7595</td>\n",
       "      <td>747.7000</td>\n",
       "      <td>753.67</td>\n",
       "      <td>3521066.0</td>\n",
       "    </tr>\n",
       "    <tr>\n",
       "      <th>2017-01-04</th>\n",
       "      <td>758.39</td>\n",
       "      <td>759.6800</td>\n",
       "      <td>754.2000</td>\n",
       "      <td>757.18</td>\n",
       "      <td>2510526.0</td>\n",
       "      <td>0.0</td>\n",
       "      <td>1.0</td>\n",
       "      <td>758.39</td>\n",
       "      <td>759.6800</td>\n",
       "      <td>754.2000</td>\n",
       "      <td>757.18</td>\n",
       "      <td>2510526.0</td>\n",
       "    </tr>\n",
       "    <tr>\n",
       "      <th>2017-01-05</th>\n",
       "      <td>761.55</td>\n",
       "      <td>782.3999</td>\n",
       "      <td>760.2557</td>\n",
       "      <td>780.45</td>\n",
       "      <td>5830068.0</td>\n",
       "      <td>0.0</td>\n",
       "      <td>1.0</td>\n",
       "      <td>761.55</td>\n",
       "      <td>782.3999</td>\n",
       "      <td>760.2557</td>\n",
       "      <td>780.45</td>\n",
       "      <td>5830068.0</td>\n",
       "    </tr>\n",
       "    <tr>\n",
       "      <th>2017-01-06</th>\n",
       "      <td>782.36</td>\n",
       "      <td>799.4400</td>\n",
       "      <td>778.4800</td>\n",
       "      <td>795.99</td>\n",
       "      <td>5986234.0</td>\n",
       "      <td>0.0</td>\n",
       "      <td>1.0</td>\n",
       "      <td>782.36</td>\n",
       "      <td>799.4400</td>\n",
       "      <td>778.4800</td>\n",
       "      <td>795.99</td>\n",
       "      <td>5986234.0</td>\n",
       "    </tr>\n",
       "    <tr>\n",
       "      <th>2017-01-09</th>\n",
       "      <td>798.00</td>\n",
       "      <td>801.7742</td>\n",
       "      <td>791.7700</td>\n",
       "      <td>796.92</td>\n",
       "      <td>3446109.0</td>\n",
       "      <td>0.0</td>\n",
       "      <td>1.0</td>\n",
       "      <td>798.00</td>\n",
       "      <td>801.7742</td>\n",
       "      <td>791.7700</td>\n",
       "      <td>796.92</td>\n",
       "      <td>3446109.0</td>\n",
       "    </tr>\n",
       "  </tbody>\n",
       "</table>\n",
       "</div>"
      ],
      "text/plain": [
       "              Open      High       Low   Close     Volume  Ex-Dividend  \\\n",
       "Date                                                                     \n",
       "2017-01-03  757.92  758.7595  747.7000  753.67  3521066.0          0.0   \n",
       "2017-01-04  758.39  759.6800  754.2000  757.18  2510526.0          0.0   \n",
       "2017-01-05  761.55  782.3999  760.2557  780.45  5830068.0          0.0   \n",
       "2017-01-06  782.36  799.4400  778.4800  795.99  5986234.0          0.0   \n",
       "2017-01-09  798.00  801.7742  791.7700  796.92  3446109.0          0.0   \n",
       "\n",
       "            Split Ratio  Adj. Open  Adj. High  Adj. Low  Adj. Close  \\\n",
       "Date                                                                  \n",
       "2017-01-03          1.0     757.92   758.7595  747.7000      753.67   \n",
       "2017-01-04          1.0     758.39   759.6800  754.2000      757.18   \n",
       "2017-01-05          1.0     761.55   782.3999  760.2557      780.45   \n",
       "2017-01-06          1.0     782.36   799.4400  778.4800      795.99   \n",
       "2017-01-09          1.0     798.00   801.7742  791.7700      796.92   \n",
       "\n",
       "            Adj. Volume  \n",
       "Date                     \n",
       "2017-01-03    3521066.0  \n",
       "2017-01-04    2510526.0  \n",
       "2017-01-05    5830068.0  \n",
       "2017-01-06    5986234.0  \n",
       "2017-01-09    3446109.0  "
      ]
     },
     "execution_count": 5,
     "metadata": {},
     "output_type": "execute_result"
    }
   ],
   "source": [
    "amazon = quandl.get(\"WIKI/AMZN\", start_date=\"2017-01-01\", end_date=\"2018-01-01\")\n",
    "amazon.head()"
   ]
  },
  {
   "cell_type": "code",
   "execution_count": 7,
   "metadata": {},
   "outputs": [
    {
     "data": {
      "text/html": [
       "<div>\n",
       "<style scoped>\n",
       "    .dataframe tbody tr th:only-of-type {\n",
       "        vertical-align: middle;\n",
       "    }\n",
       "\n",
       "    .dataframe tbody tr th {\n",
       "        vertical-align: top;\n",
       "    }\n",
       "\n",
       "    .dataframe thead th {\n",
       "        text-align: right;\n",
       "    }\n",
       "</style>\n",
       "<table border=\"1\" class=\"dataframe\">\n",
       "  <thead>\n",
       "    <tr style=\"text-align: right;\">\n",
       "      <th></th>\n",
       "      <th>Adj. Close</th>\n",
       "    </tr>\n",
       "    <tr>\n",
       "      <th>Date</th>\n",
       "      <th></th>\n",
       "    </tr>\n",
       "  </thead>\n",
       "  <tbody>\n",
       "    <tr>\n",
       "      <th>2017-01-03</th>\n",
       "      <td>0.000000</td>\n",
       "    </tr>\n",
       "    <tr>\n",
       "      <th>2017-01-04</th>\n",
       "      <td>0.004657</td>\n",
       "    </tr>\n",
       "    <tr>\n",
       "      <th>2017-01-05</th>\n",
       "      <td>0.030732</td>\n",
       "    </tr>\n",
       "    <tr>\n",
       "      <th>2017-01-06</th>\n",
       "      <td>0.019912</td>\n",
       "    </tr>\n",
       "    <tr>\n",
       "      <th>2017-01-09</th>\n",
       "      <td>0.001168</td>\n",
       "    </tr>\n",
       "  </tbody>\n",
       "</table>\n",
       "</div>"
      ],
      "text/plain": [
       "            Adj. Close\n",
       "Date                  \n",
       "2017-01-03    0.000000\n",
       "2017-01-04    0.004657\n",
       "2017-01-05    0.030732\n",
       "2017-01-06    0.019912\n",
       "2017-01-09    0.001168"
      ]
     },
     "execution_count": 7,
     "metadata": {},
     "output_type": "execute_result"
    }
   ],
   "source": [
    "amazon_daily_close = amazon[[\"Adj. Close\"]]\n",
    "amazon_daily_pct_c = amazon_daily_close.pct_change()\n",
    "amazon_daily_pct_c.fillna(0, inplace=True)\n",
    "amazon_daily_pct_c.head()"
   ]
  }
 ],
 "metadata": {
  "kernelspec": {
   "display_name": "Python 3",
   "language": "python",
   "name": "python3"
  },
  "language_info": {
   "codemirror_mode": {
    "name": "ipython",
    "version": 3
   },
   "file_extension": ".py",
   "mimetype": "text/x-python",
   "name": "python",
   "nbconvert_exporter": "python",
   "pygments_lexer": "ipython3",
   "version": "3.7.3"
  }
 },
 "nbformat": 4,
 "nbformat_minor": 2
}
