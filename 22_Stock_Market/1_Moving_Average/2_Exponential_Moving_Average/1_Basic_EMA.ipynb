{
 "cells": [
  {
   "cell_type": "markdown",
   "metadata": {},
   "source": [
    "https://www.youtube.com/watch?v=5KEy1OBnkJo&ab_channel=UnfoldDataScience    ---   Exponential smoothing in time series"
   ]
  },
  {
   "cell_type": "markdown",
   "metadata": {},
   "source": [
    "-----------------------"
   ]
  },
  {
   "cell_type": "markdown",
   "metadata": {},
   "source": [
    "### Timeseries Components:\n",
    "\n",
    "  1. Trend (t)\n",
    " \n",
    "  2. Seasonality (S)\n",
    " \n",
    "  3. Irregularity (I)\n",
    " \n",
    " \n",
    "|T1      |T2      |T3     |T4      |T5    |           Type                  |  Logic     |\n",
    "|--------|--------|-------|--------|------|---------------------------------|------------|\n",
    "|10      |20      |30     |40      |50    |   Additive time series          |  10+10     |\n",
    "|10      |20      |40     |80      |160   |   Multiplicative time series    |  10x2      |\n",
    "\n",
    " \n",
    "### Additive and multiplicative time series\n",
    "\n",
    "- **Additive time series**          = t + S + I\n",
    "  \n",
    "- **Multiplicative time series**    = t x S x I"
   ]
  },
  {
   "cell_type": "markdown",
   "metadata": {},
   "source": [
    "-----------------"
   ]
  },
  {
   "cell_type": "markdown",
   "metadata": {},
   "source": [
    "### Exponential Smoothing"
   ]
  },
  {
   "cell_type": "markdown",
   "metadata": {},
   "source": [
    "**1. Simple Exponential Smoothing**"
   ]
  },
  {
   "cell_type": "raw",
   "metadata": {},
   "source": [
    "   Yt = AXt + (1-A)Yt-1\n",
    "       \n",
    "   Y5 = AX50 + (1-A)Yt-1\n",
    "       \n",
    "   Y5 = 0.8x50 + 0.2Yt-1\n",
    "         |        |\n",
    "         |        |----> Less weightage to before observation\n",
    "         |\n",
    "         |--> More weightage to recent observation"
   ]
  },
  {
   "cell_type": "markdown",
   "metadata": {},
   "source": [
    "**2. Double Exponential Smoothing**"
   ]
  },
  {
   "cell_type": "raw",
   "metadata": {},
   "source": [
    "     Yt = AXt + (1-A)(Yt-1 + bt-1)\n",
    "                             |\n",
    "                             |----> Trend Component\n",
    "       \n",
    "     bt = B(Yt-Yt-1) + (1-B)bt-1"
   ]
  },
  {
   "cell_type": "markdown",
   "metadata": {},
   "source": [
    "**3. Triple Exponential Smoothing**"
   ]
  },
  {
   "cell_type": "raw",
   "metadata": {},
   "source": [
    "     Yt = (AXt/Ct-L) + (1-A)(Yt-1 + bt-1)\n",
    "      |\n",
    "      |----> Simple Exponential Smoothing\n",
    "       \n",
    "     bt = B(Yt-Yt-1) + (1-B)bt-1\n",
    "      |\n",
    "      |----> Trend Component\n",
    "       \n",
    "     ct = CXt/Yt + (1-A)ct-L  # L ---> Length of Seasonality (6 months Seasonality ie pattern is repeting every 6 months)\n",
    "      |\n",
    "      |----> Seasonality Component"
   ]
  },
  {
   "cell_type": "markdown",
   "metadata": {},
   "source": [
    "-----------------------"
   ]
  },
  {
   "cell_type": "markdown",
   "metadata": {},
   "source": [
    "https://www.youtube.com/watch?v=k_HN0wOKDd0&ab_channel=romriodemarco    ---   Forecasting: Exponential Smoothing, MSE"
   ]
  },
  {
   "cell_type": "code",
   "execution_count": 1,
   "metadata": {},
   "outputs": [],
   "source": [
    "import numpy as np"
   ]
  },
  {
   "cell_type": "code",
   "execution_count": 2,
   "metadata": {},
   "outputs": [],
   "source": [
    "dataset = [1,5,7,2,6,7,8,2,5,2,6,8,2,6,13]"
   ]
  },
  {
   "cell_type": "code",
   "execution_count": 6,
   "metadata": {},
   "outputs": [
    {
     "name": "stdout",
     "output_type": "stream",
     "text": [
      "[4.33333333 4.66666667 5.         5.         7.         5.66666667\n",
      " 5.         3.         4.33333333 5.33333333 5.33333333 5.33333333\n",
      " 7.        ]\n",
      "[5.0554206  5.0554206  5.0554206  5.0554206  5.27769685 4.16040216\n",
      " 6.67984333 6.37557727 5.59785352 2.92158766 4.26473607 4.34672588\n",
      " 5.86909688 5.78417724 5.2783445 ]\n"
     ]
    }
   ],
   "source": [
    "def movingaverage(values, window):\n",
    "    weights = np.repeat(1.0, window) / window\n",
    "    smas = np.convolve(values, weights, 'valid')\n",
    "    return smas\n",
    "\n",
    "def ExpMovingAverage(values, window):\n",
    "    weights = np.exp(np.linspace(-1., 0., window))\n",
    "    weights /= weights.sum()\n",
    "    \n",
    "    a = np.convolve(values, weights) [:len(values)]\n",
    "    a[:window] = a[window]\n",
    "    return a\n",
    "    \n",
    "print(movingaverage(dataset, 3))\n",
    "print(ExpMovingAverage(dataset, 3))"
   ]
  },
  {
   "cell_type": "markdown",
   "metadata": {},
   "source": [
    "----------------"
   ]
  }
 ],
 "metadata": {
  "kernelspec": {
   "display_name": "Python 3",
   "language": "python",
   "name": "python3"
  },
  "language_info": {
   "codemirror_mode": {
    "name": "ipython",
    "version": 3
   },
   "file_extension": ".py",
   "mimetype": "text/x-python",
   "name": "python",
   "nbconvert_exporter": "python",
   "pygments_lexer": "ipython3",
   "version": "3.7.3"
  }
 },
 "nbformat": 4,
 "nbformat_minor": 2
}
