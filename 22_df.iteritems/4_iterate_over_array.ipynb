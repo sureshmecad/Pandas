{
 "cells": [
  {
   "cell_type": "markdown",
   "metadata": {
    "id": "4XPtowjlL1Mn"
   },
   "source": [
    "- https://www.youtube.com/watch?v=PA6cR5_d2k0"
   ]
  },
  {
   "cell_type": "markdown",
   "metadata": {
    "id": "F4xSiJkeL26m"
   },
   "source": [
    "-------------------"
   ]
  },
  {
   "cell_type": "code",
   "execution_count": null,
   "metadata": {
    "id": "DZM7F9lpDzBV"
   },
   "outputs": [],
   "source": [
    "import numpy as np\n",
    "import pandas as pd"
   ]
  },
  {
   "cell_type": "markdown",
   "metadata": {
    "id": "7Pux16P2MiQw"
   },
   "source": [
    "### **Looping over one dimensional array**"
   ]
  },
  {
   "cell_type": "code",
   "execution_count": null,
   "metadata": {
    "id": "Jj1AGxLoDy5F"
   },
   "outputs": [],
   "source": [
    "attendance = np.array([35, 37, 39, 33, 36, 30, 32])"
   ]
  },
  {
   "cell_type": "code",
   "execution_count": null,
   "metadata": {
    "colab": {
     "base_uri": "https://localhost:8080/"
    },
    "id": "Nv-RAEe9FMSy",
    "outputId": "b60c2a0d-46e2-44bf-cd71-d2779e8a4b9d"
   },
   "outputs": [
    {
     "name": "stdout",
     "output_type": "stream",
     "text": [
      "1.0\n",
      "1.0\n",
      "1.0\n",
      "1.0\n",
      "1.0\n",
      "1.0\n",
      "1.0\n"
     ]
    }
   ],
   "source": [
    "for i in attendance:\n",
    "  print(i/i)"
   ]
  },
  {
   "cell_type": "markdown",
   "metadata": {
    "id": "pR8t-c_GMq-Y"
   },
   "source": [
    "### **Looping over two dimensional array**"
   ]
  },
  {
   "cell_type": "code",
   "execution_count": null,
   "metadata": {
    "id": "iKb0AZFKFMDL"
   },
   "outputs": [],
   "source": [
    "attendance1 = np.array([[35,32], [37,28], [39,34], [33,36], [36,30]])"
   ]
  },
  {
   "cell_type": "code",
   "execution_count": null,
   "metadata": {
    "colab": {
     "base_uri": "https://localhost:8080/"
    },
    "id": "-Rqt33GsFL6T",
    "outputId": "cfffcf0f-f691-4735-8968-d948c7329e6e"
   },
   "outputs": [
    {
     "name": "stdout",
     "output_type": "stream",
     "text": [
      "[35 32]\n",
      "[37 28]\n",
      "[39 34]\n",
      "[33 36]\n",
      "[36 30]\n"
     ]
    }
   ],
   "source": [
    "# simple for loop doesn't print all the elements one by one properly\n",
    "\n",
    "for i in attendance1:\n",
    "  print(i)"
   ]
  },
  {
   "cell_type": "code",
   "execution_count": null,
   "metadata": {
    "colab": {
     "base_uri": "https://localhost:8080/"
    },
    "id": "hAqyrCSzN204",
    "outputId": "322a6741-802e-4ec5-de83-94df124ba05f"
   },
   "outputs": [
    {
     "name": "stdout",
     "output_type": "stream",
     "text": [
      "35\n",
      "32\n",
      "37\n",
      "28\n",
      "39\n",
      "34\n",
      "33\n",
      "36\n",
      "36\n",
      "30\n"
     ]
    }
   ],
   "source": [
    "for i in np.nditer(attendance1):\n",
    "  print(i)"
   ]
  }
 ],
 "metadata": {
  "colab": {
   "collapsed_sections": [],
   "name": "4_iterate-over-array.ipynb",
   "provenance": []
  },
  "kernelspec": {
   "display_name": "Python 3",
   "language": "python",
   "name": "python3"
  },
  "language_info": {
   "codemirror_mode": {
    "name": "ipython",
    "version": 3
   },
   "file_extension": ".py",
   "mimetype": "text/x-python",
   "name": "python",
   "nbconvert_exporter": "python",
   "pygments_lexer": "ipython3",
   "version": "3.7.3"
  }
 },
 "nbformat": 4,
 "nbformat_minor": 1
}
