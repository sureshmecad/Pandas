{
 "cells": [
  {
   "cell_type": "markdown",
   "metadata": {},
   "source": [
    "https://towardsdatascience.com/handling-missing-data-for-a-beginner-6d6f5ea53436"
   ]
  },
  {
   "cell_type": "markdown",
   "metadata": {},
   "source": [
    "### Handling Missing Data"
   ]
  },
  {
   "cell_type": "markdown",
   "metadata": {},
   "source": [
    "#### Understanding Missing Data"
   ]
  },
  {
   "cell_type": "markdown",
   "metadata": {},
   "source": [
    "- Missing data can come in all shapes and sizes.\n",
    "\n",
    "- You can have data that looks like line 1 below where it’s only missing data in the Insulin column.\n",
    "\n",
    "- You can have data that’s missing across a lot of columns like in line 2.\n",
    "\n",
    "- You can have data that contains 0s across a lot of columns like in line 3. \n",
    "\n",
    "- You can visualize each column of data in **boxplots to find outliers**.\n",
    "\n",
    "- You can also use **heatmaps** to visualize your data highlighting the missing data."
   ]
  },
  {
   "cell_type": "markdown",
   "metadata": {},
   "source": [
    "![10_Missing_Values](image/1.JPG)"
   ]
  },
  {
   "cell_type": "raw",
   "metadata": {},
   "source": [
    "import seaborn as sns\n",
    "sns.heatmap(df.isnull(), cbar=False)"
   ]
  },
  {
   "cell_type": "markdown",
   "metadata": {},
   "source": [
    "------------"
   ]
  },
  {
   "cell_type": "markdown",
   "metadata": {},
   "source": [
    "### Treating Data for Missing Values\n",
    "This step is especially tricky since one cannot always just remove the missing observation. Various considerations must be made in order to determine how to handle missing data so that crucial information in the dataset is not lost. Broadly, there are two common ways in handling missing data\n",
    "\n",
    "### 1. Drop observations which have missing values\n",
    "This can be done when the proportion of missing values in the dataset is very small as compared to the size of dataset. That is, when missing values are rare, as well as random, they can be dropped. This is especially useful in statistical analysis where filing missing values can result in unexpected results. However, dropping observations can result in loss of information. Hence it must be done carefully.\n",
    "\n",
    "\n",
    "### 2. Data Imputation\n",
    "Imputation refers to filling in missing values using other observations. This gives the benefit that complete rows need not be dropped just because of a missing value. We now discuss different kinds of data imputation techniques:\n",
    "\n",
    "\n",
    "  - **a) Imputation using Constant Values:**\n",
    "This can be done in situations where the user has **some domain knowledge** of the dataset and needs to fill the missing observation with a **specified value (such as zero or some constant)**.\n",
    "\n",
    "\n",
    "  - **b) Imputation using Mean:**\n",
    "This is done by calculating the mean of the non-missing values and then replacing the missing value with the mean. While it is simple and fast, it is very **sensitive to outliers** and can give **poor result on encoded categorical features.** Further, it can only be **used for numeric data.**\n",
    "\n",
    "\n",
    "  - **c) Imputation by Median:**\n",
    "When the data contains **outliers,** using **median** instead of mean can be a much **better choice**. However, again, this is only possible for **numeric data.**\n",
    "\n",
    "\n",
    "  - **d) Imputation by mode (or most frequent):**\n",
    "This is done by calculating mode of non-missing values in the column having missing values and replacing missing observations with the **mode**. This has the advantage that it can also be used with **categorical variables.**\n",
    "\n",
    "\n",
    "  - **e) Imputation by predicting missing values:**\n",
    "Sometimes, the missing values are not random. In such scenarios, using imputation strategies such as filling by mean/median/mode can cause unwanted results. Predictive imputation can be used in such scenarios to detect the underlying pattern in missing data using other columns as features. It is a fairly robust technique that produces imputed values which are similar to real values. Predictive imputer also preserves skewness of data as well as range of the missing value. "
   ]
  }
 ],
 "metadata": {
  "kernelspec": {
   "display_name": "Python 3",
   "language": "python",
   "name": "python3"
  },
  "language_info": {
   "codemirror_mode": {
    "name": "ipython",
    "version": 3
   },
   "file_extension": ".py",
   "mimetype": "text/x-python",
   "name": "python",
   "nbconvert_exporter": "python",
   "pygments_lexer": "ipython3",
   "version": "3.7.9"
  }
 },
 "nbformat": 4,
 "nbformat_minor": 2
}
