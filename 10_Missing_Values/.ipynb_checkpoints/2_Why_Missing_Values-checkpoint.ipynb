{
 "cells": [
  {
   "cell_type": "markdown",
   "metadata": {},
   "source": [
    "- **Missing values** arise for many reasons. For example, the **size of the 2nd bedroom** wouldn't be collected when surveying a **1 bedroom house.**"
   ]
  },
  {
   "cell_type": "markdown",
   "metadata": {},
   "source": [
    "### Sources of Missing Values\n",
    "- Before handling missing data, it is crucial to understand the sources of the missing data. Some of the common reasons can be\n",
    " - Some fields were not filled by the user\n",
    " - While transferring database, some data was lost\n",
    " - There could be errors in processing the dataset"
   ]
  }
 ],
 "metadata": {
  "kernelspec": {
   "display_name": "Python 3",
   "language": "python",
   "name": "python3"
  },
  "language_info": {
   "codemirror_mode": {
    "name": "ipython",
    "version": 3
   },
   "file_extension": ".py",
   "mimetype": "text/x-python",
   "name": "python",
   "nbconvert_exporter": "python",
   "pygments_lexer": "ipython3",
   "version": "3.7.9"
  }
 },
 "nbformat": 4,
 "nbformat_minor": 2
}
