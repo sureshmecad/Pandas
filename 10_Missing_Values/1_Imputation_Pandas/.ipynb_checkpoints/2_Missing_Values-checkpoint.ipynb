{
 "cells": [
  {
   "cell_type": "markdown",
   "metadata": {},
   "source": [
    "<h2 style=\"color:green\" align=\"center\"> Missing Values </h2>"
   ]
  },
  {
   "cell_type": "raw",
   "metadata": {},
   "source": [
    "         NaN stands for \"not a number\"\n",
    "    \n",
    "         isnull()\n",
    "        \n",
    "         notnull()\n",
    "            \n",
    "         dropna() \n",
    "        \n",
    "         fillna()"
   ]
  },
  {
   "cell_type": "code",
   "execution_count": 3,
   "metadata": {},
   "outputs": [],
   "source": [
    "import pandas as pd"
   ]
  },
  {
   "cell_type": "code",
   "execution_count": 6,
   "metadata": {},
   "outputs": [
    {
     "name": "stdout",
     "output_type": "stream",
     "text": [
      "London       8615246\n",
      "Berlin       3562166\n",
      "Madrid       3165235\n",
      "Rome         2874038\n",
      "Paris        2273305\n",
      "Vienna       1805681\n",
      "Bucharest    1803425\n",
      "Hamburg      1760433\n",
      "Budapest     1754000\n",
      "Warsaw       1740119\n",
      "Barcelona    1602386\n",
      "Munich       1493900\n",
      "Milan        1350680\n",
      "dtype: int64\n"
     ]
    }
   ],
   "source": [
    "cities = {\"London\":    8615246,\n",
    "          \"Berlin\":    3562166, \n",
    "          \"Madrid\":    3165235, \n",
    "          \"Rome\":      2874038, \n",
    "          \"Paris\":     2273305, \n",
    "          \"Vienna\":    1805681, \n",
    "          \"Bucharest\": 1803425, \n",
    "          \"Hamburg\":   1760433,\n",
    "          \"Budapest\":  1754000,\n",
    "          \"Warsaw\":    1740119,\n",
    "          \"Barcelona\": 1602386,\n",
    "          \"Munich\":    1493900,\n",
    "          \"Milan\":     1350680}\n",
    "\n",
    "city_series = pd.Series(cities)\n",
    "print(city_series)"
   ]
  },
  {
   "cell_type": "code",
   "execution_count": 7,
   "metadata": {},
   "outputs": [
    {
     "data": {
      "text/plain": [
       "London       8615246.0\n",
       "Paris        2273305.0\n",
       "Zurich             NaN\n",
       "Berlin       3562166.0\n",
       "Stuttgart          NaN\n",
       "Hamburg      1760433.0\n",
       "dtype: float64"
      ]
     },
     "execution_count": 7,
     "metadata": {},
     "output_type": "execute_result"
    }
   ],
   "source": [
    "my_cities = [\"London\", \"Paris\", \"Zurich\", \"Berlin\", \"Stuttgart\", \"Hamburg\"]\n",
    "\n",
    "my_city_series = pd.Series(cities,index=my_cities)\n",
    "my_city_series"
   ]
  },
  {
   "cell_type": "code",
   "execution_count": 8,
   "metadata": {},
   "outputs": [
    {
     "data": {
      "text/plain": [
       "London     8615246\n",
       "Paris      2273305\n",
       "Berlin     3562166\n",
       "Hamburg    1760433\n",
       "dtype: int64"
      ]
     },
     "execution_count": 8,
     "metadata": {},
     "output_type": "execute_result"
    }
   ],
   "source": [
    "my_cities = [\"London\", \"Paris\", \"Berlin\", \"Hamburg\"]\n",
    "\n",
    "my_city_series = pd.Series(cities, index=my_cities)\n",
    "my_city_series"
   ]
  },
  {
   "cell_type": "markdown",
   "metadata": {},
   "source": [
    "### 1. The Methods isnull( ) and notnull( )"
   ]
  },
  {
   "cell_type": "raw",
   "metadata": {},
   "source": [
    "# NaN stands for \"not a number\". It can also be seen as meaning \"missing\" in our example."
   ]
  },
  {
   "cell_type": "code",
   "execution_count": 14,
   "metadata": {},
   "outputs": [],
   "source": [
    "my_cities = [\"London\", \"Paris\", \"Zurich\", \"Berlin\", \"Stuttgart\", \"Hamburg\"]\n",
    "\n",
    "my_city_series = pd.Series(cities, index=my_cities)"
   ]
  },
  {
   "cell_type": "code",
   "execution_count": 15,
   "metadata": {},
   "outputs": [
    {
     "data": {
      "text/plain": [
       "London       False\n",
       "Paris        False\n",
       "Zurich        True\n",
       "Berlin       False\n",
       "Stuttgart     True\n",
       "Hamburg      False\n",
       "dtype: bool"
      ]
     },
     "execution_count": 15,
     "metadata": {},
     "output_type": "execute_result"
    }
   ],
   "source": [
    "my_city_series.isnull()"
   ]
  },
  {
   "cell_type": "code",
   "execution_count": 10,
   "metadata": {},
   "outputs": [
    {
     "data": {
      "text/plain": [
       "London        True\n",
       "Paris         True\n",
       "Zurich       False\n",
       "Berlin        True\n",
       "Stuttgart    False\n",
       "Hamburg       True\n",
       "dtype: bool"
      ]
     },
     "execution_count": 10,
     "metadata": {},
     "output_type": "execute_result"
    }
   ],
   "source": [
    "my_city_series.notnull()"
   ]
  },
  {
   "cell_type": "markdown",
   "metadata": {},
   "source": [
    "### 2. Connection between NaN and None"
   ]
  },
  {
   "cell_type": "raw",
   "metadata": {},
   "source": [
    "# We get also a NaN, if a value in the dictionary has a None:"
   ]
  },
  {
   "cell_type": "code",
   "execution_count": 11,
   "metadata": {},
   "outputs": [
    {
     "data": {
      "text/plain": [
       "a    23.0\n",
       "b    45.0\n",
       "c     NaN\n",
       "d     0.0\n",
       "dtype: float64"
      ]
     },
     "execution_count": 11,
     "metadata": {},
     "output_type": "execute_result"
    }
   ],
   "source": [
    "d = {\"a\":23, \"b\":45, \"c\":None, \"d\":0}\n",
    "S = pd.Series(d)\n",
    "S"
   ]
  },
  {
   "cell_type": "code",
   "execution_count": 12,
   "metadata": {},
   "outputs": [
    {
     "data": {
      "text/plain": [
       "a    False\n",
       "b    False\n",
       "c     True\n",
       "d    False\n",
       "dtype: bool"
      ]
     },
     "execution_count": 12,
     "metadata": {},
     "output_type": "execute_result"
    }
   ],
   "source": [
    "pd.isnull(S)"
   ]
  },
  {
   "cell_type": "code",
   "execution_count": 13,
   "metadata": {},
   "outputs": [
    {
     "data": {
      "text/plain": [
       "a     True\n",
       "b     True\n",
       "c    False\n",
       "d     True\n",
       "dtype: bool"
      ]
     },
     "execution_count": 13,
     "metadata": {},
     "output_type": "execute_result"
    }
   ],
   "source": [
    "pd.notnull(S)"
   ]
  },
  {
   "cell_type": "markdown",
   "metadata": {},
   "source": [
    "### 3. Filtering out Missing Data"
   ]
  },
  {
   "cell_type": "raw",
   "metadata": {},
   "source": [
    "# It's possible to filter out missing data with the Series method dropna.\n",
    "  It returns a Series which consists only of non-null data:"
   ]
  },
  {
   "cell_type": "code",
   "execution_count": 16,
   "metadata": {},
   "outputs": [
    {
     "data": {
      "text/plain": [
       "London     8615246.0\n",
       "Paris      2273305.0\n",
       "Berlin     3562166.0\n",
       "Hamburg    1760433.0\n",
       "dtype: float64"
      ]
     },
     "execution_count": 16,
     "metadata": {},
     "output_type": "execute_result"
    }
   ],
   "source": [
    "my_city_series.dropna()"
   ]
  },
  {
   "cell_type": "markdown",
   "metadata": {},
   "source": [
    "### 4. Filling in Missing Data"
   ]
  },
  {
   "cell_type": "raw",
   "metadata": {},
   "source": [
    "# In many cases you don't want to filter out missing data, but you want to fill in appropriate data for the empty gaps.\n",
    "  A suitable method in many situations will be fillna:"
   ]
  },
  {
   "cell_type": "code",
   "execution_count": 18,
   "metadata": {},
   "outputs": [
    {
     "data": {
      "text/plain": [
       "London       8615246.0\n",
       "Paris        2273305.0\n",
       "Zurich             0.0\n",
       "Berlin       3562166.0\n",
       "Stuttgart          0.0\n",
       "Hamburg      1760433.0\n",
       "dtype: float64"
      ]
     },
     "execution_count": 18,
     "metadata": {},
     "output_type": "execute_result"
    }
   ],
   "source": [
    "my_city_series.fillna(0)"
   ]
  },
  {
   "cell_type": "code",
   "execution_count": 19,
   "metadata": {
    "scrolled": false
   },
   "outputs": [
    {
     "data": {
      "text/plain": [
       "London       8615246.0\n",
       "Paris        2273305.0\n",
       "Zurich        378884.0\n",
       "Berlin       3562166.0\n",
       "Stuttgart     597939.0\n",
       "Hamburg      1760433.0\n",
       "dtype: float64"
      ]
     },
     "execution_count": 19,
     "metadata": {},
     "output_type": "execute_result"
    }
   ],
   "source": [
    "missing_cities = {\"Stuttgart\":597939, \"Zurich\":378884}\n",
    "my_city_series.fillna(missing_cities)"
   ]
  },
  {
   "cell_type": "raw",
   "metadata": {},
   "source": [
    "cities = {\"London\":   8615246, \n",
    "          \"Berlin\":   3562166, \n",
    "          \"Madrid\":   3165235, \n",
    "          \"Rome\":     2874038, \n",
    "          \"Paris\":    2273305, \n",
    "          \"Vienna\":   1805681, \n",
    "          \"Bucharest\":1803425, \n",
    "          \"Hamburg\":  1760433,\n",
    "          \"Budapest\": 1754000,\n",
    "          \"Warsaw\":   1740119,\n",
    "          \"Barcelona\":1602386,\n",
    "          \"Munich\":   1493900,\n",
    "          \"Milan\":    1350680}\n",
    "\n",
    "my_cities = [\"London\", \"Paris\", \"Zurich\", \"Berlin\", \n",
    "             \"Stuttgart\", \"Hamburg\"]\n",
    "\n",
    "my_city_series = pd.Series(cities, \n",
    "                           index=my_cities)\n",
    "my_city_series = my_city_series.fillna(0).astype(int)\n",
    "print(my_city_series)"
   ]
  }
 ],
 "metadata": {
  "kernelspec": {
   "display_name": "Python 3",
   "language": "python",
   "name": "python3"
  },
  "language_info": {
   "codemirror_mode": {
    "name": "ipython",
    "version": 3
   },
   "file_extension": ".py",
   "mimetype": "text/x-python",
   "name": "python",
   "nbconvert_exporter": "python",
   "pygments_lexer": "ipython3",
   "version": "3.7.9"
  }
 },
 "nbformat": 4,
 "nbformat_minor": 2
}
