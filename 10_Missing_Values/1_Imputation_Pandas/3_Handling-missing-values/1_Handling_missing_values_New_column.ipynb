{
  "nbformat": 4,
  "nbformat_minor": 0,
  "metadata": {
    "colab": {
      "name": "1_Handling-missing-values_New-column.ipynb",
      "provenance": [],
      "collapsed_sections": []
    },
    "kernelspec": {
      "name": "python3",
      "display_name": "Python 3"
    },
    "language_info": {
      "name": "python"
    }
  },
  "cells": [
    {
      "cell_type": "code",
      "metadata": {
        "id": "vYmVkSarFQOl"
      },
      "source": [
        "path_data='../input/tabular-playground-series-sep-2021'\n",
        "X_test = pd.read_csv(path_data+'/test.csv')\n",
        "train_df = pd.read_csv(path_data+'/train.csv')\n",
        "TARGET = train_df.columns[-1]\n",
        "\n",
        "y_train = train_df[train_df.columns[-1]]\n",
        "X_train = train_df.drop(train_df.columns[-1], axis=1)\n",
        "print(f'Test shape: {X_test.shape}, X_train shape: {X_train.shape}, y_train shape: {y_train.shape}')\n",
        "print(f'Count of null-values: {X_train.isna().sum().sum()}')"
      ],
      "execution_count": null,
      "outputs": []
    },
    {
      "cell_type": "markdown",
      "metadata": {
        "id": "O1h3B5eNEye_"
      },
      "source": [
        "- Add a column with count of missing objects in the row"
      ]
    },
    {
      "cell_type": "code",
      "metadata": {
        "id": "piXFrnWHDmMZ"
      },
      "source": [
        "X_train['n_missing'] = X_train.isna().sum(axis=1)\n",
        "X_test['n_missing'] = X_test.isna().sum(axis=1)"
      ],
      "execution_count": null,
      "outputs": []
    },
    {
      "cell_type": "code",
      "metadata": {
        "id": "QXv41oRjE8mr"
      },
      "source": [
        "columns_for_pred  = X_train.columns\n",
        "columns_for_pred"
      ],
      "execution_count": null,
      "outputs": []
    },
    {
      "cell_type": "markdown",
      "metadata": {
        "id": "P4Pm7S8jFCGt"
      },
      "source": [
        "- Use SimpleImputer to populate Nan-value in our dataset. It is important that fit_transform() returns ndarray, not pd.DataFrame, so later, to apply methods with pd.DataFrame, the object will need to be cast to this type."
      ]
    },
    {
      "cell_type": "code",
      "metadata": {
        "id": "MGkGmFu3FIUN"
      },
      "source": [
        "si = impute.SimpleImputer()\n",
        "\n",
        "X_train =  si.fit_transform(X_train)\n",
        "X_test =  si.fit_transform(X_test)"
      ],
      "execution_count": null,
      "outputs": []
    }
  ]
}