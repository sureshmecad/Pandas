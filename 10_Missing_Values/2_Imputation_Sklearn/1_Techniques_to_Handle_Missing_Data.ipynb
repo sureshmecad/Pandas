{
 "cells": [
  {
   "cell_type": "markdown",
   "metadata": {},
   "source": [
    "https://www.youtube.com/watch?v=P_iMSYQnqac        --->  Handling Missing Data Easily Explained| Machine Learning\n",
    "\n",
    "https://www.youtube.com/watch?v=q-DyjA8ZmYM&t=2s   --->  How To Handle Missing Values in Categorical Features\n",
    "\n",
    "https://www.youtube.com/watch?v=9agiwBvCpHA        --->  Managing Missing Features"
   ]
  },
  {
   "cell_type": "markdown",
   "metadata": {},
   "source": [
    "-------------------------------------------------------------------------------------------------------------------------------"
   ]
  },
  {
   "cell_type": "markdown",
   "metadata": {},
   "source": [
    "#### 1. Data can have missing values for a number of reasons:\n",
    "\n",
    "      a. Observations that were not recorded\n",
    "    \n",
    "      b. Data corruption.\n",
    "        \n",
    "\n",
    "#### 2. Handling missing data is important as many ML algorithms do not support data with missing values.\n",
    "\n",
    "#### 3. After completing this tutorial will know:\n",
    "\n",
    "      a. How to marking invalid or corrupt values as missing in your dataset.\n",
    "    \n",
    "      b. How to remove rows with missing data from your dataset.\n",
    "        \n",
    "      c. How to impute missing values with mean values in your dataset."
   ]
  },
  {
   "cell_type": "markdown",
   "metadata": {},
   "source": [
    "-------------------------------------------------------------------------------------------------------------------------------"
   ]
  },
  {
   "cell_type": "raw",
   "metadata": {},
   "source": [
    "#  To replace the missing values for:\n",
    "\n",
    "\n",
    "        Numeric fields with  ---->  'mean', 'median'\n",
    "        \n",
    "        Text fields with     ---->  'mode'."
   ]
  },
  {
   "cell_type": "markdown",
   "metadata": {},
   "source": [
    "### pandas.DataFrame.mode"
   ]
  },
  {
   "cell_type": "markdown",
   "metadata": {},
   "source": [
    "https://pandas.pydata.org/pandas-docs/version/0.17/generated/pandas.DataFrame.mode.html"
   ]
  },
  {
   "cell_type": "markdown",
   "metadata": {},
   "source": [
    "![3. Techniques to Handle Missing Data](image/4.JPG)"
   ]
  },
  {
   "cell_type": "code",
   "execution_count": 2,
   "metadata": {},
   "outputs": [],
   "source": [
    "import pandas as pd"
   ]
  },
  {
   "cell_type": "code",
   "execution_count": 3,
   "metadata": {},
   "outputs": [
    {
     "data": {
      "text/html": [
       "<div>\n",
       "<style scoped>\n",
       "    .dataframe tbody tr th:only-of-type {\n",
       "        vertical-align: middle;\n",
       "    }\n",
       "\n",
       "    .dataframe tbody tr th {\n",
       "        vertical-align: top;\n",
       "    }\n",
       "\n",
       "    .dataframe thead th {\n",
       "        text-align: right;\n",
       "    }\n",
       "</style>\n",
       "<table border=\"1\" class=\"dataframe\">\n",
       "  <thead>\n",
       "    <tr style=\"text-align: right;\">\n",
       "      <th></th>\n",
       "      <th>A</th>\n",
       "    </tr>\n",
       "  </thead>\n",
       "  <tbody>\n",
       "    <tr>\n",
       "      <th>0</th>\n",
       "      <td>1</td>\n",
       "    </tr>\n",
       "    <tr>\n",
       "      <th>1</th>\n",
       "      <td>2</td>\n",
       "    </tr>\n",
       "  </tbody>\n",
       "</table>\n",
       "</div>"
      ],
      "text/plain": [
       "   A\n",
       "0  1\n",
       "1  2"
      ]
     },
     "execution_count": 3,
     "metadata": {},
     "output_type": "execute_result"
    }
   ],
   "source": [
    "df = pd.DataFrame({'A': [1, 2, 1, 2, 1, 2, 3]})\n",
    "df.mode()"
   ]
  },
  {
   "cell_type": "markdown",
   "metadata": {},
   "source": [
    "-------------------------------------------------------------------------------------------------------------------------------"
   ]
  },
  {
   "cell_type": "markdown",
   "metadata": {},
   "source": [
    "## Techniques to handle missing values"
   ]
  },
  {
   "cell_type": "raw",
   "metadata": {},
   "source": [
    "#  Techniques to handle missing values\n",
    "\n",
    "      a. Numeric Variables\n",
    "      \n",
    "      b. Handle Missing Values in Categorical Variables"
   ]
  },
  {
   "cell_type": "markdown",
   "metadata": {},
   "source": [
    "<h2 style=\"color:green\" align=\"left\"> a. Numeric Variables </h2>"
   ]
  },
  {
   "cell_type": "markdown",
   "metadata": {},
   "source": [
    "#### 1. Delete the record missing value\n",
    "\n",
    "#### 2. Create a seperate model to handle missing value\n",
    "\n",
    "#### 3. Statistical methods Mean, Median and Mode"
   ]
  },
  {
   "cell_type": "markdown",
   "metadata": {},
   "source": [
    "<h2 style=\"color:blue\" align=\"left\"> 1. Delete the record missing value </h2>"
   ]
  },
  {
   "cell_type": "raw",
   "metadata": {},
   "source": [
    "#  when we have huge dataset (millions of record)\n",
    "\n",
    "#  If we have smaller data, we should never ever follow this approach"
   ]
  },
  {
   "cell_type": "markdown",
   "metadata": {},
   "source": [
    "![3. Techniques to Handle Missing Data](image/delete.JPG)"
   ]
  },
  {
   "cell_type": "markdown",
   "metadata": {},
   "source": [
    "<h2 style=\"color:blue\" align=\"left\"> 2. Create a seperate model to handle missing value </h2>"
   ]
  },
  {
   "cell_type": "raw",
   "metadata": {},
   "source": [
    "#  Its not a good technique takes more time and effort is also more.\n",
    "\n",
    "#  Only good to use when dataset is small."
   ]
  },
  {
   "cell_type": "raw",
   "metadata": {},
   "source": [
    "\n",
    "#  Consider we have 1000 items in dataset. In that missing values : 100 items and these items considered as test data;\n",
    "    \n",
    "                                                                    remaining 900 items as train data.\n",
    "   \n",
    "   (f1 --> first feature don't have value ---> considered as test dataset)\n",
    "\n",
    "     \n",
    "     \n",
    "     a.  skip o/p column (can consider as input feature also f2, f3, f4, o/p)\n",
    "     \n",
    "     \n",
    "     b.  f2, f3, f4 features   --->   train dataset                 (X_train)     --->    give it to model to train\n",
    "     \n",
    "     \n",
    "     c.  f1                    --->   will be output feature        (Y_train)\n",
    "     \n",
    "     \n",
    "     d.  f2, f3, f4            --->   first row (missing value)     (X_test)      --->    test dataset  \n",
    "     \n",
    "     \n",
    "     e.  f1                    --->   first row (missing value)     (Y_test)      --->    test dataset\n",
    "     "
   ]
  },
  {
   "cell_type": "markdown",
   "metadata": {},
   "source": [
    "![3. Techniques to Handle Missing Data](image/seperate.JPG)"
   ]
  },
  {
   "cell_type": "markdown",
   "metadata": {},
   "source": [
    "<h2 style=\"color:blue\" align=\"left\"> 3. Statistical methods Mean, Median and Mode </h2> "
   ]
  },
  {
   "cell_type": "raw",
   "metadata": {},
   "source": [
    "# Best technique because it uses statistics\n",
    "\n",
    "    1. Mean    --->   Avg                              --->   missing value replaced by 30\n",
    "    \n",
    "    2. Median  --->   Median value (middle value)      --->   missing value replaced by 30\n",
    "    \n",
    "    3. Mode    --->   frequency (30 repeated twice)    --->   missing value replaced by 30"
   ]
  },
  {
   "cell_type": "markdown",
   "metadata": {},
   "source": [
    "![3. Techniques to Handle Missing Data](image/mean.JPG)"
   ]
  },
  {
   "cell_type": "markdown",
   "metadata": {},
   "source": [
    "-------------------------------------------------------------------------------------------------------------------------------"
   ]
  },
  {
   "cell_type": "markdown",
   "metadata": {},
   "source": [
    "## Managing missing features"
   ]
  },
  {
   "cell_type": "raw",
   "metadata": {},
   "source": [
    "#  Managing missing features\n",
    "\n",
    "      1. Remove the record\n",
    "      \n",
    "      2. Create Sub-model\n",
    "      \n",
    "      3. Automatic Strategy\n",
    "      \n",
    "          a. mean\n",
    "          \n",
    "          b. median\n",
    "          \n",
    "          c. mode"
   ]
  },
  {
   "cell_type": "raw",
   "metadata": {},
   "source": []
  },
  {
   "cell_type": "markdown",
   "metadata": {},
   "source": [
    "<img src=\"2.JPG\" height=\"470\" width=\"470\" align=\"left\" />\n",
    "<img src=\"3.JPG\" height=\"460\" width=\"480\" align=\"left\" />"
   ]
  },
  {
   "cell_type": "markdown",
   "metadata": {},
   "source": [
    "![3. Techniques to Handle Missing Data](image/2.JPG)\n",
    "![3. Techniques to Handle Missing Data](image/3.JPG)"
   ]
  },
  {
   "cell_type": "markdown",
   "metadata": {},
   "source": [
    "-------------------------------------------------------------------------------------------------------------------------------"
   ]
  },
  {
   "cell_type": "markdown",
   "metadata": {},
   "source": [
    "<h2 style=\"color:green\" align=\"left\"> b. Handle Missing Values in Categorical Variables </h2>"
   ]
  },
  {
   "cell_type": "markdown",
   "metadata": {},
   "source": [
    "#### 1. Delete the rows\n",
    "\n",
    "#### 2. Replace with the most frequent values\n",
    "\n",
    "#### 3. Apply classifier algorithm to predict\n",
    "\n",
    "#### 4. Apply unsupervised ML"
   ]
  },
  {
   "cell_type": "markdown",
   "metadata": {},
   "source": [
    "![3. Techniques to Handle Missing Data](image/1.jpg)"
   ]
  },
  {
   "cell_type": "markdown",
   "metadata": {},
   "source": [
    "<h3 style=\"color:blue\" align=\"left\"> 1. Delete the rows </h3>"
   ]
  },
  {
   "cell_type": "raw",
   "metadata": {},
   "source": [
    "#  wherever empty cell is there ---> delete particular row\n",
    "\n",
    "#  Deleting records may be important for classification problem\n",
    "\n",
    "#  Cann't delete the rows if dataset is small\n",
    "\n",
    "#  Never delete missing values unless have millions of records and in that have very less records of missing values then we can \n",
    "\n",
    "   delete values."
   ]
  },
  {
   "cell_type": "markdown",
   "metadata": {},
   "source": [
    "<h3 style=\"color:blue\" align=\"left\"> 2. Replace with the most frequent values </h3>"
   ]
  },
  {
   "cell_type": "raw",
   "metadata": {},
   "source": [
    "#  Replace with the most frequent values:\n",
    "\n",
    "\n",
    "   In f1  --->  most frequent value is FEMALE & is replaced with all missing values.\n",
    "   \n",
    "\n",
    "       #  But this may also lead to Imbalanced dataset within the category not wrt o/p variables\n",
    "       \n",
    "       #  Suppose i have 1000 records\n",
    "       \n",
    "             * 700 records ---> FEMALE\n",
    "            \n",
    "             * 200 records ---> MALE\n",
    "            \n",
    "             * 100 records ---> Missing Values\n",
    "            \n",
    "            \n",
    "       #  After replacing 100 missing values with FEMALE\n",
    "       \n",
    "             * 800 records ---> FEMALE\n",
    "            \n",
    "             * 200 records ---> MALE\n",
    "             "
   ]
  },
  {
   "cell_type": "markdown",
   "metadata": {},
   "source": [
    "<h3 style=\"color:blue\" align=\"left\"> 3. Apply classifier algorithm to predict </h3>"
   ]
  },
  {
   "cell_type": "raw",
   "metadata": {},
   "source": [
    "#  Same concept as \"Create a seperate model to handle missing value\"\n",
    "\n",
    "      - K Nearest"
   ]
  },
  {
   "cell_type": "markdown",
   "metadata": {},
   "source": [
    "<h3 style=\"color:blue\" align=\"left\"> 4. Apply unsupervised ML </h3>"
   ]
  },
  {
   "cell_type": "raw",
   "metadata": {},
   "source": [
    "#  Clustering technique\n",
    "\n",
    "     - K Means Clustering\n",
    "     \n",
    "     - Hierchi Clustering\n",
    "\n"
   ]
  },
  {
   "cell_type": "markdown",
   "metadata": {},
   "source": [
    "-------------------------------------------------------------------------------------------------------------------------------"
   ]
  },
  {
   "cell_type": "markdown",
   "metadata": {},
   "source": [
    "![3. Techniques to Handle Missing Data](image/5.JPG)"
   ]
  },
  {
   "cell_type": "code",
   "execution_count": null,
   "metadata": {},
   "outputs": [],
   "source": []
  }
 ],
 "metadata": {
  "kernelspec": {
   "display_name": "Python 3",
   "language": "python",
   "name": "python3"
  },
  "language_info": {
   "codemirror_mode": {
    "name": "ipython",
    "version": 3
   },
   "file_extension": ".py",
   "mimetype": "text/x-python",
   "name": "python",
   "nbconvert_exporter": "python",
   "pygments_lexer": "ipython3",
   "version": "3.7.9"
  }
 },
 "nbformat": 4,
 "nbformat_minor": 2
}
