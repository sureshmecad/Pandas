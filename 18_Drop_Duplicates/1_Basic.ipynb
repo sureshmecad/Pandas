{
 "cells": [
  {
   "cell_type": "markdown",
   "metadata": {},
   "source": [
    "### Sources of Duplicate Data\n",
    "- Duplicate data mostly arises during data collection in scenarios when\n",
    " - The user combines dataset from multiple sources\n",
    " - The user scrapes data from the web\n",
    " - The user receives data from other client"
   ]
  },
  {
   "cell_type": "markdown",
   "metadata": {},
   "source": [
    "### Treating Data for Duplicate Values\n",
    "- This kind of data incorrectness is most easy to rectify. We can simply remove the rows which have data as no information is lost in this step."
   ]
  }
 ],
 "metadata": {
  "kernelspec": {
   "display_name": "Python 3",
   "language": "python",
   "name": "python3"
  },
  "language_info": {
   "codemirror_mode": {
    "name": "ipython",
    "version": 3
   },
   "file_extension": ".py",
   "mimetype": "text/x-python",
   "name": "python",
   "nbconvert_exporter": "python",
   "pygments_lexer": "ipython3",
   "version": "3.7.3"
  }
 },
 "nbformat": 4,
 "nbformat_minor": 2
}
