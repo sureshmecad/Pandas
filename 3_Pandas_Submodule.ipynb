{
 "cells": [
  {
   "cell_type": "raw",
   "metadata": {},
   "source": [
    "https://www.novixys.com/blog/pandas-tutorial-dataframe-basics/          # DataFrame Basics"
   ]
  },
  {
   "cell_type": "markdown",
   "metadata": {},
   "source": [
    "<h1 style=\"color:green\" align=\"center\"> Pandas Submodules <h1>"
   ]
  },
  {
   "cell_type": "markdown",
   "metadata": {},
   "source": [
    "PANDAS SUBMODULES :\n",
    "\n",
    "         1. .loc & .iloc\n",
    "\n",
    "         2. grouping and aggregation functions\n",
    "\n",
    "                  Data Aggregation :\n",
    "\n",
    "                          i)   .count()\n",
    "\n",
    "                         ii)   .sum()\n",
    "\n",
    "                        iii)   .min()\n",
    "\n",
    "                         iv)   .max()\n",
    "\n",
    "                          v)   .mean()\n",
    "\n",
    "                         vi)   .median()\n",
    "\n",
    "          3. pd.Series\n",
    "\n",
    "          4. pd.DataFrame\n",
    "\n",
    "          5. Indexing\n",
    "\n",
    "          6. NaN Missing data\n",
    "\n",
    "                   a. The Methods isnull() and notnull()\n",
    "\n",
    "                   b. Connection between NaN and None\n",
    "\n",
    "                   c. Filtering out Missing Data\n",
    "\n",
    "                   d. Filling in Missing Data"
   ]
  },
  {
   "cell_type": "markdown",
   "metadata": {},
   "source": [
    "<h2 style=\"color:blue\" align=\"lef\"> Working with Pandas <h2>"
   ]
  },
  {
   "cell_type": "markdown",
   "metadata": {},
   "source": [
    "### 1. Loading and Saving Data with Pandas"
   ]
  },
  {
   "cell_type": "raw",
   "metadata": {},
   "source": [
    "When you want to use Pandas for data analysis, you’ll usually use it in one of three different ways:\n",
    "    \n",
    "                \n",
    "        a. Convert a Python’s list, dictionary or Numpy array to a Pandas data frame\n",
    "                \n",
    "        b. Open a local file using Pandas, usually a CSV file, but could also be a delimited text file (like TSV), Excel, etc\n",
    "                    \n",
    "        c. Open a remote file or database like a CSV or a JSONon a website through a URL or read from a SQL table / database\n",
    "                    "
   ]
  },
  {
   "cell_type": "markdown",
   "metadata": {},
   "source": [
    "### 2. Viewing and Inspecting Data"
   ]
  },
  {
   "cell_type": "raw",
   "metadata": {},
   "source": [
    "        df.head(n)                    :   The first n rows\n",
    "\n",
    "        df.tail(n)                    :   The last n rows\n",
    "\n",
    "        df.shape                      :   The number of rows and columns\n",
    "\n",
    "        df.info( )                    :   The index, datatype and memory information\n",
    "\n",
    "        s.value_counts(dropna=False)  :   Allow you to view unique values and counts for a series\n",
    "                                          (like a column or a few columns)\n",
    "\n",
    "        df.describe( )                :   summary statistics for numerical columns\n",
    "            "
   ]
  },
  {
   "cell_type": "markdown",
   "metadata": {},
   "source": [
    "### To get statistics on the entire data frame or a series (a column etc):"
   ]
  },
  {
   "cell_type": "raw",
   "metadata": {},
   "source": [
    "    from statistics import mean\n",
    "\n",
    "    from statistics import median\n",
    "    \n",
    "    from statistics import mode\n",
    "    \n",
    "    from statistics import variance"
   ]
  },
  {
   "cell_type": "raw",
   "metadata": {},
   "source": [
    "            \n",
    "        df.mean( )       :  Returns the mean of all columns\n",
    "          \n",
    "        df.corr( )       :  Returns the correlation between columns in a data frame\n",
    "          \n",
    "        df.count( )      :  Returns the number of non-null values in each data frame column\n",
    "          \n",
    "        df.max( )        :  Returns the highest value in each column\n",
    "          \n",
    "        df.min( )        :  Returns the lowest value in each column\n",
    "          \n",
    "        df.median( )     :  Returns the median of each column\n",
    "          \n",
    "        df.std( )        :  Returns the standard deviation of each column"
   ]
  },
  {
   "cell_type": "markdown",
   "metadata": {},
   "source": [
    "### 3. Selection of Data"
   ]
  },
  {
   "cell_type": "raw",
   "metadata": {},
   "source": [
    "\n",
    "        df[col]              :  can select a column and return column with label col as Series\n",
    "\n",
    "        df[col1, col2]       :  few columns and returns columns as a new DataFrame\n",
    "\n",
    "        s.iloc[0]            :  can select by position\n",
    "\n",
    "        s.loc[‘index_one’]   :  can select by index\n",
    "\n",
    "        df.iloc[0, : ]       :  to select the first row\n",
    "\n",
    "        df.iloc[0,0]         :  to select the first element of the first column\n"
   ]
  },
  {
   "cell_type": "markdown",
   "metadata": {},
   "source": [
    "### 4. Filter, Sort and Groupby"
   ]
  },
  {
   "cell_type": "raw",
   "metadata": {},
   "source": [
    "Filter :\n",
    "\n",
    "\n",
    "# You can use different conditions to filter columns.\n",
    "\n",
    "        df[df[year]] > 1984              :  give you only the column year is greater than 1984\n",
    "            \n",
    "        You can use & (and) or | (or) to add different conditions to your filtering. This is also called boolean filtering.\n"
   ]
  },
  {
   "cell_type": "raw",
   "metadata": {},
   "source": [
    "Sort :\n",
    "\n",
    "\n",
    "       df.sort_values(col1)                                      :    sort values in a certain column in an ascending order\n",
    "\n",
    "       df.sort_values(col2, ascending=False)                     :    descending order\n",
    "\n",
    "       df.sort_values([col1, col2], ascending=[True, False])     :    to sort values by col1 in ascending order then col2 in                                                                         \n",
    "                                                                      descending order\n"
   ]
  },
  {
   "cell_type": "raw",
   "metadata": {},
   "source": [
    "\n",
    "Groupby :\n",
    "              \n",
    "        \n",
    "    It involves splitting the data into groups based on some criteria, applying a function to each group independently\n",
    "    and combining the results into a data structure.\n",
    "    \n",
    "             df.groupby(col)                  :   returns a groupby object for values from one column\n",
    "        \n",
    "             df.groupby([col1, col2])         :  returns a groupby object for values from multiple columns\n"
   ]
  },
  {
   "cell_type": "markdown",
   "metadata": {},
   "source": [
    "### 5. Data Cleaning"
   ]
  },
  {
   "cell_type": "raw",
   "metadata": {},
   "source": [
    "\n",
    "# Data cleaning is a very important step in data analysis.\n",
    "\n",
    "\n",
    "     1. For example, we always check for missing values in the data.\n",
    "    \n",
    "            pd.isnull( )                           :   checks for null Values, and returns a boolean array\n",
    "            \n",
    "                                                       (an array of true for missing values and false for non-missing values)\n",
    "        \n",
    "            pd.isnull( ).sum( ).pd.notnull( )      :   sum of null / missing values & is the opposite of pd.isnull( )\n",
    "                \n",
    "                \n",
    "\n",
    "# After you get a list of missing values you can get rid of them, or drop them\n",
    "       \n",
    "    \n",
    "            df.dropna( )           :  to drop the rows\n",
    "       \n",
    "            df.dropna(axis=1)      :  to drop the columns\n",
    "            \n",
    "            \n",
    "\n",
    "# To fill the missing values with other values,\n",
    "\n",
    "\n",
    "            df.fillna(x)                :  fills the missing values with x (you can put there whatever you want)\n",
    "      \n",
    "            s.fillna(s.mean( ))         :  to replace all null values with the mean (mean can be replaced with almost\n",
    "                                                                                     \n",
    "                                           any function from the statistics section)\n",
    "                                           \n",
    "                                           \n",
    "\n",
    "# It is sometimes necessary to replace values with different values,\n",
    "\n",
    "\n",
    "            s.replace(1, ’one’)                  :  would replace all values equal to ‘1’ with ‘one’. \n",
    "     \n",
    "            s.replace([1,3],[‘one’,’three’])     :  It’s possible to do it for multiple values,\n",
    "                                                                          \n",
    "                                                    would replace all 1 with ‘one’ and 3 with ‘three’\n",
    "\n",
    "\n",
    "\n",
    "# You can also rename specific columns,\n",
    "\n",
    "\n",
    "            df.rename(columns={‘old_name’ : ’new_name’})\n",
    "            \n",
    "            \n",
    "\n",
    "# To change the index of the data frame,\n",
    "\n",
    "\n",
    "            df.set_index(‘column_one’)\n"
   ]
  },
  {
   "cell_type": "markdown",
   "metadata": {},
   "source": [
    "### 6. Join/Combine"
   ]
  },
  {
   "cell_type": "raw",
   "metadata": {},
   "source": [
    "\n",
    "# Set of basic Pandas commands are for joining or combining data frames, rows / columns.\n",
    "\n",
    "\n",
    "# The three commands are:\n",
    "       \n",
    "        \n",
    "        df1.append(df2)                            :    add the rows in df1 to the end of df2 (columns should be identical)\n",
    "       \n",
    "        df.concat([df1, df2], axis=1)              :    add the columns in df1 to the end of df2 (rows should be identical)\n",
    "       \n",
    "        df1.join(df2, on=col1, how=‘inner’         :    SQL-style join the columns in df1 with the columns on df2 where the \n",
    "        \n",
    "                                                        rows for col have identical values.\n",
    "\n",
    "\n",
    "* How can be equal to one of: ‘left’, ‘right’, ‘outer’, ‘inner’\n"
   ]
  },
  {
   "cell_type": "markdown",
   "metadata": {},
   "source": [
    "-------------------------------------------------------------------------------------------------------------------------------"
   ]
  },
  {
   "cell_type": "raw",
   "metadata": {},
   "source": [
    "DataFrame Details:\n",
    "    \n",
    "        \n",
    "        1. Index            -----  To get row names\n",
    "        \n",
    "        2. Columns          -----  To get column names\n",
    "        \n",
    "        3. Values\n",
    "        \n",
    "        4. Shape\n",
    "        \n",
    "        5. Size\n",
    "        \n",
    "        6. Statistics"
   ]
  },
  {
   "cell_type": "raw",
   "metadata": {},
   "source": [
    "#  get the column names of NYC data\n",
    "\n",
    "      df.columns.values\n",
    "\n",
    "\n",
    "# get the row names of NYC data\n",
    "\n",
    "      df.index.values"
   ]
  },
  {
   "cell_type": "raw",
   "metadata": {},
   "source": [
    "1. Cumulative Sum\n",
    "\n",
    "        cumsum()\n",
    "          \n",
    "          \n",
    "        #  Cumulative sum : value of each row is replaced by sum of all prior rows including this row.\n",
    "                    \n",
    "                            String value rows use concatenation as shown below.\n",
    "            \n",
    "            \n",
    "\n",
    "2. Cumulative Product\n",
    "\n",
    "         cumprod()\n",
    "          \n",
    "          \n",
    "         #  Cumulative product :  \n",
    "        \n",
    "                         Row value is replaced by product of all prior rows.\n",
    "\n",
    "                         This method is not applicable to non-numeric rows. \n",
    "\n",
    "                         If there are non-numeric rows in the DataFrame, you will need to extract a subset of the DataFrame.\n",
    "                    \n",
    "                    \n",
    "                    \n",
    "3. Cumulative Maximum \n",
    "\n",
    "          cummax()\n",
    "    \n",
    "\n",
    "          #  Cumulative max : \n",
    "        \n",
    "                    value of the row is replaced by the maximum value of all prior rows till now.\n",
    "\n",
    "                    Below example, for demonstrating this method, we use this method on reversed rows of original DataFrame.\n",
    "                \n",
    "                \n",
    "                \n",
    "4. Cumulative Minimum\n",
    "\n",
    "           cummin()\n",
    "    \n",
    "           #  Similar to cummax(), except computes the minimum of values till this row.\n",
    "        \n",
    "        \n",
    "        \n",
    "5. Index of Min and Max Values\n",
    "\n",
    "            #  Use the methods,\n",
    "\n",
    "             idxmin() and idxmax()\n",
    "          \n",
    "                        to obtain the index label of the rows containing minimum and maximum values.\n",
    "    \n",
    "                        Applicable only to numeric columns, so non-numeric columns need to be filtered out."
   ]
  },
  {
   "cell_type": "raw",
   "metadata": {},
   "source": [
    "\n",
    "Value_Counts\n",
    "\n",
    "        \n",
    "      # value_counts() : returns the number of times each value is repeated in the column.\n",
    "\n",
    "                         Note: this is not a DataFrame method; rather it is applicable on a column (which is a Series object)."
   ]
  },
  {
   "cell_type": "markdown",
   "metadata": {},
   "source": [
    "-------------------------------------------------------------------------------------------------------------------------------"
   ]
  },
  {
   "cell_type": "raw",
   "metadata": {},
   "source": [
    "Pandas Operations:\n",
    "    \n",
    "    \n",
    "    1. DataFrame\n",
    "    \n",
    "    2. Series\n",
    "    \n",
    "    3. Missing data\n",
    "    \n",
    "    4. Groupby\n",
    "    \n",
    "    5. Slicing the DataFrame\n",
    "    \n",
    "    6. Joining and Merging\n",
    "    \n",
    "    7. Concatenation\n",
    "    \n",
    "    8. Data Conversion\n",
    "    \n",
    "    9. Changing the Index\n",
    "    \n",
    "   10. Changing the column headers\n",
    "    \n",
    "   11. Data Munging"
   ]
  },
  {
   "cell_type": "code",
   "execution_count": null,
   "metadata": {},
   "outputs": [],
   "source": []
  }
 ],
 "metadata": {
  "kernelspec": {
   "display_name": "Python 3",
   "language": "python",
   "name": "python3"
  },
  "language_info": {
   "codemirror_mode": {
    "name": "ipython",
    "version": 3
   },
   "file_extension": ".py",
   "mimetype": "text/x-python",
   "name": "python",
   "nbconvert_exporter": "python",
   "pygments_lexer": "ipython3",
   "version": "3.7.3"
  }
 },
 "nbformat": 4,
 "nbformat_minor": 2
}
