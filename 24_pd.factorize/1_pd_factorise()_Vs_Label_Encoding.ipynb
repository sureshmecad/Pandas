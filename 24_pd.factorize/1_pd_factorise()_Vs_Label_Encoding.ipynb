{
 "cells": [
  {
   "cell_type": "markdown",
   "metadata": {
    "id": "W8og23a1_09l"
   },
   "source": [
    "- https://www.youtube.com/watch?v=RehA-5OjTN4"
   ]
  },
  {
   "cell_type": "markdown",
   "metadata": {
    "id": "ptGeaing_27N"
   },
   "source": [
    "-------------"
   ]
  },
  {
   "cell_type": "code",
   "execution_count": null,
   "metadata": {
    "colab": {
     "base_uri": "https://localhost:8080/"
    },
    "id": "89ov3xI3BEVr",
    "outputId": "06082c60-39b7-44e1-d307-52f97f70863f"
   },
   "outputs": [
    {
     "name": "stdout",
     "output_type": "stream",
     "text": [
      "Mounted at /content/drive\n"
     ]
    }
   ],
   "source": [
    "from google.colab import drive\n",
    "drive.mount('/content/drive')"
   ]
  },
  {
   "cell_type": "code",
   "execution_count": null,
   "metadata": {
    "id": "_5jbRSqLDdLO"
   },
   "outputs": [],
   "source": [
    "import pandas as pd"
   ]
  },
  {
   "cell_type": "code",
   "execution_count": null,
   "metadata": {
    "colab": {
     "base_uri": "https://localhost:8080/",
     "height": 202
    },
    "id": "u4qa2C_lDc_G",
    "outputId": "080510ba-d88d-42cc-fc56-0fcd5c694d09"
   },
   "outputs": [
    {
     "data": {
      "text/html": [
       "<div>\n",
       "<style scoped>\n",
       "    .dataframe tbody tr th:only-of-type {\n",
       "        vertical-align: middle;\n",
       "    }\n",
       "\n",
       "    .dataframe tbody tr th {\n",
       "        vertical-align: top;\n",
       "    }\n",
       "\n",
       "    .dataframe thead th {\n",
       "        text-align: right;\n",
       "    }\n",
       "</style>\n",
       "<table border=\"1\" class=\"dataframe\">\n",
       "  <thead>\n",
       "    <tr style=\"text-align: right;\">\n",
       "      <th></th>\n",
       "      <th>Age</th>\n",
       "      <th>Gender</th>\n",
       "      <th>AppointmentRegistration</th>\n",
       "      <th>ApointmentData</th>\n",
       "      <th>DayOfTheWeek</th>\n",
       "      <th>Status</th>\n",
       "      <th>Diabetes</th>\n",
       "      <th>Alcoolism</th>\n",
       "      <th>HiperTension</th>\n",
       "      <th>Handcap</th>\n",
       "      <th>Smokes</th>\n",
       "      <th>Scholarship</th>\n",
       "      <th>Tuberculosis</th>\n",
       "      <th>Sms_Reminder</th>\n",
       "      <th>AwaitingTime</th>\n",
       "    </tr>\n",
       "  </thead>\n",
       "  <tbody>\n",
       "    <tr>\n",
       "      <th>0</th>\n",
       "      <td>17</td>\n",
       "      <td>F</td>\n",
       "      <td>2014-03-26T14:11:55Z</td>\n",
       "      <td>2014-04-09T00:00:00Z</td>\n",
       "      <td>Wednesday</td>\n",
       "      <td>Show-Up</td>\n",
       "      <td>0</td>\n",
       "      <td>0</td>\n",
       "      <td>0</td>\n",
       "      <td>0</td>\n",
       "      <td>0</td>\n",
       "      <td>0</td>\n",
       "      <td>0</td>\n",
       "      <td>1</td>\n",
       "      <td>-14</td>\n",
       "    </tr>\n",
       "    <tr>\n",
       "      <th>1</th>\n",
       "      <td>21</td>\n",
       "      <td>F</td>\n",
       "      <td>2014-04-09T08:57:02Z</td>\n",
       "      <td>2014-04-17T00:00:00Z</td>\n",
       "      <td>Thursday</td>\n",
       "      <td>No-Show</td>\n",
       "      <td>0</td>\n",
       "      <td>0</td>\n",
       "      <td>0</td>\n",
       "      <td>0</td>\n",
       "      <td>0</td>\n",
       "      <td>0</td>\n",
       "      <td>0</td>\n",
       "      <td>0</td>\n",
       "      <td>-8</td>\n",
       "    </tr>\n",
       "    <tr>\n",
       "      <th>2</th>\n",
       "      <td>61</td>\n",
       "      <td>F</td>\n",
       "      <td>2015-10-07T07:26:45Z</td>\n",
       "      <td>2015-10-08T00:00:00Z</td>\n",
       "      <td>Thursday</td>\n",
       "      <td>Show-Up</td>\n",
       "      <td>1</td>\n",
       "      <td>0</td>\n",
       "      <td>1</td>\n",
       "      <td>0</td>\n",
       "      <td>0</td>\n",
       "      <td>1</td>\n",
       "      <td>0</td>\n",
       "      <td>0</td>\n",
       "      <td>-1</td>\n",
       "    </tr>\n",
       "    <tr>\n",
       "      <th>3</th>\n",
       "      <td>55</td>\n",
       "      <td>F</td>\n",
       "      <td>2015-11-13T07:19:33Z</td>\n",
       "      <td>2015-11-17T00:00:00Z</td>\n",
       "      <td>Tuesday</td>\n",
       "      <td>Show-Up</td>\n",
       "      <td>0</td>\n",
       "      <td>0</td>\n",
       "      <td>1</td>\n",
       "      <td>0</td>\n",
       "      <td>0</td>\n",
       "      <td>0</td>\n",
       "      <td>0</td>\n",
       "      <td>1</td>\n",
       "      <td>-4</td>\n",
       "    </tr>\n",
       "    <tr>\n",
       "      <th>4</th>\n",
       "      <td>9</td>\n",
       "      <td>F</td>\n",
       "      <td>2014-05-06T09:06:16Z</td>\n",
       "      <td>2014-06-12T00:00:00Z</td>\n",
       "      <td>Thursday</td>\n",
       "      <td>No-Show</td>\n",
       "      <td>0</td>\n",
       "      <td>0</td>\n",
       "      <td>0</td>\n",
       "      <td>1</td>\n",
       "      <td>0</td>\n",
       "      <td>0</td>\n",
       "      <td>0</td>\n",
       "      <td>1</td>\n",
       "      <td>-37</td>\n",
       "    </tr>\n",
       "  </tbody>\n",
       "</table>\n",
       "</div>"
      ],
      "text/plain": [
       "   Age Gender AppointmentRegistration  ... Tuberculosis Sms_Reminder AwaitingTime\n",
       "0   17      F    2014-03-26T14:11:55Z  ...            0            1          -14\n",
       "1   21      F    2014-04-09T08:57:02Z  ...            0            0           -8\n",
       "2   61      F    2015-10-07T07:26:45Z  ...            0            0           -1\n",
       "3   55      F    2015-11-13T07:19:33Z  ...            0            1           -4\n",
       "4    9      F    2014-05-06T09:06:16Z  ...            0            1          -37\n",
       "\n",
       "[5 rows x 15 columns]"
      ]
     },
     "execution_count": 3,
     "metadata": {},
     "output_type": "execute_result"
    }
   ],
   "source": [
    "df = pd.read_csv(\"/content/drive/MyDrive/Datasets/No-show-Issue-300k.csv.zip\", sep=\";\")\n",
    "df.head()"
   ]
  },
  {
   "cell_type": "markdown",
   "metadata": {
    "id": "emCfNTWuET5s"
   },
   "source": [
    "### **Encoding data**"
   ]
  },
  {
   "cell_type": "markdown",
   "metadata": {
    "id": "yBhnTR7c-w0K"
   },
   "source": [
    "### **pd.factorize()**"
   ]
  },
  {
   "cell_type": "markdown",
   "metadata": {
    "id": "K-ak1Gw3C80u"
   },
   "source": [
    "- If you are working with Machine Learning models, such categorical (text) data will do you no good. This data will need to be converted into a computer-readable format i.e. numbers. In technical terms, this is called encoding.\n",
    "\n",
    "- Pandas allows a very simple method for encoding such categorical variables."
   ]
  },
  {
   "cell_type": "code",
   "execution_count": null,
   "metadata": {
    "colab": {
     "base_uri": "https://localhost:8080/",
     "height": 202
    },
    "id": "hFh5c70AD_hg",
    "outputId": "4e7f1197-2282-407d-c1af-9257ad6a2b75"
   },
   "outputs": [
    {
     "data": {
      "text/html": [
       "<div>\n",
       "<style scoped>\n",
       "    .dataframe tbody tr th:only-of-type {\n",
       "        vertical-align: middle;\n",
       "    }\n",
       "\n",
       "    .dataframe tbody tr th {\n",
       "        vertical-align: top;\n",
       "    }\n",
       "\n",
       "    .dataframe thead th {\n",
       "        text-align: right;\n",
       "    }\n",
       "</style>\n",
       "<table border=\"1\" class=\"dataframe\">\n",
       "  <thead>\n",
       "    <tr style=\"text-align: right;\">\n",
       "      <th></th>\n",
       "      <th>Age</th>\n",
       "      <th>Gender</th>\n",
       "      <th>AppointmentRegistration</th>\n",
       "      <th>ApointmentData</th>\n",
       "      <th>DayOfTheWeek</th>\n",
       "      <th>Status</th>\n",
       "      <th>Diabetes</th>\n",
       "      <th>Alcoolism</th>\n",
       "      <th>HiperTension</th>\n",
       "      <th>Handcap</th>\n",
       "      <th>Smokes</th>\n",
       "      <th>Scholarship</th>\n",
       "      <th>Tuberculosis</th>\n",
       "      <th>Sms_Reminder</th>\n",
       "      <th>AwaitingTime</th>\n",
       "      <th>No-show-labels</th>\n",
       "    </tr>\n",
       "  </thead>\n",
       "  <tbody>\n",
       "    <tr>\n",
       "      <th>0</th>\n",
       "      <td>17</td>\n",
       "      <td>F</td>\n",
       "      <td>2014-03-26T14:11:55Z</td>\n",
       "      <td>2014-04-09T00:00:00Z</td>\n",
       "      <td>Wednesday</td>\n",
       "      <td>Show-Up</td>\n",
       "      <td>0</td>\n",
       "      <td>0</td>\n",
       "      <td>0</td>\n",
       "      <td>0</td>\n",
       "      <td>0</td>\n",
       "      <td>0</td>\n",
       "      <td>0</td>\n",
       "      <td>1</td>\n",
       "      <td>-14</td>\n",
       "      <td>0</td>\n",
       "    </tr>\n",
       "    <tr>\n",
       "      <th>1</th>\n",
       "      <td>21</td>\n",
       "      <td>F</td>\n",
       "      <td>2014-04-09T08:57:02Z</td>\n",
       "      <td>2014-04-17T00:00:00Z</td>\n",
       "      <td>Thursday</td>\n",
       "      <td>No-Show</td>\n",
       "      <td>0</td>\n",
       "      <td>0</td>\n",
       "      <td>0</td>\n",
       "      <td>0</td>\n",
       "      <td>0</td>\n",
       "      <td>0</td>\n",
       "      <td>0</td>\n",
       "      <td>0</td>\n",
       "      <td>-8</td>\n",
       "      <td>1</td>\n",
       "    </tr>\n",
       "    <tr>\n",
       "      <th>2</th>\n",
       "      <td>61</td>\n",
       "      <td>F</td>\n",
       "      <td>2015-10-07T07:26:45Z</td>\n",
       "      <td>2015-10-08T00:00:00Z</td>\n",
       "      <td>Thursday</td>\n",
       "      <td>Show-Up</td>\n",
       "      <td>1</td>\n",
       "      <td>0</td>\n",
       "      <td>1</td>\n",
       "      <td>0</td>\n",
       "      <td>0</td>\n",
       "      <td>1</td>\n",
       "      <td>0</td>\n",
       "      <td>0</td>\n",
       "      <td>-1</td>\n",
       "      <td>0</td>\n",
       "    </tr>\n",
       "    <tr>\n",
       "      <th>3</th>\n",
       "      <td>55</td>\n",
       "      <td>F</td>\n",
       "      <td>2015-11-13T07:19:33Z</td>\n",
       "      <td>2015-11-17T00:00:00Z</td>\n",
       "      <td>Tuesday</td>\n",
       "      <td>Show-Up</td>\n",
       "      <td>0</td>\n",
       "      <td>0</td>\n",
       "      <td>1</td>\n",
       "      <td>0</td>\n",
       "      <td>0</td>\n",
       "      <td>0</td>\n",
       "      <td>0</td>\n",
       "      <td>1</td>\n",
       "      <td>-4</td>\n",
       "      <td>0</td>\n",
       "    </tr>\n",
       "    <tr>\n",
       "      <th>4</th>\n",
       "      <td>9</td>\n",
       "      <td>F</td>\n",
       "      <td>2014-05-06T09:06:16Z</td>\n",
       "      <td>2014-06-12T00:00:00Z</td>\n",
       "      <td>Thursday</td>\n",
       "      <td>No-Show</td>\n",
       "      <td>0</td>\n",
       "      <td>0</td>\n",
       "      <td>0</td>\n",
       "      <td>1</td>\n",
       "      <td>0</td>\n",
       "      <td>0</td>\n",
       "      <td>0</td>\n",
       "      <td>1</td>\n",
       "      <td>-37</td>\n",
       "      <td>1</td>\n",
       "    </tr>\n",
       "  </tbody>\n",
       "</table>\n",
       "</div>"
      ],
      "text/plain": [
       "   Age Gender  ... AwaitingTime No-show-labels\n",
       "0   17      F  ...          -14              0\n",
       "1   21      F  ...           -8              1\n",
       "2   61      F  ...           -1              0\n",
       "3   55      F  ...           -4              0\n",
       "4    9      F  ...          -37              1\n",
       "\n",
       "[5 rows x 16 columns]"
      ]
     },
     "execution_count": 4,
     "metadata": {},
     "output_type": "execute_result"
    }
   ],
   "source": [
    "# encoding categorical variables\n",
    "df[\"No-show-labels\"] = pd.factorize(df[\"Status\"])[0]\n",
    "\n",
    "df.head()"
   ]
  },
  {
   "cell_type": "markdown",
   "metadata": {
    "id": "j4IjA8T8EdnD"
   },
   "source": [
    "- The **pd.factorise()** function simply **maps** all the unique values from the **“Status”** column to **integer representation**. Now the computer understands that 0 means No and 1 means Yes."
   ]
  },
  {
   "cell_type": "code",
   "execution_count": null,
   "metadata": {
    "colab": {
     "base_uri": "https://localhost:8080/"
    },
    "id": "ch0YCNfj5tvS",
    "outputId": "9743044a-970b-4363-e53b-3031af367483"
   },
   "outputs": [
    {
     "data": {
      "text/plain": [
       "0    209312\n",
       "1     90688\n",
       "Name: No-show-labels, dtype: int64"
      ]
     },
     "execution_count": 5,
     "metadata": {},
     "output_type": "execute_result"
    }
   ],
   "source": [
    "df[\"No-show-labels\"].value_counts()"
   ]
  },
  {
   "cell_type": "markdown",
   "metadata": {
    "id": "zfgpAfsR-4oi"
   },
   "source": [
    "### **Label Encoding**"
   ]
  },
  {
   "cell_type": "code",
   "execution_count": null,
   "metadata": {
    "id": "L2TeIKS--9tx"
   },
   "outputs": [],
   "source": [
    "from sklearn.preprocessing import LabelEncoder"
   ]
  },
  {
   "cell_type": "code",
   "execution_count": null,
   "metadata": {
    "id": "-5tFcpFb_KZz"
   },
   "outputs": [],
   "source": [
    "le = LabelEncoder()\n",
    "df['Status-le'] = le.fit_transform(df['Status'])"
   ]
  },
  {
   "cell_type": "code",
   "execution_count": null,
   "metadata": {
    "colab": {
     "base_uri": "https://localhost:8080/",
     "height": 202
    },
    "id": "9ARlfAz-_hxr",
    "outputId": "790a5760-b91a-4760-84b8-cfa7dd00cbb0"
   },
   "outputs": [
    {
     "data": {
      "text/html": [
       "<div>\n",
       "<style scoped>\n",
       "    .dataframe tbody tr th:only-of-type {\n",
       "        vertical-align: middle;\n",
       "    }\n",
       "\n",
       "    .dataframe tbody tr th {\n",
       "        vertical-align: top;\n",
       "    }\n",
       "\n",
       "    .dataframe thead th {\n",
       "        text-align: right;\n",
       "    }\n",
       "</style>\n",
       "<table border=\"1\" class=\"dataframe\">\n",
       "  <thead>\n",
       "    <tr style=\"text-align: right;\">\n",
       "      <th></th>\n",
       "      <th>Age</th>\n",
       "      <th>Gender</th>\n",
       "      <th>AppointmentRegistration</th>\n",
       "      <th>ApointmentData</th>\n",
       "      <th>DayOfTheWeek</th>\n",
       "      <th>Status</th>\n",
       "      <th>Diabetes</th>\n",
       "      <th>Alcoolism</th>\n",
       "      <th>HiperTension</th>\n",
       "      <th>Handcap</th>\n",
       "      <th>Smokes</th>\n",
       "      <th>Scholarship</th>\n",
       "      <th>Tuberculosis</th>\n",
       "      <th>Sms_Reminder</th>\n",
       "      <th>AwaitingTime</th>\n",
       "      <th>No-show-labels</th>\n",
       "      <th>Status-le</th>\n",
       "    </tr>\n",
       "  </thead>\n",
       "  <tbody>\n",
       "    <tr>\n",
       "      <th>0</th>\n",
       "      <td>17</td>\n",
       "      <td>F</td>\n",
       "      <td>2014-03-26T14:11:55Z</td>\n",
       "      <td>2014-04-09T00:00:00Z</td>\n",
       "      <td>Wednesday</td>\n",
       "      <td>Show-Up</td>\n",
       "      <td>0</td>\n",
       "      <td>0</td>\n",
       "      <td>0</td>\n",
       "      <td>0</td>\n",
       "      <td>0</td>\n",
       "      <td>0</td>\n",
       "      <td>0</td>\n",
       "      <td>1</td>\n",
       "      <td>-14</td>\n",
       "      <td>0</td>\n",
       "      <td>1</td>\n",
       "    </tr>\n",
       "    <tr>\n",
       "      <th>1</th>\n",
       "      <td>21</td>\n",
       "      <td>F</td>\n",
       "      <td>2014-04-09T08:57:02Z</td>\n",
       "      <td>2014-04-17T00:00:00Z</td>\n",
       "      <td>Thursday</td>\n",
       "      <td>No-Show</td>\n",
       "      <td>0</td>\n",
       "      <td>0</td>\n",
       "      <td>0</td>\n",
       "      <td>0</td>\n",
       "      <td>0</td>\n",
       "      <td>0</td>\n",
       "      <td>0</td>\n",
       "      <td>0</td>\n",
       "      <td>-8</td>\n",
       "      <td>1</td>\n",
       "      <td>0</td>\n",
       "    </tr>\n",
       "    <tr>\n",
       "      <th>2</th>\n",
       "      <td>61</td>\n",
       "      <td>F</td>\n",
       "      <td>2015-10-07T07:26:45Z</td>\n",
       "      <td>2015-10-08T00:00:00Z</td>\n",
       "      <td>Thursday</td>\n",
       "      <td>Show-Up</td>\n",
       "      <td>1</td>\n",
       "      <td>0</td>\n",
       "      <td>1</td>\n",
       "      <td>0</td>\n",
       "      <td>0</td>\n",
       "      <td>1</td>\n",
       "      <td>0</td>\n",
       "      <td>0</td>\n",
       "      <td>-1</td>\n",
       "      <td>0</td>\n",
       "      <td>1</td>\n",
       "    </tr>\n",
       "    <tr>\n",
       "      <th>3</th>\n",
       "      <td>55</td>\n",
       "      <td>F</td>\n",
       "      <td>2015-11-13T07:19:33Z</td>\n",
       "      <td>2015-11-17T00:00:00Z</td>\n",
       "      <td>Tuesday</td>\n",
       "      <td>Show-Up</td>\n",
       "      <td>0</td>\n",
       "      <td>0</td>\n",
       "      <td>1</td>\n",
       "      <td>0</td>\n",
       "      <td>0</td>\n",
       "      <td>0</td>\n",
       "      <td>0</td>\n",
       "      <td>1</td>\n",
       "      <td>-4</td>\n",
       "      <td>0</td>\n",
       "      <td>1</td>\n",
       "    </tr>\n",
       "    <tr>\n",
       "      <th>4</th>\n",
       "      <td>9</td>\n",
       "      <td>F</td>\n",
       "      <td>2014-05-06T09:06:16Z</td>\n",
       "      <td>2014-06-12T00:00:00Z</td>\n",
       "      <td>Thursday</td>\n",
       "      <td>No-Show</td>\n",
       "      <td>0</td>\n",
       "      <td>0</td>\n",
       "      <td>0</td>\n",
       "      <td>1</td>\n",
       "      <td>0</td>\n",
       "      <td>0</td>\n",
       "      <td>0</td>\n",
       "      <td>1</td>\n",
       "      <td>-37</td>\n",
       "      <td>1</td>\n",
       "      <td>0</td>\n",
       "    </tr>\n",
       "  </tbody>\n",
       "</table>\n",
       "</div>"
      ],
      "text/plain": [
       "   Age Gender AppointmentRegistration  ... AwaitingTime No-show-labels Status-le\n",
       "0   17      F    2014-03-26T14:11:55Z  ...          -14              0         1\n",
       "1   21      F    2014-04-09T08:57:02Z  ...           -8              1         0\n",
       "2   61      F    2015-10-07T07:26:45Z  ...           -1              0         1\n",
       "3   55      F    2015-11-13T07:19:33Z  ...           -4              0         1\n",
       "4    9      F    2014-05-06T09:06:16Z  ...          -37              1         0\n",
       "\n",
       "[5 rows x 17 columns]"
      ]
     },
     "execution_count": 9,
     "metadata": {},
     "output_type": "execute_result"
    }
   ],
   "source": [
    "df.head()"
   ]
  }
 ],
 "metadata": {
  "colab": {
   "collapsed_sections": [],
   "name": "1_pd.factorise() Vs Label-Encoding.ipynb",
   "provenance": []
  },
  "kernelspec": {
   "display_name": "Python 3",
   "language": "python",
   "name": "python3"
  },
  "language_info": {
   "codemirror_mode": {
    "name": "ipython",
    "version": 3
   },
   "file_extension": ".py",
   "mimetype": "text/x-python",
   "name": "python",
   "nbconvert_exporter": "python",
   "pygments_lexer": "ipython3",
   "version": "3.7.3"
  }
 },
 "nbformat": 4,
 "nbformat_minor": 1
}
